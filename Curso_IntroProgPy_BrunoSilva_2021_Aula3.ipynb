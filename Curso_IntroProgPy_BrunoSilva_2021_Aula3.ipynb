{
  "nbformat": 4,
  "nbformat_minor": 0,
  "metadata": {
    "colab": {
      "name": "Curso_IntroProgPy_BrunoSilva_2021_Aula3.ipynb",
      "provenance": [],
      "collapsed_sections": [],
      "toc_visible": true,
      "authorship_tag": "ABX9TyNc1PcxMpvQgYEQmcEmGe6T",
      "include_colab_link": true
    },
    "kernelspec": {
      "name": "python3",
      "display_name": "Python 3"
    },
    "language_info": {
      "name": "python"
    }
  },
  "cells": [
    {
      "cell_type": "markdown",
      "metadata": {
        "id": "view-in-github",
        "colab_type": "text"
      },
      "source": [
        "<a href=\"https://colab.research.google.com/github/bgsilva/curso-prog-python-09-2021/blob/main/Curso_IntroProgPy_BrunoSilva_2021_Aula3.ipynb\" target=\"_parent\"><img src=\"https://colab.research.google.com/assets/colab-badge.svg\" alt=\"Open In Colab\"/></a>"
      ]
    },
    {
      "cell_type": "markdown",
      "metadata": {
        "id": "5G9Ioe3ovHpZ"
      },
      "source": [
        "# Introdução à Lógica de Programação\n",
        "## Prof. Bruno Silva\n",
        "\n",
        "## Aula 3: Coleções\n",
        "\n",
        "* Listas \n",
        "* Tuplas\n",
        "* Dicionários \n",
        "* *Arrays*\n",
        "\n",
        "### 03/09/2021"
      ]
    },
    {
      "cell_type": "markdown",
      "metadata": {
        "id": "Y_ZhX2Jz-VDP"
      },
      "source": [
        "# Listas\n",
        "\n",
        "Listas são um tipo de variável que permite o armazenamento de vários valores,\n",
        "acessados por um índice. \n",
        "\n",
        "Uma lista pode conter zero ou mais elementos de um\n",
        "mesmo tipo ou de tipos diversos, podendo inclusive conter outras listas. \n",
        "\n",
        "O tamanho de uma lista é igual à quantidade de elementos que ela contém.\n",
        "\n",
        "Listas são entidades mutáveis"
      ]
    },
    {
      "cell_type": "code",
      "metadata": {
        "id": "-xjwV4X_kvYr"
      },
      "source": [
        "# Criando uma lista vazia \n",
        "\n",
        "L = []\n",
        "\n",
        "print(L)"
      ],
      "execution_count": null,
      "outputs": []
    },
    {
      "cell_type": "code",
      "metadata": {
        "id": "FLHLvOpNHYlq"
      },
      "source": [
        "type(L)"
      ],
      "execution_count": null,
      "outputs": []
    },
    {
      "cell_type": "markdown",
      "metadata": {
        "id": "QtFXlDOp-mHY"
      },
      "source": [
        "Os colchetes ([ ]) após o símbolo de igualdade servem para indicar que L é uma\n",
        "lista."
      ]
    },
    {
      "cell_type": "code",
      "metadata": {
        "id": "gZ6_5K7m-moF"
      },
      "source": [
        "# Lista com três elementos\n",
        "\n",
        "Z = [1, 2, 3]"
      ],
      "execution_count": null,
      "outputs": []
    },
    {
      "cell_type": "markdown",
      "metadata": {
        "id": "lq8QDaQK-pTh"
      },
      "source": [
        "Podemos usar a função **len** com listas. \n",
        "\n",
        "O valor retornado é igual ao número de elementos da lista.\n",
        "\n",
        "Logo, dizemos que o tamanho da lista Z é 3."
      ]
    },
    {
      "cell_type": "code",
      "metadata": {
        "id": "mGAzNU2e-5YR"
      },
      "source": [
        "len(Z)"
      ],
      "execution_count": null,
      "outputs": []
    },
    {
      "cell_type": "code",
      "metadata": {
        "id": "m0QjiUPY-5S4"
      },
      "source": [
        "type(Z)"
      ],
      "execution_count": null,
      "outputs": []
    },
    {
      "cell_type": "markdown",
      "metadata": {
        "id": "Bmd2R6GV_Mhi"
      },
      "source": [
        "Lista com elementos do tipo string"
      ]
    },
    {
      "cell_type": "code",
      "metadata": {
        "id": "DcreadKo-5Lk"
      },
      "source": [
        "lista_escritório = ['caneta', 'caderno', 'mesa', 'borracha']"
      ],
      "execution_count": null,
      "outputs": []
    },
    {
      "cell_type": "code",
      "metadata": {
        "id": "Bg5ZruILH0_O"
      },
      "source": [
        "len(lista_escritório)"
      ],
      "execution_count": null,
      "outputs": []
    },
    {
      "cell_type": "markdown",
      "metadata": {
        "id": "tfyMf-GB_OiA"
      },
      "source": [
        "Listas também podem conter tipos diferentes de variáveis"
      ]
    },
    {
      "cell_type": "code",
      "metadata": {
        "id": "AJsYLr-P-5Ei"
      },
      "source": [
        "lista_mista = [1, 'casa', 30, 40.5, 'árvore']\n",
        "len(lista_mista)"
      ],
      "execution_count": null,
      "outputs": []
    },
    {
      "cell_type": "markdown",
      "metadata": {
        "id": "bklpmNGW_UBa"
      },
      "source": [
        "Relembrando operações com índices em string"
      ]
    },
    {
      "cell_type": "code",
      "metadata": {
        "id": "5jfGB6aR_WDC"
      },
      "source": [
        "rua = 'Av. Getúlio Vargas'"
      ],
      "execution_count": null,
      "outputs": []
    },
    {
      "cell_type": "code",
      "metadata": {
        "id": "r0EwK3Fd_V_W"
      },
      "source": [
        "rua[0]"
      ],
      "execution_count": null,
      "outputs": []
    },
    {
      "cell_type": "code",
      "metadata": {
        "id": "H1HHTAnx_V8O"
      },
      "source": [
        "rua[10]"
      ],
      "execution_count": null,
      "outputs": []
    },
    {
      "cell_type": "code",
      "metadata": {
        "id": "l_iQ5050_V5E"
      },
      "source": [
        "rua[-1]"
      ],
      "execution_count": null,
      "outputs": []
    },
    {
      "cell_type": "code",
      "metadata": {
        "id": "9U8mtzxB_Vuf"
      },
      "source": [
        "rua[0:17]"
      ],
      "execution_count": null,
      "outputs": []
    },
    {
      "cell_type": "code",
      "metadata": {
        "id": "c4QRbHRf_ZfS"
      },
      "source": [
        "rua[5:10]"
      ],
      "execution_count": null,
      "outputs": []
    },
    {
      "cell_type": "markdown",
      "metadata": {
        "id": "N5DL3XjY_T90"
      },
      "source": [
        "## Acessando os elementos de uma lista\n",
        "\n",
        "O acesso aos elementos de uma lista é feito através de um índice, índice cujo a numeração começa do zero.\n",
        "\n",
        "<img src=\"https://miro.medium.com/max/1110/1*bsIn4oKr3nDMcmp4JXiQzQ.png\" alt=\"Drawing\" style=\"width: 900px\"/>"
      ]
    },
    {
      "cell_type": "code",
      "metadata": {
        "id": "job5UYtf-43i"
      },
      "source": [
        "lista_python = ['P', 'Y', 'T', 'H', 'O', 'N']"
      ],
      "execution_count": null,
      "outputs": []
    },
    {
      "cell_type": "code",
      "metadata": {
        "id": "sDKywyCF_nQN"
      },
      "source": [
        "lista_python[0]"
      ],
      "execution_count": null,
      "outputs": []
    },
    {
      "cell_type": "code",
      "metadata": {
        "id": "EH954aOw_oU2"
      },
      "source": [
        "lista_python[1]"
      ],
      "execution_count": null,
      "outputs": []
    },
    {
      "cell_type": "code",
      "metadata": {
        "id": "WRTiP6k1_pfp"
      },
      "source": [
        "lista_python[6]"
      ],
      "execution_count": null,
      "outputs": []
    },
    {
      "cell_type": "code",
      "metadata": {
        "id": "sVwxAti1_tEp"
      },
      "source": [
        "lista_python[5]"
      ],
      "execution_count": null,
      "outputs": []
    },
    {
      "cell_type": "code",
      "metadata": {
        "id": "IHHhcNHO_t5i"
      },
      "source": [
        "lista_python[-1]"
      ],
      "execution_count": null,
      "outputs": []
    },
    {
      "cell_type": "code",
      "metadata": {
        "id": "hhwwacRS_vDl"
      },
      "source": [
        "lista_python[-3]"
      ],
      "execution_count": null,
      "outputs": []
    },
    {
      "cell_type": "code",
      "metadata": {
        "id": "5yEeL-Vn_wdV"
      },
      "source": [
        "lista_python[-6]"
      ],
      "execution_count": null,
      "outputs": []
    },
    {
      "cell_type": "markdown",
      "metadata": {
        "id": "MOhSl2D8_1Ib"
      },
      "source": [
        "Outra lista"
      ]
    },
    {
      "cell_type": "code",
      "metadata": {
        "id": "MBZ01kz7AIdj"
      },
      "source": [
        "lista = [0, 2, 4, 6]"
      ],
      "execution_count": null,
      "outputs": []
    },
    {
      "cell_type": "code",
      "metadata": {
        "id": "15mosHwiAJuq"
      },
      "source": [
        "lista[0]"
      ],
      "execution_count": null,
      "outputs": []
    },
    {
      "cell_type": "code",
      "metadata": {
        "id": "kCYVL0cUAKWf"
      },
      "source": [
        "lista[1]"
      ],
      "execution_count": null,
      "outputs": []
    },
    {
      "cell_type": "code",
      "metadata": {
        "id": "grLYx9KwAKTt"
      },
      "source": [
        "lista[-3]"
      ],
      "execution_count": null,
      "outputs": []
    },
    {
      "cell_type": "code",
      "metadata": {
        "id": "KwFnZP5iAKQF"
      },
      "source": [
        "lista[-1]"
      ],
      "execution_count": null,
      "outputs": []
    },
    {
      "cell_type": "code",
      "metadata": {
        "id": "WWzG2ajFAKMj"
      },
      "source": [
        "lista[-1] == lista[-3]"
      ],
      "execution_count": null,
      "outputs": []
    },
    {
      "cell_type": "code",
      "metadata": {
        "id": "fVDfaxnWJuun"
      },
      "source": [
        "lista[-1] = 'A'"
      ],
      "execution_count": null,
      "outputs": []
    },
    {
      "cell_type": "code",
      "metadata": {
        "id": "bshbvXjHJ18e"
      },
      "source": [
        "lista"
      ],
      "execution_count": null,
      "outputs": []
    },
    {
      "cell_type": "code",
      "metadata": {
        "id": "3Nrev2k5AKJF"
      },
      "source": [
        "lista[1] = lista[-3]"
      ],
      "execution_count": null,
      "outputs": []
    },
    {
      "cell_type": "code",
      "metadata": {
        "id": "t8pQGy24Ajzx"
      },
      "source": [
        "lista"
      ],
      "execution_count": null,
      "outputs": []
    },
    {
      "cell_type": "code",
      "metadata": {
        "id": "mbJDUzBxKEIn"
      },
      "source": [
        "lista[1] = lista[-2]"
      ],
      "execution_count": null,
      "outputs": []
    },
    {
      "cell_type": "code",
      "metadata": {
        "id": "1TVMjFGrKJPt"
      },
      "source": [
        "lista"
      ],
      "execution_count": null,
      "outputs": []
    },
    {
      "cell_type": "markdown",
      "metadata": {
        "id": "VjQwOScs6jH2"
      },
      "source": [
        "## Modificação de uma lista"
      ]
    },
    {
      "cell_type": "code",
      "metadata": {
        "id": "d7VlMtc36mgW"
      },
      "source": [
        "lista = [0, 2, 4, 6]"
      ],
      "execution_count": null,
      "outputs": []
    },
    {
      "cell_type": "code",
      "metadata": {
        "id": "n_eK4-A46pUN"
      },
      "source": [
        "lista[0] = -20"
      ],
      "execution_count": null,
      "outputs": []
    },
    {
      "cell_type": "code",
      "metadata": {
        "id": "OxtbnWl36sUU",
        "colab": {
          "base_uri": "https://localhost:8080/"
        },
        "outputId": "8481445e-5c8d-4ad8-e573-6c1ac7e5790c"
      },
      "source": [
        "lista"
      ],
      "execution_count": null,
      "outputs": [
        {
          "output_type": "execute_result",
          "data": {
            "text/plain": [
              "[-20, 2, 4, 6]"
            ]
          },
          "metadata": {},
          "execution_count": 4
        }
      ]
    },
    {
      "cell_type": "code",
      "metadata": {
        "id": "kzZCknWCQmc1"
      },
      "source": [
        "lista[1] = lista[-2]"
      ],
      "execution_count": null,
      "outputs": []
    },
    {
      "cell_type": "code",
      "metadata": {
        "id": "ko7B9ec_AOLw",
        "colab": {
          "base_uri": "https://localhost:8080/"
        },
        "outputId": "c57e0455-991f-41a8-f650-a793c473ba1a"
      },
      "source": [
        "lista"
      ],
      "execution_count": null,
      "outputs": [
        {
          "output_type": "execute_result",
          "data": {
            "text/plain": [
              "[-20, 4, 4, 6]"
            ]
          },
          "metadata": {},
          "execution_count": 6
        }
      ]
    },
    {
      "cell_type": "markdown",
      "metadata": {
        "id": "eejFA1XXAPG_"
      },
      "source": [
        "## Cópia e fatiamento de listas\n",
        "\n",
        "Embora listas em Python sejam um recurso muito poderoso, todo poder traz\n",
        "responsabilidades. Um dos efeitos colaterais de listas aparece quando tentamos\n",
        "fazer cópias.\n",
        "\n",
        "Vejamos o código abaixo"
      ]
    },
    {
      "cell_type": "code",
      "metadata": {
        "id": "N6Ai6begAcgo"
      },
      "source": [
        "# Tentativa de copiar listas\n",
        "\n",
        "L = [1,2,3,4,5]"
      ],
      "execution_count": null,
      "outputs": []
    },
    {
      "cell_type": "code",
      "metadata": {
        "id": "PHsh_3lkAng_"
      },
      "source": [
        "V = L"
      ],
      "execution_count": null,
      "outputs": []
    },
    {
      "cell_type": "code",
      "metadata": {
        "id": "11chor10Aner",
        "colab": {
          "base_uri": "https://localhost:8080/"
        },
        "outputId": "9837d6a7-a5a0-4792-8898-0663192588e1"
      },
      "source": [
        "L"
      ],
      "execution_count": null,
      "outputs": [
        {
          "output_type": "execute_result",
          "data": {
            "text/plain": [
              "[1, 2, 3, 4, 5]"
            ]
          },
          "metadata": {},
          "execution_count": 10
        }
      ]
    },
    {
      "cell_type": "code",
      "metadata": {
        "id": "6xr2QYbJAnXj",
        "colab": {
          "base_uri": "https://localhost:8080/"
        },
        "outputId": "aed85b6d-8b00-481f-98a5-94f57cfa2e3b"
      },
      "source": [
        "V"
      ],
      "execution_count": null,
      "outputs": [
        {
          "output_type": "execute_result",
          "data": {
            "text/plain": [
              "[1, 2, 3, 4, 5]"
            ]
          },
          "metadata": {},
          "execution_count": 11
        }
      ]
    },
    {
      "cell_type": "code",
      "metadata": {
        "id": "uT3-QRBCAnPH"
      },
      "source": [
        "V[0] = 6"
      ],
      "execution_count": null,
      "outputs": []
    },
    {
      "cell_type": "code",
      "metadata": {
        "id": "lX72YM3iAnMi",
        "colab": {
          "base_uri": "https://localhost:8080/"
        },
        "outputId": "fadd8df9-4660-44c7-cde3-9bcb85cb1480"
      },
      "source": [
        "V"
      ],
      "execution_count": null,
      "outputs": [
        {
          "output_type": "execute_result",
          "data": {
            "text/plain": [
              "[6, 2, 3, 4, 5]"
            ]
          },
          "metadata": {},
          "execution_count": 14
        }
      ]
    },
    {
      "cell_type": "code",
      "metadata": {
        "id": "ZOnsdyAoAnHn",
        "colab": {
          "base_uri": "https://localhost:8080/"
        },
        "outputId": "b9f17854-e8a2-4802-a373-c189c365dbbb"
      },
      "source": [
        "L"
      ],
      "execution_count": null,
      "outputs": [
        {
          "output_type": "execute_result",
          "data": {
            "text/plain": [
              "[6, 2, 3, 4, 5]"
            ]
          },
          "metadata": {},
          "execution_count": 15
        }
      ]
    },
    {
      "cell_type": "markdown",
      "metadata": {
        "id": "VZUTnVs8Ay4Y"
      },
      "source": [
        "Veja que, ao modificarmos V , modificamos também o conteúdo de L. \n",
        "\n",
        "Isso porque uma lista em Python é um objeto e, quando atribuímos um objeto a outro, estamos apenas copiando a mesma referência da lista, e não seus dados em si. \n",
        "\n",
        "Nesse caso, V funciona como um apelido de L, ou seja, V e L são a mesma lista.\n",
        "\n",
        "Dependendo da aplicação, esse efeito pode ser desejado ou não. \n",
        "\n",
        "Para criar uma cópia independente de uma lista, utilizaremos outra sintaxe."
      ]
    },
    {
      "cell_type": "code",
      "metadata": {
        "id": "A_85d6vpAnDi"
      },
      "source": [
        "# Cópia de listas\n",
        "\n",
        "L = [1, 2, 3, 4, 5]"
      ],
      "execution_count": null,
      "outputs": []
    },
    {
      "cell_type": "code",
      "metadata": {
        "id": "7niS1hKZBIRr"
      },
      "source": [
        "V = L[:]"
      ],
      "execution_count": null,
      "outputs": []
    },
    {
      "cell_type": "code",
      "metadata": {
        "id": "qRMGPpPCBIKI"
      },
      "source": [
        "V[0] = 6"
      ],
      "execution_count": null,
      "outputs": []
    },
    {
      "cell_type": "code",
      "metadata": {
        "id": "KwEgdKFIT0bm",
        "colab": {
          "base_uri": "https://localhost:8080/"
        },
        "outputId": "2385ab56-4661-4baa-eadf-d5de34d310a5"
      },
      "source": [
        "V"
      ],
      "execution_count": null,
      "outputs": [
        {
          "output_type": "execute_result",
          "data": {
            "text/plain": [
              "[6, 2, 3, 4, 5]"
            ]
          },
          "metadata": {},
          "execution_count": 20
        }
      ]
    },
    {
      "cell_type": "code",
      "metadata": {
        "id": "JoXajbo2BIGv",
        "colab": {
          "base_uri": "https://localhost:8080/"
        },
        "outputId": "3a9d9c77-f24f-4e1a-ac48-ffee87a218a1"
      },
      "source": [
        "L"
      ],
      "execution_count": null,
      "outputs": [
        {
          "output_type": "execute_result",
          "data": {
            "text/plain": [
              "[1, 2, 3, 4, 5]"
            ]
          },
          "metadata": {},
          "execution_count": 21
        }
      ]
    },
    {
      "cell_type": "markdown",
      "metadata": {
        "id": "eDnh0TmBBRLM"
      },
      "source": [
        "Ao escrevermos L[:] , estamos nos referindo a uma nova cópia de L . Assim L e V se referem a áreas diferentes na memória, permitindo alterá-las de forma independente."
      ]
    },
    {
      "cell_type": "markdown",
      "metadata": {
        "id": "RFM4yEigBgjT"
      },
      "source": [
        "Podemos também fatiar uma lista, da mesma forma que fizemos com strings."
      ]
    },
    {
      "cell_type": "code",
      "metadata": {
        "id": "Wm7XdwM6Bjar"
      },
      "source": [
        "# Fatiamento de listas\n",
        "\n",
        "L = [1, 2, 3, 4, 5]"
      ],
      "execution_count": null,
      "outputs": []
    },
    {
      "cell_type": "code",
      "metadata": {
        "id": "EZQcIZ3JBjVa",
        "colab": {
          "base_uri": "https://localhost:8080/"
        },
        "outputId": "d39a1877-ed4d-4a29-805e-1bf181208cf3"
      },
      "source": [
        "L[0:5]"
      ],
      "execution_count": null,
      "outputs": [
        {
          "output_type": "execute_result",
          "data": {
            "text/plain": [
              "[1, 2, 3, 4, 5]"
            ]
          },
          "metadata": {},
          "execution_count": 23
        }
      ]
    },
    {
      "cell_type": "code",
      "metadata": {
        "id": "REdt8BwxBjR5"
      },
      "source": [
        "L[:-1]"
      ],
      "execution_count": null,
      "outputs": []
    },
    {
      "cell_type": "code",
      "metadata": {
        "id": "A7aKdkfWU_X5"
      },
      "source": [
        "L[0:-1]"
      ],
      "execution_count": null,
      "outputs": []
    },
    {
      "cell_type": "code",
      "metadata": {
        "id": "fJruQ7XwMBfJ"
      },
      "source": [
        "L[0:]"
      ],
      "execution_count": null,
      "outputs": []
    },
    {
      "cell_type": "code",
      "metadata": {
        "id": "pGIg4yyUBr9v"
      },
      "source": [
        "L[1:3]"
      ],
      "execution_count": null,
      "outputs": []
    },
    {
      "cell_type": "code",
      "metadata": {
        "id": "cDHj5Y-hBvL7"
      },
      "source": [
        "L[1:4]"
      ],
      "execution_count": null,
      "outputs": []
    },
    {
      "cell_type": "code",
      "metadata": {
        "id": "dGl9xbdPBvHG"
      },
      "source": [
        "L[3:]"
      ],
      "execution_count": null,
      "outputs": []
    },
    {
      "cell_type": "code",
      "metadata": {
        "id": "CRU0Rry0BvA2"
      },
      "source": [
        "L[:3]"
      ],
      "execution_count": null,
      "outputs": []
    },
    {
      "cell_type": "code",
      "metadata": {
        "id": "LaTGQ7GHB3qb"
      },
      "source": [
        "L[-1]"
      ],
      "execution_count": null,
      "outputs": []
    },
    {
      "cell_type": "code",
      "metadata": {
        "id": "l9f5CG2WBu41"
      },
      "source": [
        "L[-3]"
      ],
      "execution_count": null,
      "outputs": []
    },
    {
      "cell_type": "markdown",
      "metadata": {
        "id": "UukGURkQB9P6"
      },
      "source": [
        "Veja que índices negativos também funcionam. Um índice negativo começa a contar do último elemento, mas observe que começamos de -1 . Assim L[0] representa o primeiro elemento; L[-1], o último; L[-2], o penúltimo, e assim por diante."
      ]
    },
    {
      "cell_type": "markdown",
      "metadata": {
        "id": "s4419X_mCVpF"
      },
      "source": [
        "## Adição de elementos\n",
        "\n",
        "Uma das principais vantagens de trabalharmos com listas é poder adicionar novos\n",
        "elementos durante a execução do programa.\n",
        "\n",
        "Para adicionar um elemento ao fim da lista, utilizaremos o método **append**. \n",
        "\n",
        "Em Python, chamamos um método escrevendo o nome dele após o nome do objeto.\n",
        "Como listas são objetos, sendo L a lista, teremos L.append(valor). \n",
        "\n",
        "Métodos são recursos de orientação a objetos, suportados e muito usados em Python. Você pode imaginar um método como uma função do objeto. Quando invocado, ele já sabe a que objeto estamos nos referindo, pois o informamos à esquerda do ponto."
      ]
    },
    {
      "cell_type": "code",
      "metadata": {
        "id": "K57QzVZ4CvqN"
      },
      "source": [
        "# Adição de elementos à lista\n",
        "\n",
        "L = []"
      ],
      "execution_count": null,
      "outputs": []
    },
    {
      "cell_type": "code",
      "metadata": {
        "id": "JOCz54jpCvm6"
      },
      "source": [
        "L.append('a')"
      ],
      "execution_count": null,
      "outputs": []
    },
    {
      "cell_type": "code",
      "metadata": {
        "id": "RY8JRq42Cvjv",
        "colab": {
          "base_uri": "https://localhost:8080/"
        },
        "outputId": "6450b367-88c2-4462-826c-8db0e5744efc"
      },
      "source": [
        "L"
      ],
      "execution_count": null,
      "outputs": [
        {
          "output_type": "execute_result",
          "data": {
            "text/plain": [
              "['a']"
            ]
          },
          "metadata": {},
          "execution_count": 26
        }
      ]
    },
    {
      "cell_type": "code",
      "metadata": {
        "id": "nnUCoL3IC4Zi"
      },
      "source": [
        "L.append('b')"
      ],
      "execution_count": null,
      "outputs": []
    },
    {
      "cell_type": "code",
      "metadata": {
        "id": "2AYIQoFhC4dZ",
        "colab": {
          "base_uri": "https://localhost:8080/"
        },
        "outputId": "f7fc0fa1-28c3-4be9-9558-19eefab99110"
      },
      "source": [
        "L"
      ],
      "execution_count": null,
      "outputs": [
        {
          "output_type": "execute_result",
          "data": {
            "text/plain": [
              "['a', 'b']"
            ]
          },
          "metadata": {},
          "execution_count": 28
        }
      ]
    },
    {
      "cell_type": "code",
      "metadata": {
        "id": "00ZGH3fmC8Zs"
      },
      "source": [
        "L.append('c')"
      ],
      "execution_count": null,
      "outputs": []
    },
    {
      "cell_type": "code",
      "metadata": {
        "id": "JBqGICDMC8Oe",
        "colab": {
          "base_uri": "https://localhost:8080/"
        },
        "outputId": "df73cc78-2e97-4c8f-ab5f-c0fbbb9da7d3"
      },
      "source": [
        "L"
      ],
      "execution_count": null,
      "outputs": [
        {
          "output_type": "execute_result",
          "data": {
            "text/plain": [
              "['a', 'b', 'c']"
            ]
          },
          "metadata": {},
          "execution_count": 30
        }
      ]
    },
    {
      "cell_type": "code",
      "metadata": {
        "id": "lR8a8ObNYBWF"
      },
      "source": [
        "L.append(1)"
      ],
      "execution_count": null,
      "outputs": []
    },
    {
      "cell_type": "code",
      "metadata": {
        "colab": {
          "base_uri": "https://localhost:8080/"
        },
        "id": "ZzwxhjNnNrQ4",
        "outputId": "57aa9ce2-a0e4-49b4-8917-d7810f9d7c8a"
      },
      "source": [
        "L"
      ],
      "execution_count": null,
      "outputs": [
        {
          "output_type": "execute_result",
          "data": {
            "text/plain": [
              "['a', 'b', 'c', 1]"
            ]
          },
          "metadata": {},
          "execution_count": 32
        }
      ]
    },
    {
      "cell_type": "code",
      "metadata": {
        "id": "WNAPY8FBYJ2y"
      },
      "source": [
        "L.append(2.5)"
      ],
      "execution_count": null,
      "outputs": []
    },
    {
      "cell_type": "code",
      "metadata": {
        "id": "NnFuCLp7YEEG",
        "colab": {
          "base_uri": "https://localhost:8080/"
        },
        "outputId": "ece83273-16bc-447a-b24e-6fda8536ff5d"
      },
      "source": [
        "L"
      ],
      "execution_count": null,
      "outputs": [
        {
          "output_type": "execute_result",
          "data": {
            "text/plain": [
              "['a', 'b', 'c', 1, 2.5]"
            ]
          },
          "metadata": {},
          "execution_count": 34
        }
      ]
    },
    {
      "cell_type": "code",
      "metadata": {
        "id": "KjNbfL6EYLWr"
      },
      "source": [
        "L.append(True)"
      ],
      "execution_count": null,
      "outputs": []
    },
    {
      "cell_type": "code",
      "metadata": {
        "id": "bjhtaWdqYOh5",
        "colab": {
          "base_uri": "https://localhost:8080/"
        },
        "outputId": "44b41dce-f88c-4fa4-9c71-3ef7035a14f3"
      },
      "source": [
        "L"
      ],
      "execution_count": null,
      "outputs": [
        {
          "output_type": "execute_result",
          "data": {
            "text/plain": [
              "['a', 'b', 'c', 1, 2.5, True]"
            ]
          },
          "metadata": {},
          "execution_count": 36
        }
      ]
    },
    {
      "cell_type": "markdown",
      "metadata": {
        "id": "7Yr9b5-pDbZN"
      },
      "source": [
        "Quando adicionamos apenas um elemento, tanto L.append(1) quanto L+[1] produzem\n",
        "o mesmo resultado. \n",
        "\n",
        "Perceba que em L+[1] escrevemos o elemento a adicionar dentro de uma lista ([1]), e que, em append, apenas 1.\n",
        "\n",
        "Isso porque, quando adicionamos uma lista a outra, o interpretador executa um método chamado **extend** que adiciona os elementos de uma lista a outra."
      ]
    },
    {
      "cell_type": "code",
      "metadata": {
        "id": "BdjJD72bDif8"
      },
      "source": [
        "# Adição de listas\n",
        "\n",
        "L = []"
      ],
      "execution_count": null,
      "outputs": []
    },
    {
      "cell_type": "code",
      "metadata": {
        "id": "NFHbl0smDiX6"
      },
      "source": [
        "L = L + [1]"
      ],
      "execution_count": null,
      "outputs": []
    },
    {
      "cell_type": "code",
      "metadata": {
        "id": "iHHvPLDJDm-U",
        "colab": {
          "base_uri": "https://localhost:8080/"
        },
        "outputId": "32223eb8-dfb5-4158-90bd-1d7eb2763177"
      },
      "source": [
        "L"
      ],
      "execution_count": null,
      "outputs": [
        {
          "output_type": "execute_result",
          "data": {
            "text/plain": [
              "[1]"
            ]
          },
          "metadata": {},
          "execution_count": 39
        }
      ]
    },
    {
      "cell_type": "code",
      "metadata": {
        "id": "dF2eXpUXOPMx"
      },
      "source": [
        "L = L + [2]"
      ],
      "execution_count": null,
      "outputs": []
    },
    {
      "cell_type": "code",
      "metadata": {
        "colab": {
          "base_uri": "https://localhost:8080/"
        },
        "id": "M1rIlfpXcTEZ",
        "outputId": "9767a63d-dd16-401f-9b87-73302cc56892"
      },
      "source": [
        "L"
      ],
      "execution_count": null,
      "outputs": [
        {
          "output_type": "execute_result",
          "data": {
            "text/plain": [
              "[1, 2]"
            ]
          },
          "metadata": {},
          "execution_count": 41
        }
      ]
    },
    {
      "cell_type": "code",
      "metadata": {
        "id": "uzmnjqkMDm7h"
      },
      "source": [
        "L += [3]"
      ],
      "execution_count": null,
      "outputs": []
    },
    {
      "cell_type": "code",
      "metadata": {
        "id": "btAjGDRmDm4E",
        "colab": {
          "base_uri": "https://localhost:8080/"
        },
        "outputId": "606331fe-2037-4e0e-856a-7126e6ea5a39"
      },
      "source": [
        "L"
      ],
      "execution_count": null,
      "outputs": [
        {
          "output_type": "execute_result",
          "data": {
            "text/plain": [
              "[1, 2, 3]"
            ]
          },
          "metadata": {},
          "execution_count": 43
        }
      ]
    },
    {
      "cell_type": "code",
      "metadata": {
        "id": "_s3HPyhpDm1f"
      },
      "source": [
        "L += [3,4,5]"
      ],
      "execution_count": null,
      "outputs": []
    },
    {
      "cell_type": "code",
      "metadata": {
        "id": "H5zn0SNCDmoO",
        "colab": {
          "base_uri": "https://localhost:8080/"
        },
        "outputId": "70dd164d-9774-4e23-8b17-150b489db42f"
      },
      "source": [
        "L"
      ],
      "execution_count": null,
      "outputs": [
        {
          "output_type": "execute_result",
          "data": {
            "text/plain": [
              "[1, 2, 3, 3, 4, 5]"
            ]
          },
          "metadata": {},
          "execution_count": 45
        }
      ]
    },
    {
      "cell_type": "code",
      "metadata": {
        "id": "S_zf4v7nEFlX"
      },
      "source": [
        "# Adição de elementos e listas\n",
        "\n",
        "L = [\"a\"]"
      ],
      "execution_count": null,
      "outputs": []
    },
    {
      "cell_type": "code",
      "metadata": {
        "id": "FOZIUP53ES9a"
      },
      "source": [
        "L.append(\"b\")"
      ],
      "execution_count": null,
      "outputs": []
    },
    {
      "cell_type": "code",
      "metadata": {
        "id": "vcoEQyzMES63",
        "colab": {
          "base_uri": "https://localhost:8080/"
        },
        "outputId": "a18b9b11-f362-4090-cc19-831b53cfdabf"
      },
      "source": [
        "L"
      ],
      "execution_count": null,
      "outputs": [
        {
          "output_type": "execute_result",
          "data": {
            "text/plain": [
              "['a', 'b']"
            ]
          },
          "metadata": {},
          "execution_count": 49
        }
      ]
    },
    {
      "cell_type": "code",
      "metadata": {
        "id": "NLNdcl58ESxf"
      },
      "source": [
        "L.append([\"d\",\"e\"])"
      ],
      "execution_count": null,
      "outputs": []
    },
    {
      "cell_type": "code",
      "metadata": {
        "id": "K-G1tT9VyBrv",
        "colab": {
          "base_uri": "https://localhost:8080/"
        },
        "outputId": "bea7e6b1-98b4-49f7-f6b3-153ba6bba722"
      },
      "source": [
        "L"
      ],
      "execution_count": null,
      "outputs": [
        {
          "output_type": "execute_result",
          "data": {
            "text/plain": [
              "['a', 'b', ['d', 'e']]"
            ]
          },
          "metadata": {},
          "execution_count": 51
        }
      ]
    },
    {
      "cell_type": "code",
      "metadata": {
        "id": "mKaSp205yFln",
        "colab": {
          "base_uri": "https://localhost:8080/"
        },
        "outputId": "4454c8d2-560d-4418-bc1e-28658a35cc1f"
      },
      "source": [
        "len(L)"
      ],
      "execution_count": null,
      "outputs": [
        {
          "output_type": "execute_result",
          "data": {
            "text/plain": [
              "3"
            ]
          },
          "metadata": {},
          "execution_count": 52
        }
      ]
    },
    {
      "cell_type": "markdown",
      "metadata": {
        "id": "wK4YT6VcdBZc"
      },
      "source": [
        "Método *extend*"
      ]
    },
    {
      "cell_type": "code",
      "metadata": {
        "id": "MOPkadwodFyd"
      },
      "source": [
        "L = []"
      ],
      "execution_count": null,
      "outputs": []
    },
    {
      "cell_type": "code",
      "metadata": {
        "id": "9JnZAozyES3u"
      },
      "source": [
        "L.extend([\"f\"])"
      ],
      "execution_count": null,
      "outputs": []
    },
    {
      "cell_type": "code",
      "metadata": {
        "id": "TKU4fIcyES0o",
        "colab": {
          "base_uri": "https://localhost:8080/"
        },
        "outputId": "073158c3-cbfd-4e7d-8f0c-fe39fa4ed149"
      },
      "source": [
        "L"
      ],
      "execution_count": null,
      "outputs": [
        {
          "output_type": "execute_result",
          "data": {
            "text/plain": [
              "['f']"
            ]
          },
          "metadata": {},
          "execution_count": 55
        }
      ]
    },
    {
      "cell_type": "code",
      "metadata": {
        "id": "YTh1aEv-a6eC"
      },
      "source": [
        "L.extend([\"f\", \"g\", \"h\"])"
      ],
      "execution_count": null,
      "outputs": []
    },
    {
      "cell_type": "code",
      "metadata": {
        "id": "9ksyePDqEcBm",
        "colab": {
          "base_uri": "https://localhost:8080/"
        },
        "outputId": "ab7dc2b5-a3ce-454e-eee2-d16b124db0a0"
      },
      "source": [
        "L"
      ],
      "execution_count": null,
      "outputs": [
        {
          "output_type": "execute_result",
          "data": {
            "text/plain": [
              "['f', 'f', 'g', 'h']"
            ]
          },
          "metadata": {},
          "execution_count": 57
        }
      ]
    },
    {
      "cell_type": "code",
      "metadata": {
        "colab": {
          "base_uri": "https://localhost:8080/"
        },
        "id": "ZNYjW8XAdPQb",
        "outputId": "34624dad-119d-480b-b8e0-453151f1fde8"
      },
      "source": [
        "len(L)"
      ],
      "execution_count": null,
      "outputs": [
        {
          "output_type": "execute_result",
          "data": {
            "text/plain": [
              "4"
            ]
          },
          "metadata": {},
          "execution_count": 58
        }
      ]
    },
    {
      "cell_type": "markdown",
      "metadata": {
        "id": "ShTiaJFnFMIG"
      },
      "source": [
        "## Remoção de elementos da lista\n",
        "\n",
        "Como o tamanho da lista pode variar, permitindo a adição de novos elementos,\n",
        "podemos também retirar alguns elementos da lista, ou mesmo todos eles. Para\n",
        "isso, utilizaremos a instrução **del**."
      ]
    },
    {
      "cell_type": "code",
      "metadata": {
        "id": "vKtwIMjxEb9t"
      },
      "source": [
        "L = [\"a\", \"b\", \"c\"]"
      ],
      "execution_count": null,
      "outputs": []
    },
    {
      "cell_type": "code",
      "metadata": {
        "id": "Rq2ok-qfbael",
        "colab": {
          "base_uri": "https://localhost:8080/"
        },
        "outputId": "dc374793-c8ae-4491-fbcc-62e0d8a0eacf"
      },
      "source": [
        "len(L)"
      ],
      "execution_count": null,
      "outputs": [
        {
          "output_type": "execute_result",
          "data": {
            "text/plain": [
              "3"
            ]
          },
          "metadata": {},
          "execution_count": 60
        }
      ]
    },
    {
      "cell_type": "code",
      "metadata": {
        "id": "z0gSxeeEbjVN",
        "colab": {
          "base_uri": "https://localhost:8080/",
          "height": 35
        },
        "outputId": "7035d817-2241-4f52-b0b7-c5b2a8f784c1"
      },
      "source": [
        "L[2]"
      ],
      "execution_count": null,
      "outputs": [
        {
          "output_type": "execute_result",
          "data": {
            "application/vnd.google.colaboratory.intrinsic+json": {
              "type": "string"
            },
            "text/plain": [
              "'c'"
            ]
          },
          "metadata": {},
          "execution_count": 61
        }
      ]
    },
    {
      "cell_type": "code",
      "metadata": {
        "id": "nsc-N9eI9C0_"
      },
      "source": [
        "del L[1]"
      ],
      "execution_count": null,
      "outputs": []
    },
    {
      "cell_type": "code",
      "metadata": {
        "colab": {
          "base_uri": "https://localhost:8080/"
        },
        "id": "Q0HSvW7Edc0J",
        "outputId": "d492d703-635f-4456-d883-a549913eb553"
      },
      "source": [
        "L"
      ],
      "execution_count": null,
      "outputs": [
        {
          "output_type": "execute_result",
          "data": {
            "text/plain": [
              "['a', 'c']"
            ]
          },
          "metadata": {},
          "execution_count": 63
        }
      ]
    },
    {
      "cell_type": "code",
      "metadata": {
        "id": "Gaf9WZUvbedx",
        "colab": {
          "base_uri": "https://localhost:8080/"
        },
        "outputId": "c9c90d7d-4a49-4ad4-99c8-403bf3652c4a"
      },
      "source": [
        "len(L)"
      ],
      "execution_count": null,
      "outputs": [
        {
          "output_type": "execute_result",
          "data": {
            "text/plain": [
              "2"
            ]
          },
          "metadata": {},
          "execution_count": 64
        }
      ]
    },
    {
      "cell_type": "code",
      "metadata": {
        "id": "UdKAE55LbntD",
        "colab": {
          "base_uri": "https://localhost:8080/",
          "height": 162
        },
        "outputId": "f2e16681-baa7-4e85-d058-05aad85594ec"
      },
      "source": [
        "L[2]"
      ],
      "execution_count": null,
      "outputs": [
        {
          "output_type": "error",
          "ename": "IndexError",
          "evalue": "ignored",
          "traceback": [
            "\u001b[0;31m---------------------------------------------------------------------------\u001b[0m",
            "\u001b[0;31mIndexError\u001b[0m                                Traceback (most recent call last)",
            "\u001b[0;32m<ipython-input-65-a6a5482c82a7>\u001b[0m in \u001b[0;36m<module>\u001b[0;34m()\u001b[0m\n\u001b[0;32m----> 1\u001b[0;31m \u001b[0mL\u001b[0m\u001b[0;34m[\u001b[0m\u001b[0;36m2\u001b[0m\u001b[0;34m]\u001b[0m\u001b[0;34m\u001b[0m\u001b[0;34m\u001b[0m\u001b[0m\n\u001b[0m",
            "\u001b[0;31mIndexError\u001b[0m: list index out of range"
          ]
        }
      ]
    },
    {
      "cell_type": "code",
      "metadata": {
        "id": "pfvytSbHFXLK",
        "colab": {
          "base_uri": "https://localhost:8080/"
        },
        "outputId": "857516c2-8973-4d52-e815-0fe59f255100"
      },
      "source": [
        "L"
      ],
      "execution_count": null,
      "outputs": [
        {
          "output_type": "execute_result",
          "data": {
            "text/plain": [
              "['a', 'c']"
            ]
          },
          "metadata": {},
          "execution_count": 66
        }
      ]
    },
    {
      "cell_type": "markdown",
      "metadata": {
        "id": "8NgAbAORFZ4V"
      },
      "source": [
        "É importante notar que o elemento excluído não ocupa mais lugar na lista, fazendo com que os índices sejam reorganizados, ou melhor, que passem a ser calculados sem esse elemento."
      ]
    },
    {
      "cell_type": "markdown",
      "metadata": {
        "id": "aqhSeW5uF75f"
      },
      "source": [
        "## Concatenação e multiplicação\n",
        "\n",
        "Também é possível concatenar listas por meio do operador de adição '+' e multiplicá-las por um inteiro, o que gerará várias cópias dos seus itens. \n",
        "\n",
        "O código a seguir traz alguns exemplos dessas operações:\n",
        "\n"
      ]
    },
    {
      "cell_type": "code",
      "metadata": {
        "id": "mfFGGe0AbxNj"
      },
      "source": [
        "# Relembrando string"
      ],
      "execution_count": null,
      "outputs": []
    },
    {
      "cell_type": "code",
      "metadata": {
        "id": "-0ckmnPWbw1r",
        "colab": {
          "base_uri": "https://localhost:8080/",
          "height": 35
        },
        "outputId": "f5918540-d33e-4504-abd4-e2e851e58533"
      },
      "source": [
        "# concatenação\n",
        "\n",
        "a = 'casa'\n",
        "b = ' de praia'\n",
        "a + b"
      ],
      "execution_count": null,
      "outputs": [
        {
          "output_type": "execute_result",
          "data": {
            "application/vnd.google.colaboratory.intrinsic+json": {
              "type": "string"
            },
            "text/plain": [
              "'casa de praia'"
            ]
          },
          "metadata": {},
          "execution_count": 67
        }
      ]
    },
    {
      "cell_type": "code",
      "metadata": {
        "id": "w8MXziT9bwif",
        "colab": {
          "base_uri": "https://localhost:8080/"
        },
        "outputId": "324d6b95-45d0-4426-8aa1-f3186511b4ef"
      },
      "source": [
        "# multiplicação de strings\n",
        "\n",
        "c = 'Gol'\n",
        "d = c * 5\n",
        "print(d)"
      ],
      "execution_count": null,
      "outputs": [
        {
          "output_type": "stream",
          "name": "stdout",
          "text": [
            "GolGolGolGolGol\n"
          ]
        }
      ]
    },
    {
      "cell_type": "markdown",
      "metadata": {
        "id": "OXA5sY3pcYxH"
      },
      "source": [
        "Para lista: "
      ]
    },
    {
      "cell_type": "code",
      "metadata": {
        "id": "Vba8elrSF95W"
      },
      "source": [
        "lista_1 = ['O carro azul', 'peixe', 123, 111, 'pedra']"
      ],
      "execution_count": null,
      "outputs": []
    },
    {
      "cell_type": "code",
      "metadata": {
        "id": "T3Zzsm2jGGhq"
      },
      "source": [
        "lista_2 = ['O carro preto', 'galinha', 1233, 1141]"
      ],
      "execution_count": null,
      "outputs": []
    },
    {
      "cell_type": "code",
      "metadata": {
        "id": "DqH1He0DGKMK",
        "colab": {
          "base_uri": "https://localhost:8080/"
        },
        "outputId": "1816c321-6f67-42a4-968d-525a42e40015"
      },
      "source": [
        "concat = lista_1 + lista_2\n",
        "print(concat)"
      ],
      "execution_count": null,
      "outputs": [
        {
          "output_type": "stream",
          "name": "stdout",
          "text": [
            "['O carro azul', 'peixe', 123, 111, 'pedra', 'O carro preto', 'galinha', 1233, 1141]\n"
          ]
        }
      ]
    },
    {
      "cell_type": "code",
      "metadata": {
        "id": "tKHm7isDGNth"
      },
      "source": [
        "mult_lista = concat * 3\n",
        "print(mult_lista)"
      ],
      "execution_count": null,
      "outputs": []
    },
    {
      "cell_type": "code",
      "metadata": {
        "id": "g_MdAjnvc-Gx",
        "colab": {
          "base_uri": "https://localhost:8080/"
        },
        "outputId": "240600b2-59d2-4b8d-b4cd-2a368bfefe9f"
      },
      "source": [
        "mult_lista2 = lista_2 * 3\n",
        "print(mult_lista2)"
      ],
      "execution_count": null,
      "outputs": [
        {
          "output_type": "stream",
          "name": "stdout",
          "text": [
            "['O carro preto', 'galinha', 1233, 1141, 'O carro preto', 'galinha', 1233, 1141, 'O carro preto', 'galinha', 1233, 1141]\n"
          ]
        }
      ]
    },
    {
      "cell_type": "code",
      "metadata": {
        "id": "UALLKKl4dGG8",
        "colab": {
          "base_uri": "https://localhost:8080/"
        },
        "outputId": "ba277e87-a4ae-4ce7-c426-92d50237e59e"
      },
      "source": [
        "# Lista não é um vetor\n",
        "\n",
        "a = [1, 3, 5]\n",
        "b = [2, 4, 6]\n",
        "c = a + b\n",
        "print(c)"
      ],
      "execution_count": null,
      "outputs": [
        {
          "output_type": "stream",
          "name": "stdout",
          "text": [
            "[1, 3, 5, 2, 4, 6]\n"
          ]
        }
      ]
    },
    {
      "cell_type": "code",
      "metadata": {
        "id": "qO_ytnlKdFz6",
        "colab": {
          "base_uri": "https://localhost:8080/",
          "height": 212
        },
        "outputId": "b62d755d-5a4c-4683-c362-fd3fb5e8093b"
      },
      "source": [
        "# Lista não é um vetor\n",
        "\n",
        "a = [1, 3, 5]\n",
        "b = [2, 4, 6]\n",
        "c = a * b\n",
        "print(c)"
      ],
      "execution_count": null,
      "outputs": [
        {
          "output_type": "error",
          "ename": "TypeError",
          "evalue": "ignored",
          "traceback": [
            "\u001b[0;31m---------------------------------------------------------------------------\u001b[0m",
            "\u001b[0;31mTypeError\u001b[0m                                 Traceback (most recent call last)",
            "\u001b[0;32m<ipython-input-74-b3e589c590f0>\u001b[0m in \u001b[0;36m<module>\u001b[0;34m()\u001b[0m\n\u001b[1;32m      3\u001b[0m \u001b[0ma\u001b[0m \u001b[0;34m=\u001b[0m \u001b[0;34m[\u001b[0m\u001b[0;36m1\u001b[0m\u001b[0;34m,\u001b[0m \u001b[0;36m3\u001b[0m\u001b[0;34m,\u001b[0m \u001b[0;36m5\u001b[0m\u001b[0;34m]\u001b[0m\u001b[0;34m\u001b[0m\u001b[0;34m\u001b[0m\u001b[0m\n\u001b[1;32m      4\u001b[0m \u001b[0mb\u001b[0m \u001b[0;34m=\u001b[0m \u001b[0;34m[\u001b[0m\u001b[0;36m2\u001b[0m\u001b[0;34m,\u001b[0m \u001b[0;36m4\u001b[0m\u001b[0;34m,\u001b[0m \u001b[0;36m6\u001b[0m\u001b[0;34m]\u001b[0m\u001b[0;34m\u001b[0m\u001b[0;34m\u001b[0m\u001b[0m\n\u001b[0;32m----> 5\u001b[0;31m \u001b[0mc\u001b[0m \u001b[0;34m=\u001b[0m \u001b[0ma\u001b[0m \u001b[0;34m*\u001b[0m \u001b[0mb\u001b[0m\u001b[0;34m\u001b[0m\u001b[0;34m\u001b[0m\u001b[0m\n\u001b[0m\u001b[1;32m      6\u001b[0m \u001b[0mprint\u001b[0m\u001b[0;34m(\u001b[0m\u001b[0mc\u001b[0m\u001b[0;34m)\u001b[0m\u001b[0;34m\u001b[0m\u001b[0;34m\u001b[0m\u001b[0m\n",
            "\u001b[0;31mTypeError\u001b[0m: can't multiply sequence by non-int of type 'list'"
          ]
        }
      ]
    },
    {
      "cell_type": "markdown",
      "metadata": {
        "id": "JkiNsEZOGTyk"
      },
      "source": [
        "## Verificando a existência de itens em uma lista\n",
        "\n",
        "Em alguns casos é preciso verificar se um determinado valor está contido em uma lista. \n",
        "\n",
        "Para isso, em Python utilizamos o operador **in**, que indicará True se objeto pertencer ao conjunto, e False caso contrário. \n",
        "\n",
        "No código a seguir temos exemplos de uso desse operador:"
      ]
    },
    {
      "cell_type": "code",
      "metadata": {
        "id": "f4Tbb4KweD0v"
      },
      "source": [
        "lista = ['O carro azul', 'peixe', 123, 111, 'pedra']"
      ],
      "execution_count": null,
      "outputs": []
    },
    {
      "cell_type": "code",
      "metadata": {
        "id": "Sbl8Th6_GY91",
        "colab": {
          "base_uri": "https://localhost:8080/"
        },
        "outputId": "4a8f44cb-d030-4fe8-926d-138d8844fb2f"
      },
      "source": [
        "'peixe' in lista"
      ],
      "execution_count": null,
      "outputs": [
        {
          "output_type": "execute_result",
          "data": {
            "text/plain": [
              "True"
            ]
          },
          "metadata": {},
          "execution_count": 76
        }
      ]
    },
    {
      "cell_type": "code",
      "metadata": {
        "id": "xeAuvf9heWQF",
        "colab": {
          "base_uri": "https://localhost:8080/"
        },
        "outputId": "261e3a18-4447-463d-a3ce-280fce44f593"
      },
      "source": [
        "'peixe' not in lista"
      ],
      "execution_count": null,
      "outputs": [
        {
          "output_type": "execute_result",
          "data": {
            "text/plain": [
              "False"
            ]
          },
          "metadata": {},
          "execution_count": 77
        }
      ]
    },
    {
      "cell_type": "code",
      "metadata": {
        "id": "7oUQw0NTGY4A",
        "colab": {
          "base_uri": "https://localhost:8080/"
        },
        "outputId": "7d559309-4bcc-441b-f654-48189424bb7f"
      },
      "source": [
        "'gato' in lista"
      ],
      "execution_count": null,
      "outputs": [
        {
          "output_type": "execute_result",
          "data": {
            "text/plain": [
              "False"
            ]
          },
          "metadata": {},
          "execution_count": 78
        }
      ]
    },
    {
      "cell_type": "code",
      "metadata": {
        "id": "yoE657kUeZ2k",
        "colab": {
          "base_uri": "https://localhost:8080/"
        },
        "outputId": "927872f9-f4dd-48cd-f106-8719bd13ee51"
      },
      "source": [
        "'gato' not in lista"
      ],
      "execution_count": null,
      "outputs": [
        {
          "output_type": "execute_result",
          "data": {
            "text/plain": [
              "True"
            ]
          },
          "metadata": {},
          "execution_count": 79
        }
      ]
    },
    {
      "cell_type": "markdown",
      "metadata": {
        "id": "G4GWm-QIHhT-"
      },
      "source": [
        "Mais sobre listas:\n",
        "\n",
        "https://www.devmedia.com.br/como-trabalhar-com-listas-em-python/37460\n",
        "\n",
        "https://docs.python.org/pt-br/3/tutorial/datastructures.html#"
      ]
    },
    {
      "cell_type": "markdown",
      "metadata": {
        "id": "xHeF6ei9qBCY"
      },
      "source": [
        "## Range\n",
        "\n",
        "Podemos utilizar a função range para gerar listas simples. A função range não retorna uma lista propriamente dita, mas um gerador ou generator. \n",
        "\n",
        "Por enquanto, basta entender como podemos usá-la. Imagine um programa simples que imprime de 0 a 9 na tela:"
      ]
    },
    {
      "cell_type": "code",
      "metadata": {
        "id": "5Uo5dpJp2kOz"
      },
      "source": [
        "# Criando uma lista\n",
        "\n",
        "L = [0, 1, 2, 3, 4, 5, 6, 7, 8, 9]"
      ],
      "execution_count": null,
      "outputs": []
    },
    {
      "cell_type": "code",
      "metadata": {
        "id": "XhEWp03p3Fcr",
        "colab": {
          "base_uri": "https://localhost:8080/"
        },
        "outputId": "a6631ccf-c398-4067-e369-7d3c3a0e7117"
      },
      "source": [
        "a = range(10)\n",
        "type(a)"
      ],
      "execution_count": null,
      "outputs": [
        {
          "output_type": "execute_result",
          "data": {
            "text/plain": [
              "range"
            ]
          },
          "metadata": {},
          "execution_count": 81
        }
      ]
    },
    {
      "cell_type": "code",
      "metadata": {
        "colab": {
          "base_uri": "https://localhost:8080/"
        },
        "id": "9gqiHCVZeu_E",
        "outputId": "9771e482-2d21-4b51-db61-0d0843893086"
      },
      "source": [
        "a"
      ],
      "execution_count": null,
      "outputs": [
        {
          "output_type": "execute_result",
          "data": {
            "text/plain": [
              "range(0, 10)"
            ]
          },
          "metadata": {},
          "execution_count": 82
        }
      ]
    },
    {
      "cell_type": "code",
      "metadata": {
        "id": "CLLld8nI20Tq",
        "colab": {
          "base_uri": "https://localhost:8080/"
        },
        "outputId": "dffcf247-0142-40ae-9e47-c6c6a5403c3f"
      },
      "source": [
        "a = list(range(10))\n",
        "print(a)"
      ],
      "execution_count": null,
      "outputs": [
        {
          "output_type": "stream",
          "name": "stdout",
          "text": [
            "[0, 1, 2, 3, 4, 5, 6, 7, 8, 9]\n"
          ]
        }
      ]
    },
    {
      "cell_type": "markdown",
      "metadata": {
        "id": "6v9-y8KgfCsU"
      },
      "source": [
        "Obter ajuda para determinada função:\n",
        "\n",
        "`nome_da_função?`"
      ]
    },
    {
      "cell_type": "code",
      "metadata": {
        "id": "APIyr796e5yX"
      },
      "source": [
        "range?"
      ],
      "execution_count": null,
      "outputs": []
    },
    {
      "cell_type": "code",
      "metadata": {
        "colab": {
          "base_uri": "https://localhost:8080/"
        },
        "id": "xinqTY-Xffkg",
        "outputId": "a0245d42-c8ce-49e8-c21f-ef6bbb36cc80"
      },
      "source": [
        "list(range(0, 10, 2))"
      ],
      "execution_count": null,
      "outputs": [
        {
          "output_type": "execute_result",
          "data": {
            "text/plain": [
              "[0, 2, 4, 6, 8]"
            ]
          },
          "metadata": {},
          "execution_count": 86
        }
      ]
    },
    {
      "cell_type": "markdown",
      "metadata": {
        "id": "O-XdpkyUqX7m"
      },
      "source": [
        "A vantagem de utilizarmos a função range é gerar listas eficientemente."
      ]
    },
    {
      "cell_type": "code",
      "metadata": {
        "id": "BW3dcNiHqrOs",
        "colab": {
          "base_uri": "https://localhost:8080/"
        },
        "outputId": "4586fe43-102d-42e4-8591-14963afa8086"
      },
      "source": [
        "# Transformação do resultado de range em uma lista\n",
        "\n",
        "L = list(range(100, 1100, 50))\n",
        "print(L)"
      ],
      "execution_count": null,
      "outputs": [
        {
          "output_type": "stream",
          "name": "stdout",
          "text": [
            "[100, 150, 200, 250, 300, 350, 400, 450, 500, 550, 600, 650, 700, 750, 800, 850, 900, 950, 1000, 1050]\n"
          ]
        }
      ]
    },
    {
      "cell_type": "markdown",
      "metadata": {
        "id": "nQcfiy4EYARK"
      },
      "source": [
        "# Tuplas\n",
        "\n",
        "Uma tupla é uma coleção de objetos que lembra muito as listas, com a grande diferença de serem **imutáveis**. Tuplas são ideais para representar listas de valores constantes e também para realizar operações de empacotamento e desempacotamento de valores.\n",
        "\n",
        "Tuplas são criadas de forma semelhante às listas, mas utilizamos **parênteses** em vez de colchetes. Por exemplo:"
      ]
    },
    {
      "cell_type": "code",
      "metadata": {
        "id": "BH9iqroZYBxq",
        "colab": {
          "base_uri": "https://localhost:8080/"
        },
        "outputId": "8694329f-26d8-444d-c403-14a962fc0d9d"
      },
      "source": [
        "# criação de uma tupla\n",
        "\n",
        "tupla = (\"a\", \"b\", \"c\")\n",
        "print(tupla)"
      ],
      "execution_count": null,
      "outputs": [
        {
          "output_type": "stream",
          "name": "stdout",
          "text": [
            "('a', 'b', 'c')\n"
          ]
        }
      ]
    },
    {
      "cell_type": "code",
      "metadata": {
        "id": "yO8ywNPR__8k",
        "colab": {
          "base_uri": "https://localhost:8080/"
        },
        "outputId": "436346e9-65f8-4cf2-d928-1f6564e31837"
      },
      "source": [
        "type(tupla)"
      ],
      "execution_count": null,
      "outputs": [
        {
          "output_type": "execute_result",
          "data": {
            "text/plain": [
              "tuple"
            ]
          },
          "metadata": {},
          "execution_count": 89
        }
      ]
    },
    {
      "cell_type": "code",
      "metadata": {
        "id": "ZJ5t-s87gUua"
      },
      "source": [
        "type?"
      ],
      "execution_count": null,
      "outputs": []
    },
    {
      "cell_type": "code",
      "metadata": {
        "id": "kTxi4RZakVmz",
        "colab": {
          "base_uri": "https://localhost:8080/"
        },
        "outputId": "33e30029-8d3e-42ad-ac55-52c303fcb913"
      },
      "source": [
        "# criação de outra tupla\n",
        "\n",
        "outra_tupla = (\"a\", 1, 1.5, [1, 2], True)\n",
        "print(outra_tupla)"
      ],
      "execution_count": null,
      "outputs": [
        {
          "output_type": "stream",
          "name": "stdout",
          "text": [
            "('a', 1, 1.5, [1, 2], True)\n"
          ]
        }
      ]
    },
    {
      "cell_type": "markdown",
      "metadata": {
        "id": "BkpCM29ymJmH"
      },
      "source": [
        "Tuplas suportam a maior parte das operações de lista, como fatiamento e indexação."
      ]
    },
    {
      "cell_type": "code",
      "metadata": {
        "id": "ugKYjX_XkWOs",
        "colab": {
          "base_uri": "https://localhost:8080/",
          "height": 35
        },
        "outputId": "ff43e682-bf0e-441d-e430-432b68735eb1"
      },
      "source": [
        "tupla[0]"
      ],
      "execution_count": null,
      "outputs": [
        {
          "output_type": "execute_result",
          "data": {
            "application/vnd.google.colaboratory.intrinsic+json": {
              "type": "string"
            },
            "text/plain": [
              "'a'"
            ]
          },
          "metadata": {},
          "execution_count": 93
        }
      ]
    },
    {
      "cell_type": "code",
      "metadata": {
        "id": "KBaRsNzemNbh",
        "colab": {
          "base_uri": "https://localhost:8080/",
          "height": 35
        },
        "outputId": "9e35148d-b297-49f9-cee2-1503e52e93a7"
      },
      "source": [
        "tupla[2]"
      ],
      "execution_count": null,
      "outputs": [
        {
          "output_type": "execute_result",
          "data": {
            "application/vnd.google.colaboratory.intrinsic+json": {
              "type": "string"
            },
            "text/plain": [
              "'c'"
            ]
          },
          "metadata": {},
          "execution_count": 94
        }
      ]
    },
    {
      "cell_type": "code",
      "metadata": {
        "id": "x-hNeAmvmNV3",
        "colab": {
          "base_uri": "https://localhost:8080/"
        },
        "outputId": "036ce073-801a-4d85-8113-913a16582e9d"
      },
      "source": [
        "tupla[1:]"
      ],
      "execution_count": null,
      "outputs": [
        {
          "output_type": "execute_result",
          "data": {
            "text/plain": [
              "('b', 'c')"
            ]
          },
          "metadata": {},
          "execution_count": 95
        }
      ]
    },
    {
      "cell_type": "code",
      "metadata": {
        "id": "7M_yK267mNSC",
        "colab": {
          "base_uri": "https://localhost:8080/",
          "height": 162
        },
        "outputId": "f5cc0c7b-cd4e-4e8f-9984-f5503fbba5f2"
      },
      "source": [
        "tupla.append('a')"
      ],
      "execution_count": null,
      "outputs": [
        {
          "output_type": "error",
          "ename": "AttributeError",
          "evalue": "ignored",
          "traceback": [
            "\u001b[0;31m---------------------------------------------------------------------------\u001b[0m",
            "\u001b[0;31mAttributeError\u001b[0m                            Traceback (most recent call last)",
            "\u001b[0;32m<ipython-input-100-54945fd79335>\u001b[0m in \u001b[0;36m<module>\u001b[0;34m()\u001b[0m\n\u001b[0;32m----> 1\u001b[0;31m \u001b[0mtupla\u001b[0m\u001b[0;34m.\u001b[0m\u001b[0mappend\u001b[0m\u001b[0;34m(\u001b[0m\u001b[0;34m'a'\u001b[0m\u001b[0;34m)\u001b[0m\u001b[0;34m\u001b[0m\u001b[0;34m\u001b[0m\u001b[0m\n\u001b[0m",
            "\u001b[0;31mAttributeError\u001b[0m: 'tuple' object has no attribute 'append'"
          ]
        }
      ]
    },
    {
      "cell_type": "code",
      "metadata": {
        "colab": {
          "base_uri": "https://localhost:8080/",
          "height": 162
        },
        "id": "JMUgQuR_hK_s",
        "outputId": "8cc6bb97-5a71-4604-c324-5f4255be3871"
      },
      "source": [
        "del tupla[0]"
      ],
      "execution_count": null,
      "outputs": [
        {
          "output_type": "error",
          "ename": "TypeError",
          "evalue": "ignored",
          "traceback": [
            "\u001b[0;31m---------------------------------------------------------------------------\u001b[0m",
            "\u001b[0;31mTypeError\u001b[0m                                 Traceback (most recent call last)",
            "\u001b[0;32m<ipython-input-101-0ff993ccc4c1>\u001b[0m in \u001b[0;36m<module>\u001b[0;34m()\u001b[0m\n\u001b[0;32m----> 1\u001b[0;31m \u001b[0;32mdel\u001b[0m \u001b[0mtupla\u001b[0m\u001b[0;34m[\u001b[0m\u001b[0;36m0\u001b[0m\u001b[0;34m]\u001b[0m\u001b[0;34m\u001b[0m\u001b[0;34m\u001b[0m\u001b[0m\n\u001b[0m",
            "\u001b[0;31mTypeError\u001b[0m: 'tuple' object doesn't support item deletion"
          ]
        }
      ]
    },
    {
      "cell_type": "code",
      "metadata": {
        "colab": {
          "base_uri": "https://localhost:8080/"
        },
        "id": "oDwOM_7ug2Jj",
        "outputId": "5ebe2b93-8e01-4935-fac9-3962e147eef0"
      },
      "source": [
        "tupla"
      ],
      "execution_count": null,
      "outputs": [
        {
          "output_type": "execute_result",
          "data": {
            "text/plain": [
              "('a', 'b', 'c')"
            ]
          },
          "metadata": {},
          "execution_count": 97
        }
      ]
    },
    {
      "cell_type": "code",
      "metadata": {
        "id": "N4I3pW-gmRAl",
        "colab": {
          "base_uri": "https://localhost:8080/"
        },
        "outputId": "8e6891eb-3950-4cfa-f1a4-a59b4b5cb2a1"
      },
      "source": [
        "len(tupla)"
      ],
      "execution_count": null,
      "outputs": [
        {
          "output_type": "execute_result",
          "data": {
            "text/plain": [
              "3"
            ]
          },
          "metadata": {},
          "execution_count": 98
        }
      ]
    },
    {
      "cell_type": "code",
      "metadata": {
        "id": "4P6r-UeUAjvg"
      },
      "source": [
        "tupla = tupla + tupla + tupla"
      ],
      "execution_count": null,
      "outputs": []
    },
    {
      "cell_type": "code",
      "metadata": {
        "colab": {
          "base_uri": "https://localhost:8080/"
        },
        "id": "MxhBIXN8hWjo",
        "outputId": "fd72534b-2dfb-49d2-f324-4d3ec5351f53"
      },
      "source": [
        "tupla"
      ],
      "execution_count": null,
      "outputs": [
        {
          "output_type": "execute_result",
          "data": {
            "text/plain": [
              "('a', 'b', 'c', 'a', 'b', 'c', 'a', 'b', 'c')"
            ]
          },
          "metadata": {},
          "execution_count": 103
        }
      ]
    },
    {
      "cell_type": "code",
      "metadata": {
        "id": "yXpLEbRJA5K8",
        "colab": {
          "base_uri": "https://localhost:8080/"
        },
        "outputId": "ae2e0711-2453-466d-8b3d-de33fb3a368b"
      },
      "source": [
        "len(tupla)"
      ],
      "execution_count": null,
      "outputs": [
        {
          "output_type": "execute_result",
          "data": {
            "text/plain": [
              "9"
            ]
          },
          "metadata": {},
          "execution_count": 104
        }
      ]
    },
    {
      "cell_type": "markdown",
      "metadata": {
        "id": "NmQaHtF2qtLr"
      },
      "source": [
        "Mas tuplas não podem ter seus elementos alterados. Veja o que acontece se tentarmos alterar uma tupla:"
      ]
    },
    {
      "cell_type": "code",
      "metadata": {
        "id": "05IPc_T6mTWZ",
        "colab": {
          "base_uri": "https://localhost:8080/",
          "height": 162
        },
        "outputId": "dbca9d0b-e5be-48bf-f060-1e93840c09a4"
      },
      "source": [
        "tupla[0] = \"A\""
      ],
      "execution_count": null,
      "outputs": [
        {
          "output_type": "error",
          "ename": "TypeError",
          "evalue": "ignored",
          "traceback": [
            "\u001b[0;31m---------------------------------------------------------------------------\u001b[0m",
            "\u001b[0;31mTypeError\u001b[0m                                 Traceback (most recent call last)",
            "\u001b[0;32m<ipython-input-105-16e42b93ad69>\u001b[0m in \u001b[0;36m<module>\u001b[0;34m()\u001b[0m\n\u001b[0;32m----> 1\u001b[0;31m \u001b[0mtupla\u001b[0m\u001b[0;34m[\u001b[0m\u001b[0;36m0\u001b[0m\u001b[0;34m]\u001b[0m \u001b[0;34m=\u001b[0m \u001b[0;34m\"A\"\u001b[0m\u001b[0;34m\u001b[0m\u001b[0;34m\u001b[0m\u001b[0m\n\u001b[0m",
            "\u001b[0;31mTypeError\u001b[0m: 'tuple' object does not support item assignment"
          ]
        }
      ]
    },
    {
      "cell_type": "markdown",
      "metadata": {
        "id": "wUmmoP1Gq9XH"
      },
      "source": [
        "Python também permite criar tuplas usando valores separados por vírgula, independente de usarmos parênteses:"
      ]
    },
    {
      "cell_type": "code",
      "metadata": {
        "id": "S2uTq3W9q4gX"
      },
      "source": [
        "tupla = 100, 200, 300"
      ],
      "execution_count": null,
      "outputs": []
    },
    {
      "cell_type": "code",
      "metadata": {
        "id": "8n4N1NaUB4xg",
        "colab": {
          "base_uri": "https://localhost:8080/"
        },
        "outputId": "536f5d1f-4636-4f90-d21b-2aaf4e0f34d6"
      },
      "source": [
        "print(tupla)"
      ],
      "execution_count": null,
      "outputs": [
        {
          "output_type": "stream",
          "name": "stdout",
          "text": [
            "(100, 200, 300)\n"
          ]
        }
      ]
    },
    {
      "cell_type": "code",
      "metadata": {
        "id": "BpWOUoFbCCju",
        "colab": {
          "base_uri": "https://localhost:8080/"
        },
        "outputId": "38100662-ff4a-44a5-e15d-8ad78bac57f1"
      },
      "source": [
        "type(tupla)"
      ],
      "execution_count": null,
      "outputs": [
        {
          "output_type": "execute_result",
          "data": {
            "text/plain": [
              "tuple"
            ]
          },
          "metadata": {},
          "execution_count": 109
        }
      ]
    },
    {
      "cell_type": "markdown",
      "metadata": {
        "id": "BXL8xFF6rMyR"
      },
      "source": [
        "No caso, 100, 200 e 300 foram convertidos em uma tupla com três elementos. Esse\n",
        "tipo de operação é chamado de **empacotamento**.\n",
        "\n",
        "Tuplas também podem ser utilizadas para desempacotar valores, por exemplo:"
      ]
    },
    {
      "cell_type": "code",
      "metadata": {
        "id": "AbL4YkjjCPeC"
      },
      "source": [
        "empacotar = 1, 2, 3, 4, 6, 7, 8"
      ],
      "execution_count": null,
      "outputs": []
    },
    {
      "cell_type": "code",
      "metadata": {
        "id": "8htGDdsKCPRR",
        "colab": {
          "base_uri": "https://localhost:8080/"
        },
        "outputId": "07841381-e681-44b3-df59-3af6bbfa925d"
      },
      "source": [
        "print(empacotar)"
      ],
      "execution_count": null,
      "outputs": [
        {
          "output_type": "stream",
          "name": "stdout",
          "text": [
            "(1, 2, 3, 4, 6, 7, 8)\n"
          ]
        }
      ]
    },
    {
      "cell_type": "markdown",
      "metadata": {
        "id": "hU2WGg0ACZnp"
      },
      "source": [
        "Para desempacotar:"
      ]
    },
    {
      "cell_type": "code",
      "metadata": {
        "id": "ml6-hdVFrOkl"
      },
      "source": [
        "a, b, c = 10, 20, 30"
      ],
      "execution_count": null,
      "outputs": []
    },
    {
      "cell_type": "code",
      "metadata": {
        "id": "M0_KmKy9rWd9",
        "colab": {
          "base_uri": "https://localhost:8080/"
        },
        "outputId": "4b5d7f75-6181-456e-dff1-1360b8bc3f1d"
      },
      "source": [
        "a"
      ],
      "execution_count": null,
      "outputs": [
        {
          "output_type": "execute_result",
          "data": {
            "text/plain": [
              "10"
            ]
          },
          "metadata": {},
          "execution_count": 113
        }
      ]
    },
    {
      "cell_type": "code",
      "metadata": {
        "id": "Zh9zrCMcrWXe",
        "colab": {
          "base_uri": "https://localhost:8080/"
        },
        "outputId": "c8285866-0b0b-40d7-f323-9d2ced9a3fcf"
      },
      "source": [
        "b"
      ],
      "execution_count": null,
      "outputs": [
        {
          "output_type": "execute_result",
          "data": {
            "text/plain": [
              "20"
            ]
          },
          "metadata": {},
          "execution_count": 114
        }
      ]
    },
    {
      "cell_type": "code",
      "metadata": {
        "id": "p6ZA7mNODDYX",
        "colab": {
          "base_uri": "https://localhost:8080/"
        },
        "outputId": "a023c513-e786-4074-87f0-91efde9ca637"
      },
      "source": [
        "c"
      ],
      "execution_count": null,
      "outputs": [
        {
          "output_type": "execute_result",
          "data": {
            "text/plain": [
              "30"
            ]
          },
          "metadata": {},
          "execution_count": 115
        }
      ]
    },
    {
      "cell_type": "markdown",
      "metadata": {
        "id": "qSzAT60mCnkr"
      },
      "source": [
        "Planilha contém valores de ações em função: Col1 (tempo), Col2 (Ação 1), Col3 (Ação 2), ...\n",
        "\n",
        "t, acao_1, acao_2 = ABRE_ARQUIVO(Planilha)\n",
        "\n",
        "plotar(t, acao_1)"
      ]
    },
    {
      "cell_type": "markdown",
      "metadata": {
        "id": "bR9BxaDasFV0"
      },
      "source": [
        "Devemos acrescentar uma vírgula para indicar que o valor é uma tupla com apenas um elemento:"
      ]
    },
    {
      "cell_type": "code",
      "metadata": {
        "id": "MOqPMzsri1dc"
      },
      "source": [
        "t0 = 1"
      ],
      "execution_count": null,
      "outputs": []
    },
    {
      "cell_type": "code",
      "metadata": {
        "colab": {
          "base_uri": "https://localhost:8080/"
        },
        "id": "Q3eVXcaqi3Sy",
        "outputId": "2eada610-d851-46f8-96b4-69e56f45dfa0"
      },
      "source": [
        "type(t0)"
      ],
      "execution_count": null,
      "outputs": [
        {
          "output_type": "execute_result",
          "data": {
            "text/plain": [
              "int"
            ]
          },
          "metadata": {},
          "execution_count": 118
        }
      ]
    },
    {
      "cell_type": "code",
      "metadata": {
        "id": "2nPdR9NasHrX"
      },
      "source": [
        "t1 = (1)"
      ],
      "execution_count": null,
      "outputs": []
    },
    {
      "cell_type": "code",
      "metadata": {
        "id": "OQIFPClHDSQJ",
        "colab": {
          "base_uri": "https://localhost:8080/"
        },
        "outputId": "8f5f7d54-5bac-4359-a8d9-01945c3f85a1"
      },
      "source": [
        "print(t1)"
      ],
      "execution_count": null,
      "outputs": [
        {
          "output_type": "stream",
          "name": "stdout",
          "text": [
            "1\n"
          ]
        }
      ]
    },
    {
      "cell_type": "code",
      "metadata": {
        "id": "zzZTGJJiDZTP",
        "colab": {
          "base_uri": "https://localhost:8080/"
        },
        "outputId": "3a693647-fbdf-40f3-f908-504825f2b741"
      },
      "source": [
        "type(t1)"
      ],
      "execution_count": null,
      "outputs": [
        {
          "output_type": "execute_result",
          "data": {
            "text/plain": [
              "int"
            ]
          },
          "metadata": {},
          "execution_count": 124
        }
      ]
    },
    {
      "cell_type": "code",
      "metadata": {
        "id": "puxcchQfsJ9t"
      },
      "source": [
        "t2 = (1,)"
      ],
      "execution_count": null,
      "outputs": []
    },
    {
      "cell_type": "code",
      "metadata": {
        "id": "lnDEhuvfDnIt",
        "colab": {
          "base_uri": "https://localhost:8080/"
        },
        "outputId": "8c931a01-17a6-49e2-eb56-d5c82631daa3"
      },
      "source": [
        "print(t2)"
      ],
      "execution_count": null,
      "outputs": [
        {
          "output_type": "stream",
          "name": "stdout",
          "text": [
            "(1,)\n"
          ]
        }
      ]
    },
    {
      "cell_type": "code",
      "metadata": {
        "id": "87dWYXHZDp8M",
        "colab": {
          "base_uri": "https://localhost:8080/"
        },
        "outputId": "51bd3141-3a66-4850-f7df-7374973284af"
      },
      "source": [
        "type(t2)"
      ],
      "execution_count": null,
      "outputs": [
        {
          "output_type": "execute_result",
          "data": {
            "text/plain": [
              "tuple"
            ]
          },
          "metadata": {},
          "execution_count": 127
        }
      ]
    },
    {
      "cell_type": "code",
      "metadata": {
        "id": "9MY1hm3vsLgk"
      },
      "source": [
        "t3 = 1,"
      ],
      "execution_count": null,
      "outputs": []
    },
    {
      "cell_type": "code",
      "metadata": {
        "id": "UwlCPKhXDxMG",
        "colab": {
          "base_uri": "https://localhost:8080/"
        },
        "outputId": "25967b8c-67d2-4d3a-e4b7-40b9649256be"
      },
      "source": [
        "print(t3)"
      ],
      "execution_count": null,
      "outputs": [
        {
          "output_type": "stream",
          "name": "stdout",
          "text": [
            "(1,)\n"
          ]
        }
      ]
    },
    {
      "cell_type": "code",
      "metadata": {
        "id": "lDyiNusiDzcV",
        "colab": {
          "base_uri": "https://localhost:8080/"
        },
        "outputId": "c2e2e336-7d6b-480d-b0e2-82fb65c24091"
      },
      "source": [
        "type(t3)"
      ],
      "execution_count": null,
      "outputs": [
        {
          "output_type": "execute_result",
          "data": {
            "text/plain": [
              "tuple"
            ]
          },
          "metadata": {},
          "execution_count": 130
        }
      ]
    },
    {
      "cell_type": "markdown",
      "metadata": {
        "id": "VAS6FOrOsOPU"
      },
      "source": [
        "Podemos também criar tuplas vazias, escrevendo apenas os parênteses:"
      ]
    },
    {
      "cell_type": "code",
      "metadata": {
        "id": "8BuhLdRbsNfk"
      },
      "source": [
        "t4 = ()"
      ],
      "execution_count": null,
      "outputs": []
    },
    {
      "cell_type": "code",
      "metadata": {
        "id": "UrhhlayJsP0Y"
      },
      "source": [
        "len(t4)"
      ],
      "execution_count": null,
      "outputs": []
    },
    {
      "cell_type": "code",
      "metadata": {
        "id": "eoRcUjRMEYe4"
      },
      "source": [
        "type(t4)"
      ],
      "execution_count": null,
      "outputs": []
    },
    {
      "cell_type": "markdown",
      "metadata": {
        "id": "bAWUpGmIsVkY"
      },
      "source": [
        "Tuplas também podem ser criadas a partir de listas, utilizando-se a função tuple:"
      ]
    },
    {
      "cell_type": "code",
      "metadata": {
        "id": "_GoP2pG0jQSf"
      },
      "source": [
        "tuple?"
      ],
      "execution_count": null,
      "outputs": []
    },
    {
      "cell_type": "code",
      "metadata": {
        "id": "I5cUKuB0sW3f"
      },
      "source": [
        "L = [1,2,3]\n",
        "T = tuple(L)"
      ],
      "execution_count": null,
      "outputs": []
    },
    {
      "cell_type": "code",
      "metadata": {
        "id": "j0nvUE_JElTb",
        "colab": {
          "base_uri": "https://localhost:8080/"
        },
        "outputId": "96f969ef-147c-45b8-f120-418c9c4bded5"
      },
      "source": [
        "print(L)"
      ],
      "execution_count": null,
      "outputs": [
        {
          "output_type": "stream",
          "name": "stdout",
          "text": [
            "[1, 2, 3]\n"
          ]
        }
      ]
    },
    {
      "cell_type": "code",
      "metadata": {
        "id": "7uY4hnwwEoRc",
        "colab": {
          "base_uri": "https://localhost:8080/"
        },
        "outputId": "d1b26940-0911-405f-9e99-12ef7b85934d"
      },
      "source": [
        "print(T)"
      ],
      "execution_count": null,
      "outputs": [
        {
          "output_type": "stream",
          "name": "stdout",
          "text": [
            "(1, 2, 3)\n"
          ]
        }
      ]
    },
    {
      "cell_type": "code",
      "metadata": {
        "id": "3mvGUpgZEtZd",
        "colab": {
          "base_uri": "https://localhost:8080/"
        },
        "outputId": "e5bf32b2-513a-4eeb-d650-35319ca11088"
      },
      "source": [
        "W = list(T)\n",
        "print(W)"
      ],
      "execution_count": null,
      "outputs": [
        {
          "output_type": "stream",
          "name": "stdout",
          "text": [
            "[1, 2, 3]\n"
          ]
        }
      ]
    },
    {
      "cell_type": "markdown",
      "metadata": {
        "id": "hoy80qLDsdp_"
      },
      "source": [
        "Embora não possamos alterar uma tupla depois de sua criação, podemos concatená-las, gerando novas tuplas:"
      ]
    },
    {
      "cell_type": "code",
      "metadata": {
        "id": "DBiYUf4xsahv"
      },
      "source": [
        "t1 = (1,2,3)\n",
        "t2 = (4,5,6)"
      ],
      "execution_count": null,
      "outputs": []
    },
    {
      "cell_type": "code",
      "metadata": {
        "id": "x8neDPZ2sle4",
        "colab": {
          "base_uri": "https://localhost:8080/"
        },
        "outputId": "5f620cbf-7973-4132-8d0a-e4cef38637e5"
      },
      "source": [
        "t3 = t1+t2\n",
        "t3"
      ],
      "execution_count": null,
      "outputs": [
        {
          "output_type": "execute_result",
          "data": {
            "text/plain": [
              "(1, 2, 3, 4, 5, 6)"
            ]
          },
          "metadata": {},
          "execution_count": 138
        }
      ]
    },
    {
      "cell_type": "markdown",
      "metadata": {
        "id": "qUqyOH2ysuCw"
      },
      "source": [
        "Observe que se uma tupla contiver uma lista ou outro objeto que pode ser alterado, este continuará a funcionar normalmente. Veja o exemplo de uma tupla\n",
        "que contém uma lista:"
      ]
    },
    {
      "cell_type": "code",
      "metadata": {
        "id": "5b_T2S4qsxXx"
      },
      "source": [
        "tupla = (\"a\", [\"b\", \"c\", \"d\"])"
      ],
      "execution_count": null,
      "outputs": []
    },
    {
      "cell_type": "code",
      "metadata": {
        "id": "XcUAX8hzszYS",
        "colab": {
          "base_uri": "https://localhost:8080/"
        },
        "outputId": "6a52dfef-c6c1-4c37-b29d-3196a5f78c8c"
      },
      "source": [
        "tupla"
      ],
      "execution_count": null,
      "outputs": [
        {
          "output_type": "execute_result",
          "data": {
            "text/plain": [
              "('a', ['b', 'c', 'd'])"
            ]
          },
          "metadata": {},
          "execution_count": 140
        }
      ]
    },
    {
      "cell_type": "code",
      "metadata": {
        "id": "OlXNRBkgs0vv",
        "colab": {
          "base_uri": "https://localhost:8080/"
        },
        "outputId": "a1a22f1c-9867-4d97-dfa9-184166a73652"
      },
      "source": [
        "len(tupla)"
      ],
      "execution_count": null,
      "outputs": [
        {
          "output_type": "execute_result",
          "data": {
            "text/plain": [
              "2"
            ]
          },
          "metadata": {},
          "execution_count": 141
        }
      ]
    },
    {
      "cell_type": "code",
      "metadata": {
        "id": "he9zzjlns1sZ",
        "colab": {
          "base_uri": "https://localhost:8080/"
        },
        "outputId": "088973bc-6ac6-4ef0-f83e-1551c63fc343"
      },
      "source": [
        "tupla[1]"
      ],
      "execution_count": null,
      "outputs": [
        {
          "output_type": "execute_result",
          "data": {
            "text/plain": [
              "['b', 'c', 'd']"
            ]
          },
          "metadata": {},
          "execution_count": 142
        }
      ]
    },
    {
      "cell_type": "code",
      "metadata": {
        "id": "_QkDkCVis4PK"
      },
      "source": [
        "tupla[1].append(\"e\")"
      ],
      "execution_count": null,
      "outputs": []
    },
    {
      "cell_type": "code",
      "metadata": {
        "id": "N9-lJeoFs5YO",
        "colab": {
          "base_uri": "https://localhost:8080/"
        },
        "outputId": "67bcd19c-491b-4064-c51a-4131a9d879cf"
      },
      "source": [
        "tupla"
      ],
      "execution_count": null,
      "outputs": [
        {
          "output_type": "execute_result",
          "data": {
            "text/plain": [
              "('a', ['b', 'c', 'd', 'e'])"
            ]
          },
          "metadata": {},
          "execution_count": 144
        }
      ]
    },
    {
      "cell_type": "code",
      "metadata": {
        "colab": {
          "base_uri": "https://localhost:8080/"
        },
        "id": "XPlMZ0FdjzVK",
        "outputId": "cddde9af-1754-41dc-d3c2-641b0c5b6321"
      },
      "source": [
        "len(tupla)"
      ],
      "execution_count": null,
      "outputs": [
        {
          "output_type": "execute_result",
          "data": {
            "text/plain": [
              "2"
            ]
          },
          "metadata": {},
          "execution_count": 145
        }
      ]
    },
    {
      "cell_type": "markdown",
      "metadata": {
        "id": "taHEF23Js74I"
      },
      "source": [
        "Neste caso, nada mudou na tupla em si, mas na lista que é seu segundo elemento.\n",
        "Ou seja, a tupla não foi alterada, mas a lista que ela continha, sim."
      ]
    },
    {
      "cell_type": "markdown",
      "metadata": {
        "id": "8OyW5vTuUgi9"
      },
      "source": [
        "# Dicionários\n",
        "\n",
        "Um dicionário é uma coleção, assim como as listas e as tuplas. \n",
        "\n",
        "Porém, enquanto as tuplas eram indexadas por um índice, os dicionários são indexados por chaves. Todo elemento em um dicionário possui uma chave e um valor. \n",
        "\n",
        "Chaves tipicamente são strings, valores podem ser qualquer tipo de dado.\n",
        "\n",
        "O dicionário em si consiste em relacionar uma chave a um valor específico.\n",
        "\n",
        "Em Python, criamos dicionários utilizando chaves (**{}**). Cada elemento do dicionário é uma combinação de chave e valor.\n",
        "\n",
        "Vejamos como criar esse dicionário em Python:\n",
        "\n",
        "\n",
        "|  Produto  |  Preço (kg) |\n",
        "|:---------:|:-----------:|\n",
        "|   Alface  | R\\$ 0,99    |\n",
        "|   Tomate  | R\\$ 3,99    |  \n",
        "|    Maçã   | R\\$ 4,49    |\n",
        "| Tangerina | R\\$ 2,99    |"
      ]
    },
    {
      "cell_type": "code",
      "metadata": {
        "id": "UK8SmRDgUiJL"
      },
      "source": [
        "tabela = {\"Alface\": 0.99, \"Tomate\": 3.99, \"Maçã\": 4.49, \"Tangerina\": 2.99}"
      ],
      "execution_count": null,
      "outputs": []
    },
    {
      "cell_type": "code",
      "metadata": {
        "colab": {
          "base_uri": "https://localhost:8080/"
        },
        "id": "1mKkzUp6lFx8",
        "outputId": "7630a9dd-07ad-445f-98ca-56fc42051f28"
      },
      "source": [
        "tabela"
      ],
      "execution_count": null,
      "outputs": [
        {
          "output_type": "execute_result",
          "data": {
            "text/plain": [
              "{'Alface': 0.99, 'Maçã': 4.49, 'Tangerina': 2.99, 'Tomate': 3.99}"
            ]
          },
          "metadata": {},
          "execution_count": 147
        }
      ]
    },
    {
      "cell_type": "code",
      "metadata": {
        "id": "1-mkh0U_k_bQ"
      },
      "source": [
        "tabela = {\"Alface\": 0.99,\n",
        "          \"Tomate\": 3.99,\n",
        "          \"Maçã\": 4.49,\n",
        "          \"Tangerina\": 2.99}"
      ],
      "execution_count": null,
      "outputs": []
    },
    {
      "cell_type": "code",
      "metadata": {
        "colab": {
          "base_uri": "https://localhost:8080/"
        },
        "id": "wE1mG9G-lHnv",
        "outputId": "0bbbffd0-3f78-4b31-c6e2-9dee88f35adb"
      },
      "source": [
        "tabela"
      ],
      "execution_count": null,
      "outputs": [
        {
          "output_type": "execute_result",
          "data": {
            "text/plain": [
              "{'Alface': 0.99, 'Maçã': 4.49, 'Tangerina': 2.99, 'Tomate': 3.99}"
            ]
          },
          "metadata": {},
          "execution_count": 149
        }
      ]
    },
    {
      "cell_type": "code",
      "metadata": {
        "id": "QrLPwsE7EnIr",
        "colab": {
          "base_uri": "https://localhost:8080/"
        },
        "outputId": "89ce856b-b290-40a7-96dd-dbfcf5da6af4"
      },
      "source": [
        "type(tabela)"
      ],
      "execution_count": null,
      "outputs": [
        {
          "output_type": "execute_result",
          "data": {
            "text/plain": [
              "dict"
            ]
          },
          "metadata": {},
          "execution_count": 150
        }
      ]
    },
    {
      "cell_type": "code",
      "metadata": {
        "id": "an8q7_UGGRHR",
        "colab": {
          "base_uri": "https://localhost:8080/"
        },
        "outputId": "31afa1a7-22c3-4222-bc5d-aa4712862bc0"
      },
      "source": [
        "print(tabela)"
      ],
      "execution_count": null,
      "outputs": [
        {
          "output_type": "stream",
          "name": "stdout",
          "text": [
            "{'Alface': 0.99, 'Tomate': 3.99, 'Maçã': 4.49, 'Tangerina': 2.99}\n"
          ]
        }
      ]
    },
    {
      "cell_type": "code",
      "metadata": {
        "id": "aF3F46DXGUlz",
        "colab": {
          "base_uri": "https://localhost:8080/"
        },
        "outputId": "c196a6ee-fcf5-4065-ce39-e46d9c83d7d1"
      },
      "source": [
        "len(tabela)"
      ],
      "execution_count": null,
      "outputs": [
        {
          "output_type": "execute_result",
          "data": {
            "text/plain": [
              "4"
            ]
          },
          "metadata": {},
          "execution_count": 152
        }
      ]
    },
    {
      "cell_type": "code",
      "metadata": {
        "id": "VFzQV34iGZPV",
        "colab": {
          "base_uri": "https://localhost:8080/"
        },
        "outputId": "1df0c575-73c0-413d-a78f-2393f2772b39"
      },
      "source": [
        "print(tabela[\"Alface\"])"
      ],
      "execution_count": null,
      "outputs": [
        {
          "output_type": "stream",
          "name": "stdout",
          "text": [
            "0.99\n"
          ]
        }
      ]
    },
    {
      "cell_type": "code",
      "metadata": {
        "id": "INMxb7nHGJHb"
      },
      "source": [
        "tabela2 = {\"Alface\": 0.99, \"Tomate\": 3.99, \"Maçã\": 4.49, \"Tangerina\": 2.99, \"Pera\": 5.99}"
      ],
      "execution_count": null,
      "outputs": []
    },
    {
      "cell_type": "code",
      "metadata": {
        "id": "N5N_-qjaGNEz",
        "colab": {
          "base_uri": "https://localhost:8080/"
        },
        "outputId": "4c3434af-a9b4-4518-9d1c-6efd0626a2c5"
      },
      "source": [
        "print(tabela2)"
      ],
      "execution_count": null,
      "outputs": [
        {
          "output_type": "stream",
          "name": "stdout",
          "text": [
            "{'Alface': 0.99, 'Tomate': 3.99, 'Maçã': 4.49, 'Tangerina': 2.99, 'Pera': 5.99}\n"
          ]
        }
      ]
    },
    {
      "cell_type": "markdown",
      "metadata": {
        "id": "a675yfxIYLJ3"
      },
      "source": [
        "Um dicionário é acessado por suas chaves. Para obter o preço da alface, digite\n",
        "no interpretador, depois de ter criado a tabela, tabela[\"Alface\"] , onde tabela é o nome da variável do tipo dicionário, e “Alface” é nossa chave. O valor retornado é o mesmo que associamos na tabela, ou seja, R\\$ 0,99."
      ]
    },
    {
      "cell_type": "code",
      "metadata": {
        "id": "3HGV_6RAV07q",
        "colab": {
          "base_uri": "https://localhost:8080/"
        },
        "outputId": "7a13e8e4-47b0-405c-b4fb-0970aa7f6f4e"
      },
      "source": [
        "tabela[\"Alface\"]"
      ],
      "execution_count": null,
      "outputs": [
        {
          "output_type": "execute_result",
          "data": {
            "text/plain": [
              "0.99"
            ]
          },
          "metadata": {},
          "execution_count": 157
        }
      ]
    },
    {
      "cell_type": "code",
      "metadata": {
        "id": "5nmuMQQOG08a",
        "colab": {
          "base_uri": "https://localhost:8080/"
        },
        "outputId": "f18f9d5c-a0d2-45b9-b558-ef9d0016b41d"
      },
      "source": [
        "tabela[\"Maçã\"]"
      ],
      "execution_count": null,
      "outputs": [
        {
          "output_type": "execute_result",
          "data": {
            "text/plain": [
              "4.49"
            ]
          },
          "metadata": {},
          "execution_count": 158
        }
      ]
    },
    {
      "cell_type": "code",
      "metadata": {
        "id": "xCGceb9hZPVI",
        "colab": {
          "base_uri": "https://localhost:8080/"
        },
        "outputId": "fda38d78-3050-4bf2-b9a9-205305f5478e"
      },
      "source": [
        "tabela['Tangerina']"
      ],
      "execution_count": null,
      "outputs": [
        {
          "output_type": "execute_result",
          "data": {
            "text/plain": [
              "2.99"
            ]
          },
          "metadata": {},
          "execution_count": 159
        }
      ]
    },
    {
      "cell_type": "code",
      "metadata": {
        "id": "R2ri8QmhZUqG",
        "colab": {
          "base_uri": "https://localhost:8080/",
          "height": 162
        },
        "outputId": "25d944f5-ec58-454f-8245-37792e95a0dd"
      },
      "source": [
        "tabela[0]"
      ],
      "execution_count": null,
      "outputs": [
        {
          "output_type": "error",
          "ename": "KeyError",
          "evalue": "ignored",
          "traceback": [
            "\u001b[0;31m---------------------------------------------------------------------------\u001b[0m",
            "\u001b[0;31mKeyError\u001b[0m                                  Traceback (most recent call last)",
            "\u001b[0;32m<ipython-input-160-29555c6f7549>\u001b[0m in \u001b[0;36m<module>\u001b[0;34m()\u001b[0m\n\u001b[0;32m----> 1\u001b[0;31m \u001b[0mtabela\u001b[0m\u001b[0;34m[\u001b[0m\u001b[0;36m0\u001b[0m\u001b[0;34m]\u001b[0m\u001b[0;34m\u001b[0m\u001b[0;34m\u001b[0m\u001b[0m\n\u001b[0m",
            "\u001b[0;31mKeyError\u001b[0m: 0"
          ]
        }
      ]
    },
    {
      "cell_type": "code",
      "metadata": {
        "id": "J2ew8AvwmmY9"
      },
      "source": [
        "L = [1, 2, 3]"
      ],
      "execution_count": null,
      "outputs": []
    },
    {
      "cell_type": "code",
      "metadata": {
        "id": "Tigs3cwYmoup"
      },
      "source": [
        "L = L + [4]"
      ],
      "execution_count": null,
      "outputs": []
    },
    {
      "cell_type": "code",
      "metadata": {
        "colab": {
          "base_uri": "https://localhost:8080/"
        },
        "id": "vPPwJSnDmr4k",
        "outputId": "c0746fc7-2e99-4d08-a18d-73b84a9095ee"
      },
      "source": [
        "L"
      ],
      "execution_count": null,
      "outputs": [
        {
          "output_type": "execute_result",
          "data": {
            "text/plain": [
              "[1, 2, 3, 4]"
            ]
          },
          "metadata": {},
          "execution_count": 163
        }
      ]
    },
    {
      "cell_type": "code",
      "metadata": {
        "id": "5rvte39kmtT8"
      },
      "source": [
        "L[0] = 0"
      ],
      "execution_count": null,
      "outputs": []
    },
    {
      "cell_type": "code",
      "metadata": {
        "colab": {
          "base_uri": "https://localhost:8080/"
        },
        "id": "0emDwhV2mxRC",
        "outputId": "56630e9d-0c0a-4eae-d80e-77c0360b27bb"
      },
      "source": [
        "L"
      ],
      "execution_count": null,
      "outputs": [
        {
          "output_type": "execute_result",
          "data": {
            "text/plain": [
              "[0, 2, 3, 4]"
            ]
          },
          "metadata": {},
          "execution_count": 165
        }
      ]
    },
    {
      "cell_type": "markdown",
      "metadata": {
        "id": "9lEgDyGWYVVF"
      },
      "source": [
        "Diferentemente de listas, onde o índice é um número, dicionários utilizam suas\n",
        "chaves como índice. \n",
        "\n",
        "Quando atribuímos um valor a uma chave, duas coisas podem ocorrer:\n",
        "\n",
        "1. Se a chave já existe: o valor associado é alterado para o novo valor.\n",
        "2. Se a chave não existe: a nova chave será adicionada ao dicionário."
      ]
    },
    {
      "cell_type": "code",
      "metadata": {
        "id": "BmgVg7ioYkFh"
      },
      "source": [
        "# Funcionamento do dicionário\n",
        "\n",
        "tabela = {\"Alface\": 0.99,\n",
        "          \"Tomate\": 3.99,\n",
        "          \"Maçã\": 4.49,\n",
        "          \"Tangerina\": 2.99}"
      ],
      "execution_count": null,
      "outputs": []
    },
    {
      "cell_type": "code",
      "metadata": {
        "id": "6yrHt0i6YtxU",
        "colab": {
          "base_uri": "https://localhost:8080/"
        },
        "outputId": "fc530512-5f2b-4052-d849-91a13c3b5780"
      },
      "source": [
        "print(tabela[\"Tomate\"])"
      ],
      "execution_count": null,
      "outputs": [
        {
          "output_type": "stream",
          "name": "stdout",
          "text": [
            "3.99\n"
          ]
        }
      ]
    },
    {
      "cell_type": "code",
      "metadata": {
        "id": "wExJuuMcYs3X",
        "colab": {
          "base_uri": "https://localhost:8080/"
        },
        "outputId": "a85de9b5-148c-4ce8-aabb-618dd94abda9"
      },
      "source": [
        "print(tabela)"
      ],
      "execution_count": null,
      "outputs": [
        {
          "output_type": "stream",
          "name": "stdout",
          "text": [
            "{'Alface': 0.99, 'Tomate': 3.99, 'Maçã': 4.49, 'Tangerina': 2.99}\n"
          ]
        }
      ]
    },
    {
      "cell_type": "code",
      "metadata": {
        "id": "jPBpYEkRZe9G"
      },
      "source": [
        "tabela[\"Tomate\"] = 5.99"
      ],
      "execution_count": null,
      "outputs": []
    },
    {
      "cell_type": "code",
      "metadata": {
        "id": "xPpHWmo6Zh0w",
        "colab": {
          "base_uri": "https://localhost:8080/"
        },
        "outputId": "98f84666-c492-4a24-8c7f-ad054ab93c44"
      },
      "source": [
        "print(tabela[\"Tomate\"])"
      ],
      "execution_count": null,
      "outputs": [
        {
          "output_type": "stream",
          "name": "stdout",
          "text": [
            "5.99\n"
          ]
        }
      ]
    },
    {
      "cell_type": "code",
      "metadata": {
        "id": "EhmRdhY7HZki",
        "colab": {
          "base_uri": "https://localhost:8080/",
          "height": 162
        },
        "outputId": "884fad96-6689-4c72-8594-4facdd48d3a7"
      },
      "source": [
        "tabela[\"Cebola\"]"
      ],
      "execution_count": null,
      "outputs": [
        {
          "output_type": "error",
          "ename": "KeyError",
          "evalue": "ignored",
          "traceback": [
            "\u001b[0;31m---------------------------------------------------------------------------\u001b[0m",
            "\u001b[0;31mKeyError\u001b[0m                                  Traceback (most recent call last)",
            "\u001b[0;32m<ipython-input-171-52913f9d0c87>\u001b[0m in \u001b[0;36m<module>\u001b[0;34m()\u001b[0m\n\u001b[0;32m----> 1\u001b[0;31m \u001b[0mtabela\u001b[0m\u001b[0;34m[\u001b[0m\u001b[0;34m\"Cebola\"\u001b[0m\u001b[0;34m]\u001b[0m\u001b[0;34m\u001b[0m\u001b[0;34m\u001b[0m\u001b[0m\n\u001b[0m",
            "\u001b[0;31mKeyError\u001b[0m: 'Cebola'"
          ]
        }
      ]
    },
    {
      "cell_type": "code",
      "metadata": {
        "id": "OU2HRwUlZnFm"
      },
      "source": [
        "tabela[\"Cebola\"] = 2.29"
      ],
      "execution_count": null,
      "outputs": []
    },
    {
      "cell_type": "code",
      "metadata": {
        "id": "okZYKgXyZrCe",
        "colab": {
          "base_uri": "https://localhost:8080/"
        },
        "outputId": "d13a948c-d5c6-4fff-e522-e8d16a1ed636"
      },
      "source": [
        "print(tabela)"
      ],
      "execution_count": null,
      "outputs": [
        {
          "output_type": "stream",
          "name": "stdout",
          "text": [
            "{'Alface': 0.99, 'Tomate': 5.99, 'Maçã': 4.49, 'Tangerina': 2.99, 'Cebola': 2.29}\n"
          ]
        }
      ]
    },
    {
      "cell_type": "markdown",
      "metadata": {
        "id": "HL0Bu4zPaHGF"
      },
      "source": [
        "Para verificar se uma chave existe: "
      ]
    },
    {
      "cell_type": "code",
      "metadata": {
        "id": "ycSFqfzFaQd1"
      },
      "source": [
        "# Acessando uma chave inexistente\n",
        "\n",
        "tabela = {\"Alface\": 0.99,\n",
        "          \"Tomate\": 3.99,\n",
        "          \"Maçã\": 4.49,\n",
        "          \"Tangerina\": 2.99}"
      ],
      "execution_count": null,
      "outputs": []
    },
    {
      "cell_type": "code",
      "metadata": {
        "id": "fLpqQbUtaXvt",
        "colab": {
          "base_uri": "https://localhost:8080/",
          "height": 162
        },
        "outputId": "4d42de2a-0985-4189-fc85-7260b0b6e89f"
      },
      "source": [
        "print(tabela[\"Manga\"])"
      ],
      "execution_count": null,
      "outputs": [
        {
          "output_type": "error",
          "ename": "KeyError",
          "evalue": "ignored",
          "traceback": [
            "\u001b[0;31m---------------------------------------------------------------------------\u001b[0m",
            "\u001b[0;31mKeyError\u001b[0m                                  Traceback (most recent call last)",
            "\u001b[0;32m<ipython-input-176-dab268806504>\u001b[0m in \u001b[0;36m<module>\u001b[0;34m()\u001b[0m\n\u001b[0;32m----> 1\u001b[0;31m \u001b[0mprint\u001b[0m\u001b[0;34m(\u001b[0m\u001b[0mtabela\u001b[0m\u001b[0;34m[\u001b[0m\u001b[0;34m\"Manga\"\u001b[0m\u001b[0;34m]\u001b[0m\u001b[0;34m)\u001b[0m\u001b[0;34m\u001b[0m\u001b[0;34m\u001b[0m\u001b[0m\n\u001b[0m",
            "\u001b[0;31mKeyError\u001b[0m: 'Manga'"
          ]
        }
      ]
    },
    {
      "cell_type": "markdown",
      "metadata": {
        "id": "yE3Pw54HacrB"
      },
      "source": [
        "Se a chave não existir, uma exceção do tipo KeyError será ativada. Para verificar se uma chave pertence ao dicionário, podemos usar o operador **in**:"
      ]
    },
    {
      "cell_type": "code",
      "metadata": {
        "id": "ShqUqmbzacPY"
      },
      "source": [
        "# Verificação da existência de uma chave\n",
        "\n",
        "tabela = {\"Alface\": 0.99,\n",
        "          \"Tomate\": 3.99,\n",
        "          \"Maçã\": 4.49,\n",
        "          \"Tangerina\": 2.99}"
      ],
      "execution_count": null,
      "outputs": []
    },
    {
      "cell_type": "code",
      "metadata": {
        "id": "xY8Bjhx_anhm",
        "colab": {
          "base_uri": "https://localhost:8080/"
        },
        "outputId": "c9d388bc-7edb-4fb4-ea85-2a98b0ed3046"
      },
      "source": [
        "print(\"Manga\" in tabela)"
      ],
      "execution_count": null,
      "outputs": [
        {
          "output_type": "stream",
          "name": "stdout",
          "text": [
            "False\n"
          ]
        }
      ]
    },
    {
      "cell_type": "code",
      "metadata": {
        "id": "lETwMsfbancx",
        "colab": {
          "base_uri": "https://localhost:8080/"
        },
        "outputId": "7163c9c3-752f-46cb-dcaa-b765b3c30910"
      },
      "source": [
        "print(\"Maçã\" in tabela)"
      ],
      "execution_count": null,
      "outputs": [
        {
          "output_type": "stream",
          "name": "stdout",
          "text": [
            "True\n"
          ]
        }
      ]
    },
    {
      "cell_type": "markdown",
      "metadata": {
        "id": "aqP-MiFXazzp"
      },
      "source": [
        "Podemos também obter uma lista com as chaves do dicionário, ou mesmo uma lista dos valores associados:"
      ]
    },
    {
      "cell_type": "code",
      "metadata": {
        "id": "pAbr-dFaanYJ"
      },
      "source": [
        "# Obtenção de uma lista de chaves e valores\n",
        "\n",
        "tabela = {\"Alface\": 0.99,\n",
        "          \"Tomate\": 3.99,\n",
        "          \"Maçã\": 4.49,\n",
        "          \"Tangerina\": 2.99}"
      ],
      "execution_count": null,
      "outputs": []
    },
    {
      "cell_type": "code",
      "metadata": {
        "id": "zD-m5dARa6AC",
        "colab": {
          "base_uri": "https://localhost:8080/"
        },
        "outputId": "f836d527-fb0a-4b85-d4f7-bc2b2eef01eb"
      },
      "source": [
        "print(tabela.keys())"
      ],
      "execution_count": null,
      "outputs": [
        {
          "output_type": "stream",
          "name": "stdout",
          "text": [
            "dict_keys(['Alface', 'Tomate', 'Maçã', 'Tangerina'])\n"
          ]
        }
      ]
    },
    {
      "cell_type": "code",
      "metadata": {
        "id": "rSQXZ_Rna5xp",
        "colab": {
          "base_uri": "https://localhost:8080/"
        },
        "outputId": "939a7418-c04f-4eed-db51-fd075dfb40e3"
      },
      "source": [
        "print(tabela.values())"
      ],
      "execution_count": null,
      "outputs": [
        {
          "output_type": "stream",
          "name": "stdout",
          "text": [
            "dict_values([0.99, 3.99, 4.49, 2.99])\n"
          ]
        }
      ]
    },
    {
      "cell_type": "markdown",
      "metadata": {
        "id": "G6nS7kz8np7L"
      },
      "source": [
        "Criando um dicionário (maneira alternativa)"
      ]
    },
    {
      "cell_type": "code",
      "metadata": {
        "colab": {
          "base_uri": "https://localhost:8080/"
        },
        "id": "BWpx9y7fnpQw",
        "outputId": "6871a54b-7d6e-4b29-97c3-09ebcb2d8224"
      },
      "source": [
        "# Claudio\n",
        "\n",
        "tabela = dict()\n",
        "\n",
        "tabela['Alface'] = 0.99\n",
        "tabela['Tomate'] = 3.99\n",
        "\n",
        "print(tabela) "
      ],
      "execution_count": null,
      "outputs": [
        {
          "output_type": "stream",
          "name": "stdout",
          "text": [
            "{'Alface': 0.99, 'Tomate': 3.99}\n"
          ]
        }
      ]
    },
    {
      "cell_type": "markdown",
      "metadata": {
        "id": "YuGm6WVecHJZ"
      },
      "source": [
        "Para apagar uma chave, utilizaremos a instrução **del**:"
      ]
    },
    {
      "cell_type": "code",
      "metadata": {
        "id": "RcQj4s3LcMjV"
      },
      "source": [
        "# Exclusão de uma associação do dicionário\n",
        "\n",
        "tabela = {\"Alface\": 0.99,\n",
        "          \"Tomate\": 3.99,\n",
        "          \"Maçã\": 4.49,\n",
        "          \"Tangerina\": 2.99}"
      ],
      "execution_count": null,
      "outputs": []
    },
    {
      "cell_type": "code",
      "metadata": {
        "id": "lcnV5rn2cXBM"
      },
      "source": [
        "del tabela[\"Tomate\"]"
      ],
      "execution_count": null,
      "outputs": []
    },
    {
      "cell_type": "code",
      "metadata": {
        "id": "3C6fryDWcXnj",
        "colab": {
          "base_uri": "https://localhost:8080/"
        },
        "outputId": "a9b836a1-73f3-4d36-c16a-3bba69391556"
      },
      "source": [
        "print(tabela)"
      ],
      "execution_count": null,
      "outputs": [
        {
          "output_type": "stream",
          "name": "stdout",
          "text": [
            "{'Alface': 0.99, 'Maçã': 4.49, 'Tangerina': 2.99}\n"
          ]
        }
      ]
    },
    {
      "cell_type": "markdown",
      "metadata": {
        "id": "cXkKoAE6d0ux"
      },
      "source": [
        "Quando utilizar dicionário:\n",
        "\n",
        "* Se seus dados são facilmente acessados por suas chaves, quase nunca você precisa acessá-los de uma só vez\n",
        "* Você pode acessar os valores associados a uma chave rapidamente sem pesquisar"
      ]
    },
    {
      "cell_type": "markdown",
      "metadata": {
        "id": "IYJbv8gPgiXA"
      },
      "source": [
        "## Dicionários com listas\n",
        "\n",
        "Em Python, podemos ter dicionários nos quais as chaves são associadas a listas\n",
        "ou mesmo a outros dicionários.\n",
        "\n",
        "Imagine uma relação de estoque de mercadorias onde teríamos, além do preço, a quantidade em estoque:\n",
        "\n"
      ]
    },
    {
      "cell_type": "code",
      "metadata": {
        "id": "fGfdWcUEgyBP"
      },
      "source": [
        "# Dicionário com listas\n",
        "\n",
        "estoque = {\"Alface\": [500, 0.99],\n",
        "          \"Tomate\": [2000, 3.99],\n",
        "          \"Maçã\": [1500, 4.49],\n",
        "          \"Tangerina\": [600, 2.99]}"
      ],
      "execution_count": null,
      "outputs": []
    },
    {
      "cell_type": "markdown",
      "metadata": {
        "id": "4_vuFs4PhMkv"
      },
      "source": [
        "Nesse caso, o nome do produto é a chave, e a lista consiste nos valores associados, uma lista por chave. O primeiro elemento da lista é a quantidade disponível; e o segundo, o preço do produto.\n",
        "\n",
        "Uma aplicação seria processarmos uma lista de operações e calcular o preço total\n",
        "de venda, atualizando também a quantidade em estoque:\n",
        "\n"
      ]
    },
    {
      "cell_type": "code",
      "metadata": {
        "id": "05J3Q78nPkqe",
        "colab": {
          "base_uri": "https://localhost:8080/"
        },
        "outputId": "ca563fbd-d261-4146-80e2-47765c2550ef"
      },
      "source": [
        "estoque = {\"Alface\": [500, 0.99],\n",
        "          \"Tomate\": [2000, 3.99],\n",
        "          \"Maçã\": [1500, 4.49],\n",
        "          \"Tangerina\": [600, 2.99]}\n",
        "\n",
        "estoque.items()"
      ],
      "execution_count": null,
      "outputs": [
        {
          "output_type": "execute_result",
          "data": {
            "text/plain": [
              "dict_items([('Alface', [500, 0.99]), ('Tomate', [2000, 3.99]), ('Maçã', [1500, 4.49]), ('Tangerina', [600, 2.99])])"
            ]
          },
          "metadata": {},
          "execution_count": 189
        }
      ]
    },
    {
      "cell_type": "markdown",
      "metadata": {
        "id": "nH1erTgCZmwL"
      },
      "source": [
        "**Método de dicionários get()**\n",
        "\n",
        "O método **get()** retorna o valor da chave especificada se a chave existir no dicionário.\n",
        "\n",
        "Sintaxe: \n",
        "\n",
        "```\n",
        "dict.get(chave[, valor]) \n",
        "```\n",
        "* chave - chave a ser pesquisada no dicionário.  \n",
        "* valor (opcional) - valor a ser devolvido se a chave não for encontrada. O valor padrão é `None`.\n"
      ]
    },
    {
      "cell_type": "code",
      "metadata": {
        "id": "9XhDfEPmbbDj"
      },
      "source": [
        "dicionário = {\"Alface\": 0.99,\n",
        "              \"Tomate\": 3.99,\n",
        "              \"Maçã\": 4.49,\n",
        "              \"Tangerina\": 2.99}"
      ],
      "execution_count": null,
      "outputs": []
    },
    {
      "cell_type": "code",
      "metadata": {
        "id": "SanZ9ZHPba4K",
        "colab": {
          "base_uri": "https://localhost:8080/"
        },
        "outputId": "00d3cf59-b6df-46e0-f835-278845c37d67"
      },
      "source": [
        "print(dicionário.get(\"Alface\"))"
      ],
      "execution_count": null,
      "outputs": [
        {
          "output_type": "stream",
          "name": "stdout",
          "text": [
            "0.99\n"
          ]
        }
      ]
    },
    {
      "cell_type": "code",
      "metadata": {
        "id": "SGDXtKj0bxEg",
        "colab": {
          "base_uri": "https://localhost:8080/"
        },
        "outputId": "d0a4e672-26ac-4d77-bdbf-fda08087f7e1"
      },
      "source": [
        "print(dicionário.get(\"Laranja\"))"
      ],
      "execution_count": null,
      "outputs": [
        {
          "output_type": "stream",
          "name": "stdout",
          "text": [
            "None\n"
          ]
        }
      ]
    },
    {
      "cell_type": "code",
      "metadata": {
        "id": "BgnGHyWJHVs9"
      },
      "source": [
        "type(None)"
      ],
      "execution_count": null,
      "outputs": []
    },
    {
      "cell_type": "code",
      "metadata": {
        "id": "2LsMS1X5cTqQ",
        "colab": {
          "base_uri": "https://localhost:8080/"
        },
        "outputId": "67c295e3-6316-48f7-9024-aada80d45b48"
      },
      "source": [
        "print(dicionário.get(\"Laranja\"), 0)"
      ],
      "execution_count": null,
      "outputs": [
        {
          "output_type": "stream",
          "name": "stdout",
          "text": [
            "None 0\n"
          ]
        }
      ]
    },
    {
      "cell_type": "code",
      "metadata": {
        "id": "fHzV9Q_YcWDO",
        "colab": {
          "base_uri": "https://localhost:8080/"
        },
        "outputId": "4bdfa8b3-a85a-48d0-8713-ab7b5085c8f7"
      },
      "source": [
        "print(dicionário.get(\"Laranja\"), 10)"
      ],
      "execution_count": null,
      "outputs": [
        {
          "output_type": "stream",
          "name": "stdout",
          "text": [
            "None 10\n"
          ]
        }
      ]
    },
    {
      "cell_type": "markdown",
      "metadata": {
        "id": "GaR8wvfROpTm"
      },
      "source": [
        "# Vetores e matrizes\n"
      ]
    },
    {
      "cell_type": "markdown",
      "metadata": {
        "id": "XtASoVNcLPvI"
      },
      "source": [
        "## Vetores\n",
        "\n",
        "\n",
        " \n",
        "Um vetor é uma sequência de dados ocupando posições consecutivas de memória e por isso existe uma ordem natural (o primeiro elemento, o segundo e assim por diante). \n",
        "\n",
        "A grande vantagem de usar vetor é poder trabalhar com um grande número de variáveis utilizando um único nome (para a variável). Para isso existe uma sintaxe especial para pegar elementos do vetor em posições específicas (como o primeiro elemento ou o décimo elemento).\n",
        "\n",
        "Em Python, o termo **lista** é comumente usado quando queremos nos referir a vetores, mas embarca um conceito mais amplo, uma vez que listas podem conter elementos de tipos diferentes, podendo inclusive incluir outras listas.\n",
        "\n",
        "\n",
        "\n"
      ]
    },
    {
      "cell_type": "markdown",
      "metadata": {
        "id": "uyfVth1qML69"
      },
      "source": [
        "Vetor é uma quantidade que possui direção, magnetitude (intensidade) e sentido. \n",
        "\n",
        "<img src=\"https://linuxhint.com/wp-content/uploads/2019/06/1-34.png\"/>\n",
        "\n",
        "Vetores são muito importantes em **Machine Learning**, pois eles não apenas descrevem a magnitude, mas também a direção das features.\n",
        "\n",
        "Em Python, podemos entender um vetor como um array unidimensional.\n",
        "\n",
        "NumPy: https://numpy.org/doc/stable/user/absolute_beginners.html\n",
        "\n"
      ]
    },
    {
      "cell_type": "code",
      "metadata": {
        "id": "71XG6JKWLPA9",
        "colab": {
          "base_uri": "https://localhost:8080/"
        },
        "outputId": "cdcc2d8c-7a6a-4dad-d9f7-6a852b86c12c"
      },
      "source": [
        "# Para definir um vetor em Python, temos que usar a biblioteca numpy (que inclui função array)\n",
        "\n",
        "import numpy as np\n",
        "\n",
        "lista = [1,2,3]\n",
        "\n",
        "vetor_linha = np.array(lista)\n",
        "\n",
        "print(vetor_linha)"
      ],
      "execution_count": null,
      "outputs": [
        {
          "output_type": "stream",
          "name": "stdout",
          "text": [
            "[1 2 3]\n"
          ]
        }
      ]
    },
    {
      "cell_type": "code",
      "metadata": {
        "id": "5MoLTwg5mQUJ",
        "colab": {
          "base_uri": "https://localhost:8080/"
        },
        "outputId": "e4145cbb-dc6e-47ce-b9a4-d922ea7211a2"
      },
      "source": [
        "type(lista)"
      ],
      "execution_count": null,
      "outputs": [
        {
          "output_type": "execute_result",
          "data": {
            "text/plain": [
              "list"
            ]
          },
          "metadata": {},
          "execution_count": 197
        }
      ]
    },
    {
      "cell_type": "code",
      "metadata": {
        "id": "0SOT40EtmQA7",
        "colab": {
          "base_uri": "https://localhost:8080/"
        },
        "outputId": "1b9381ca-35b4-4781-d91d-af27334bf72f"
      },
      "source": [
        "type(vetor_linha)"
      ],
      "execution_count": null,
      "outputs": [
        {
          "output_type": "execute_result",
          "data": {
            "text/plain": [
              "numpy.ndarray"
            ]
          },
          "metadata": {},
          "execution_count": 198
        }
      ]
    },
    {
      "cell_type": "code",
      "metadata": {
        "id": "Pk4WgzHVNr5J",
        "colab": {
          "base_uri": "https://localhost:8080/"
        },
        "outputId": "71335aca-c408-449f-ecc7-005ec5eafc01"
      },
      "source": [
        "vetor_coluna = [[1],[2],[3]]\n",
        "vetor_coluna = np.array(vetor_coluna)\n",
        "print(vetor_coluna)"
      ],
      "execution_count": null,
      "outputs": [
        {
          "output_type": "stream",
          "name": "stdout",
          "text": [
            "[[1]\n",
            " [2]\n",
            " [3]]\n"
          ]
        }
      ]
    },
    {
      "cell_type": "markdown",
      "metadata": {
        "id": "THBvx8xeRc6R"
      },
      "source": [
        "Operações básicas com vetores em Python:\n",
        "\n",
        "* Adição\n",
        "* Subtração\n",
        "* Multiplicação\n",
        "* Divisão\n",
        "* Produto interno, etc"
      ]
    },
    {
      "cell_type": "code",
      "metadata": {
        "id": "bVXxcBHkR73G",
        "colab": {
          "base_uri": "https://localhost:8080/"
        },
        "outputId": "16acd980-6c76-4d5f-be8f-3cb0bf6b1fd5"
      },
      "source": [
        "# Adição\n",
        "\n",
        "import numpy as np \n",
        " \n",
        "lst1 = [10, 20, 30, 40, 50] \n",
        "lst2 = [1, 2, 3, 4, 5]\n",
        " \n",
        " \n",
        "vctr1 = np.array(lst1) \n",
        " \n",
        "vctr2 = np.array(lst2) \n",
        " \n",
        " \n",
        "print(\"Vetor criado a partir da lista 1:\") \n",
        "print(vctr1) \n",
        "print(\"Vetor criado a partir da lista 2:\") \n",
        "print(vctr2) "
      ],
      "execution_count": null,
      "outputs": [
        {
          "output_type": "stream",
          "name": "stdout",
          "text": [
            "Vetor criado a partir da lista 1:\n",
            "[10 20 30 40 50]\n",
            "Vetor criado a partir da lista 2:\n",
            "[1 2 3 4 5]\n"
          ]
        }
      ]
    },
    {
      "cell_type": "code",
      "metadata": {
        "id": "PllpH3fdnDWU",
        "colab": {
          "base_uri": "https://localhost:8080/"
        },
        "outputId": "2ca74991-7dcf-4a85-e43a-7ea60bba88ab"
      },
      "source": [
        "type(vctr1)"
      ],
      "execution_count": null,
      "outputs": [
        {
          "output_type": "execute_result",
          "data": {
            "text/plain": [
              "numpy.ndarray"
            ]
          },
          "metadata": {},
          "execution_count": 203
        }
      ]
    },
    {
      "cell_type": "code",
      "metadata": {
        "id": "dsNI6r-onDKX",
        "colab": {
          "base_uri": "https://localhost:8080/"
        },
        "outputId": "f57baab7-dd00-4bfd-a068-c5f3733f3356"
      },
      "source": [
        "vctr_add = vctr1 + vctr2\n",
        "print(\"Adição de dois vetores: \",vctr_add)"
      ],
      "execution_count": null,
      "outputs": [
        {
          "output_type": "stream",
          "name": "stdout",
          "text": [
            "Adição de dois vetores:  [11 22 33 44 55]\n"
          ]
        }
      ]
    },
    {
      "cell_type": "code",
      "metadata": {
        "id": "vfpDducunC4q",
        "colab": {
          "base_uri": "https://localhost:8080/"
        },
        "outputId": "aecc8db2-8ab7-43a1-e86d-c1419edddd19"
      },
      "source": [
        "vctr_produto = vctr1 * vctr2\n",
        "print(\"Produto de dois vetores: \", vctr_produto)"
      ],
      "execution_count": null,
      "outputs": [
        {
          "output_type": "stream",
          "name": "stdout",
          "text": [
            "Produto de dois vetores:  [ 10  40  90 160 250]\n"
          ]
        }
      ]
    },
    {
      "cell_type": "code",
      "metadata": {
        "id": "Egia64WjnaSf",
        "colab": {
          "base_uri": "https://localhost:8080/"
        },
        "outputId": "fbc0ea7e-0cab-4f74-f55a-466c2ae8256b"
      },
      "source": [
        "vctr_div = vctr1 / vctr2\n",
        "print(\"Produto de dois vetores: \", vctr_div)"
      ],
      "execution_count": null,
      "outputs": [
        {
          "output_type": "stream",
          "name": "stdout",
          "text": [
            "Produto de dois vetores:  [10. 10. 10. 10. 10.]\n"
          ]
        }
      ]
    },
    {
      "cell_type": "code",
      "metadata": {
        "id": "cfIYGPtkn8o_",
        "colab": {
          "base_uri": "https://localhost:8080/"
        },
        "outputId": "fca3195e-0963-4c17-ac4b-c136a9631e67"
      },
      "source": [
        "vctr1[-1]"
      ],
      "execution_count": null,
      "outputs": [
        {
          "output_type": "execute_result",
          "data": {
            "text/plain": [
              "50"
            ]
          },
          "metadata": {},
          "execution_count": 207
        }
      ]
    },
    {
      "cell_type": "code",
      "metadata": {
        "id": "AkSn9f42n9Dx",
        "colab": {
          "base_uri": "https://localhost:8080/"
        },
        "outputId": "2691aa86-1cba-4197-da91-680b4ba1f1ce"
      },
      "source": [
        "vctr1[0]"
      ],
      "execution_count": null,
      "outputs": [
        {
          "output_type": "execute_result",
          "data": {
            "text/plain": [
              "10"
            ]
          },
          "metadata": {},
          "execution_count": 208
        }
      ]
    },
    {
      "cell_type": "code",
      "metadata": {
        "id": "V9arPC5r5taw",
        "colab": {
          "base_uri": "https://localhost:8080/"
        },
        "outputId": "2ff0724e-0cb1-41ac-e7ac-f2229af6e7c8"
      },
      "source": [
        "vctr1[0:3]"
      ],
      "execution_count": null,
      "outputs": [
        {
          "output_type": "execute_result",
          "data": {
            "text/plain": [
              "array([10, 20, 30])"
            ]
          },
          "metadata": {},
          "execution_count": 209
        }
      ]
    },
    {
      "cell_type": "markdown",
      "metadata": {
        "id": "6Ld5MS4VVzKL"
      },
      "source": [
        "## Matrizes\n",
        "\n",
        "Uma matriz é uma estrutura de dados onde números estão arranjados em linhas e colunas. Uma matriz é uma matriz 3X4 (três por quatro) porque ele possui 3 linhas e 4 colunas.\n",
        "\n",
        "Em Python não há uma construção embutida para matrizes. Porém, podemos tratar uma lista de uma lista como uma matriz. Por exemplo:"
      ]
    },
    {
      "cell_type": "code",
      "metadata": {
        "id": "G8M0MGUNOFD3"
      },
      "source": [
        "A = [[1, 4, 5], \n",
        "    [-5, 8, 9]]"
      ],
      "execution_count": null,
      "outputs": []
    },
    {
      "cell_type": "code",
      "metadata": {
        "id": "7HHynQYMRXjT",
        "colab": {
          "base_uri": "https://localhost:8080/"
        },
        "outputId": "3d94b3a1-b0f9-404e-bcc4-a81edfdc6cf9"
      },
      "source": [
        "A"
      ],
      "execution_count": null,
      "outputs": [
        {
          "output_type": "execute_result",
          "data": {
            "text/plain": [
              "[[1, 4, 5], [-5, 8, 9]]"
            ]
          },
          "metadata": {},
          "execution_count": 212
        }
      ]
    },
    {
      "cell_type": "code",
      "metadata": {
        "id": "60EM-zun6LhT"
      },
      "source": [
        "A = [[1, 4, 5, 12], \n",
        "    [-5, 8, 9, 0],\n",
        "    [-6, 7, 11, 19]]"
      ],
      "execution_count": null,
      "outputs": []
    },
    {
      "cell_type": "code",
      "metadata": {
        "id": "1vmAZjDo6PAd",
        "colab": {
          "base_uri": "https://localhost:8080/"
        },
        "outputId": "26ce2f27-0b32-45c6-d8c8-8df4ad3bf478"
      },
      "source": [
        "print(\"A =\", A) "
      ],
      "execution_count": null,
      "outputs": [
        {
          "output_type": "stream",
          "name": "stdout",
          "text": [
            "A = [[1, 4, 5, 12], [-5, 8, 9, 0], [-6, 7, 11, 19]]\n"
          ]
        }
      ]
    },
    {
      "cell_type": "code",
      "metadata": {
        "id": "8BE92Bx56Sea",
        "colab": {
          "base_uri": "https://localhost:8080/"
        },
        "outputId": "e9db4c53-5c78-4bd0-f034-43c0a84be889"
      },
      "source": [
        "print(\"A[1] =\", A[1])      # segunda linha"
      ],
      "execution_count": null,
      "outputs": [
        {
          "output_type": "stream",
          "name": "stdout",
          "text": [
            "A[1] = [-5, 8, 9, 0]\n"
          ]
        }
      ]
    },
    {
      "cell_type": "code",
      "metadata": {
        "id": "tDgBE3fJ6bi7",
        "colab": {
          "base_uri": "https://localhost:8080/"
        },
        "outputId": "9e696e4e-8d54-4f7f-f71e-8be91c3c9c72"
      },
      "source": [
        "print(\"A[1][2] =\", A[1][2])   # terceiro elemento da segunda linha"
      ],
      "execution_count": null,
      "outputs": [
        {
          "output_type": "stream",
          "name": "stdout",
          "text": [
            "A[1][2] = 9\n"
          ]
        }
      ]
    },
    {
      "cell_type": "code",
      "metadata": {
        "id": "6tZMT-EJ6tbR",
        "colab": {
          "base_uri": "https://localhost:8080/"
        },
        "outputId": "a55e65ed-d84f-4a9e-cba9-32f83d7de84c"
      },
      "source": [
        "print(\"A[0][-1] =\", A[0][-1])   # Último elemento da primeira linha"
      ],
      "execution_count": null,
      "outputs": [
        {
          "output_type": "stream",
          "name": "stdout",
          "text": [
            "A[0][-1] = 12\n"
          ]
        }
      ]
    },
    {
      "cell_type": "markdown",
      "metadata": {
        "id": "kce-3oYlcier"
      },
      "source": [
        "Usar listas aninhadas (lista de listas) como uma matriz funciona para tarefas simples, porém, há uma maneira melhor de trabalhar com matrizes em Python usando o pacote Numpy."
      ]
    }
  ]
}