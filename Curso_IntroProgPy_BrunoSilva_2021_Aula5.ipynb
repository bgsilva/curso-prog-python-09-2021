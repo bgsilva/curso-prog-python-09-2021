{
  "nbformat": 4,
  "nbformat_minor": 0,
  "metadata": {
    "colab": {
      "name": "Curso_IntroProgPy_BrunoSilva_2021_Aula5.ipynb",
      "provenance": [],
      "collapsed_sections": [],
      "toc_visible": true,
      "authorship_tag": "ABX9TyMQiXN/5hJJr9VtV40Z47tZ",
      "include_colab_link": true
    },
    "kernelspec": {
      "name": "python3",
      "display_name": "Python 3"
    },
    "language_info": {
      "name": "python"
    }
  },
  "cells": [
    {
      "cell_type": "markdown",
      "metadata": {
        "id": "view-in-github",
        "colab_type": "text"
      },
      "source": [
        "<a href=\"https://colab.research.google.com/github/bgsilva/curso-prog-python-09-2021/blob/main/Curso_IntroProgPy_BrunoSilva_2021_Aula5.ipynb\" target=\"_parent\"><img src=\"https://colab.research.google.com/assets/colab-badge.svg\" alt=\"Open In Colab\"/></a>"
      ]
    },
    {
      "cell_type": "markdown",
      "metadata": {
        "id": "r7NbiDYlHxan"
      },
      "source": [
        "# Introdução à Programação em Python\n",
        "## Prof. Bruno Silva\n",
        "\n",
        "---\n",
        "\n",
        "## Aula 5: Funções\n",
        "\n",
        "* Funções\n",
        "* Classes e objetos\n",
        "\n",
        "### 10/09/2021"
      ]
    },
    {
      "cell_type": "markdown",
      "metadata": {
        "id": "1V-ZgjVFqeOx"
      },
      "source": [
        "# Funções\n",
        "\n",
        "Funções são blocos de código que definimos para executar uma operação que utilizaremos mais de uma vez ao longo de nosso programa, a fim de facilitar a escrita do código responsável pela construção deste programa."
      ]
    },
    {
      "cell_type": "markdown",
      "metadata": {
        "id": "vAvrHPsRx1D5"
      },
      "source": [
        "## Introdução"
      ]
    },
    {
      "cell_type": "markdown",
      "metadata": {
        "id": "t5oMpvSqqeDp"
      },
      "source": [
        "Vimos como usar várias funções, como: *len*, *int* , *str*, *float* , *print*, *input* ...\n",
        "\n",
        "Agora veremos como declarar novas funções e utilizá-las em programas.\n",
        "\n",
        "---\n",
        "\n",
        "Para definir uma nova função, utilizaremos a instrução **def**:\n",
        "\n",
        "```\n",
        "def hello():\n",
        "  print(\"Olá, mundo!\")\n",
        "```"
      ]
    },
    {
      "cell_type": "code",
      "metadata": {
        "id": "lAx81A0Gk_zm"
      },
      "source": [
        "def olá():\n",
        "  print(\"Olá, mundo!\")"
      ],
      "execution_count": null,
      "outputs": []
    },
    {
      "cell_type": "code",
      "metadata": {
        "id": "1bngP1VHlIfS"
      },
      "source": [
        "olá()"
      ],
      "execution_count": null,
      "outputs": []
    },
    {
      "cell_type": "markdown",
      "metadata": {
        "id": "WaajIKHslRvW"
      },
      "source": [
        "Por exemplo, vejamos como declarar uma função de soma que recebe dois números como parâmetros e os imprime na tela:"
      ]
    },
    {
      "cell_type": "code",
      "metadata": {
        "id": "3nLj0jOFD3kE"
      },
      "source": [
        "# Definição de uma nova função\n",
        "\n",
        "def soma(a, b):\n",
        "  print(a + b)"
      ],
      "execution_count": null,
      "outputs": []
    },
    {
      "cell_type": "code",
      "metadata": {
        "id": "HKtvRu0tlehT"
      },
      "source": [
        "soma(1, -2)"
      ],
      "execution_count": null,
      "outputs": []
    },
    {
      "cell_type": "markdown",
      "metadata": {
        "id": "ptVj0dlFtCkx"
      },
      "source": [
        "Diferentemente do que já vimos até agora, *essas linhas não serão executadas imediatamente*, exceto a definição da função em si. \n",
        "\n",
        "Na realidade, a definição prepara o interpretador para executar a função quando esta for chamada em outras partes do programa.\n",
        "\n",
        "Para chamar uma função definida no programa escrevemos o nome da função seguido dos parâmetros entre parênteses."
      ]
    },
    {
      "cell_type": "code",
      "metadata": {
        "id": "FlfxZBudsqUX"
      },
      "source": [
        "soma(2, 9)"
      ],
      "execution_count": null,
      "outputs": []
    },
    {
      "cell_type": "code",
      "metadata": {
        "id": "IpL-zK69ssUW"
      },
      "source": [
        "soma(7, 13)"
      ],
      "execution_count": null,
      "outputs": []
    },
    {
      "cell_type": "code",
      "metadata": {
        "id": "2pH-3HO2srox"
      },
      "source": [
        "soma(30, 20)"
      ],
      "execution_count": null,
      "outputs": []
    },
    {
      "cell_type": "markdown",
      "metadata": {
        "id": "x18aM7XVl4Bv"
      },
      "source": [
        "Nova função"
      ]
    },
    {
      "cell_type": "code",
      "metadata": {
        "id": "21makYf8lvsA"
      },
      "source": [
        "def nova_soma(a, b, c, d):\n",
        "  print(a + b + c + d)"
      ],
      "execution_count": null,
      "outputs": []
    },
    {
      "cell_type": "code",
      "metadata": {
        "id": "a3tThEool50Y"
      },
      "source": [
        "nova_soma(1, 2, 3, 4)"
      ],
      "execution_count": null,
      "outputs": []
    },
    {
      "cell_type": "code",
      "metadata": {
        "id": "aA4sseFwmLPU"
      },
      "source": [
        "nova_soma(5, 5, 1, 4)"
      ],
      "execution_count": null,
      "outputs": []
    },
    {
      "cell_type": "code",
      "metadata": {
        "id": "tQ811ASsmUuj"
      },
      "source": [
        "a = nova_soma(5, 5, 1, 4)"
      ],
      "execution_count": null,
      "outputs": []
    },
    {
      "cell_type": "code",
      "metadata": {
        "id": "lDSig6s1mY56"
      },
      "source": [
        "type(a)"
      ],
      "execution_count": null,
      "outputs": []
    },
    {
      "cell_type": "code",
      "metadata": {
        "id": "D5m8_nMPmi3Z"
      },
      "source": [
        "print(a)"
      ],
      "execution_count": null,
      "outputs": []
    },
    {
      "cell_type": "markdown",
      "metadata": {
        "id": "uJZ8WHvhtugn"
      },
      "source": [
        "Funções são especialmente interessantes para isolar uma tarefa específica em um trecho de programa. \n",
        "\n",
        "Isso permite que a solução de um problema seja reutilizada em outras partes do programa, sem precisar repetir as mesmas linhas.\n",
        "\n",
        "O exemplo anterior utiliza dois parâmetros e imprime sua soma. Essa função não retorna valores como a função *len* ou a int. \n",
        "\n",
        "Vamos reescrever essa função de forma que o valor da soma seja retornado:"
      ]
    },
    {
      "cell_type": "code",
      "metadata": {
        "id": "FCHGjQaBt7tF"
      },
      "source": [
        "# Definição do retorno de um valor\n",
        "\n",
        "def soma(a,b):\n",
        "  return (a+b)"
      ],
      "execution_count": null,
      "outputs": []
    },
    {
      "cell_type": "code",
      "metadata": {
        "id": "HUQaBWMSm4JV"
      },
      "source": [
        "b = soma(2,2)"
      ],
      "execution_count": null,
      "outputs": []
    },
    {
      "cell_type": "code",
      "metadata": {
        "id": "tereSlCim8mP"
      },
      "source": [
        "type(b)"
      ],
      "execution_count": null,
      "outputs": []
    },
    {
      "cell_type": "code",
      "metadata": {
        "id": "MaQRThnGuVnC"
      },
      "source": [
        "print(b)"
      ],
      "execution_count": null,
      "outputs": []
    },
    {
      "cell_type": "markdown",
      "metadata": {
        "id": "2o6_heQ5ugUu"
      },
      "source": [
        "Veja que agora utilizamos a instrução **return** para indicar o valor a retornar.\n",
        "\n",
        "Observe também que retiramos o print da função. Isso é interessante porque\n",
        "a soma e a impressão da soma de dois números são dois problemas diferentes.\n",
        "\n",
        "Nem sempre vamos somar e imprimir a soma, por isso, vamos deixar a função\n",
        "realizar apenas o cálculo. Se precisarmos imprimir o resultado, podemos utilizar\n",
        "a função **print**, como no exemplo.\n",
        "\n",
        "Vejamos outro exemplo, uma função que retorne verdadeiro ou falso, dependendo\n",
        "se o número é par ou ímpar"
      ]
    },
    {
      "cell_type": "code",
      "metadata": {
        "id": "XVRSY0FPu2T8"
      },
      "source": [
        " # Retornando se valor é par ou não\n",
        "\n",
        "def é_par(x):\n",
        "  return (x % 2 == 0)"
      ],
      "execution_count": null,
      "outputs": []
    },
    {
      "cell_type": "code",
      "metadata": {
        "id": "O5-cNEDRneSa"
      },
      "source": [
        "é_par(50)"
      ],
      "execution_count": null,
      "outputs": []
    },
    {
      "cell_type": "code",
      "metadata": {
        "id": "L6RdJaA6nrTb"
      },
      "source": [
        "type(é_par(50))"
      ],
      "execution_count": null,
      "outputs": []
    },
    {
      "cell_type": "code",
      "metadata": {
        "id": "pL-aZEg4u3zn"
      },
      "source": [
        "print(é_par(2))"
      ],
      "execution_count": null,
      "outputs": []
    },
    {
      "cell_type": "code",
      "metadata": {
        "id": "NgK_NW4Fu3rO"
      },
      "source": [
        "print(é_par(3))"
      ],
      "execution_count": null,
      "outputs": []
    },
    {
      "cell_type": "code",
      "metadata": {
        "id": "myPVBCszu3jB"
      },
      "source": [
        "print(é_par(10))"
      ],
      "execution_count": null,
      "outputs": []
    },
    {
      "cell_type": "markdown",
      "metadata": {
        "id": "E-HSKj6NvIBl"
      },
      "source": [
        "Imagine agora que precisamos definir uma função para retornar a palavra par ou\n",
        "ímpar. \n",
        "\n",
        "Podemos reutilizar é_par em outra função:"
      ]
    },
    {
      "cell_type": "code",
      "metadata": {
        "id": "NS9nYi55vL19"
      },
      "source": [
        "# Reutilização da função épar em outra função\n",
        "\n",
        "def é_par(x):\n",
        "  return (x % 2 == 0)\n",
        "\n",
        "def par_ou_ímpar(x):\n",
        "  if é_par(x):\n",
        "    return \"par\"\n",
        "  else:\n",
        "\t  return \"ímpar\""
      ],
      "execution_count": null,
      "outputs": []
    },
    {
      "cell_type": "code",
      "metadata": {
        "id": "XqsK44mcveXm"
      },
      "source": [
        "print(par_ou_ímpar(4))"
      ],
      "execution_count": null,
      "outputs": []
    },
    {
      "cell_type": "code",
      "metadata": {
        "id": "7BoJ0rsnvgIp"
      },
      "source": [
        "print(par_ou_ímpar(5))"
      ],
      "execution_count": null,
      "outputs": []
    },
    {
      "cell_type": "code",
      "metadata": {
        "id": "admNOIWzpJIj"
      },
      "source": [
        "def new_func():\n",
        "  pass"
      ],
      "execution_count": null,
      "outputs": []
    },
    {
      "cell_type": "code",
      "metadata": {
        "id": "OWgJzfGKQIO5"
      },
      "source": [
        "def par_ou_ímpar(x):\n",
        "  if é_par(x):\n",
        "    return \"par\"\n",
        "  else:\n",
        "\t  return \"ímpar\""
      ],
      "execution_count": null,
      "outputs": []
    },
    {
      "cell_type": "code",
      "metadata": {
        "id": "2m8bPGisprop"
      },
      "source": [
        "par_ou_ímpar(5)"
      ],
      "execution_count": null,
      "outputs": []
    },
    {
      "cell_type": "markdown",
      "metadata": {
        "id": "HWLk6yGHvxIh"
      },
      "source": [
        "A instrução **return** faz com que a função pare de executar e que o valor seja retornado imediatamente ao programa ou função que a chamou. \n",
        "\n",
        "Assim, podemos entender a instrução *return* como uma interrupção da execução da\n",
        "função, seguido do retorno do valor. \n",
        "\n",
        "As linhas da função após a instrução *return* são ignoradas de forma similar à instrução break dentro de um *while* ou *for*."
      ]
    },
    {
      "cell_type": "code",
      "metadata": {
        "id": "Xv4DxASjpnwR"
      },
      "source": [
        "def par_ou_ímpar(x):\n",
        "  if é_par(x):\n",
        "    return \"par\"\n",
        "  else:\n",
        "\t  return \"ímpar\"\n",
        "  print(par_ou_ímpar(5))"
      ],
      "execution_count": null,
      "outputs": []
    },
    {
      "cell_type": "markdown",
      "metadata": {
        "id": "aYrUiY-5wN6R"
      },
      "source": [
        "### Exercícios\n",
        "\n",
        "1) Escreva uma função que retorne o maior de dois números. Valores esperados:\n",
        "\n",
        "máximo(5,6) == 6  \n",
        "máximo(2,1) == 2  \n",
        "máximo(7,7) == 7  \n",
        "\n",
        "2) Escreva uma função que receba o lado (l) de um quadrado e retorne\n",
        "sua área (A = $l^2$).\n",
        "\n",
        "Valores esperados:  \n",
        "\n",
        "área_quadrado(4) == 16  \n",
        "área_quadrado(9) == 81  \n",
        "\n",
        "\n",
        "<img src=\"https://encrypted-tbn0.gstatic.com/images?q=tbn%3AANd9GcSGI-XZv4fWwsZdQsmwL6OyQacZWHvWVVvGBtbhfpjLIw&usqp=CAU&ec=45673586\" alt=\"Drawing\" style=\"width: 900px\"/>"
      ]
    },
    {
      "cell_type": "markdown",
      "metadata": {
        "id": "smqjS7s9wy0u"
      },
      "source": [
        "Vejamos agora um exemplo de função de pesquisa em uma lista:"
      ]
    },
    {
      "cell_type": "code",
      "metadata": {
        "id": "F8ggc8rpviBx"
      },
      "source": [
        "# Pesquisa em uma lista\n",
        "\n",
        "def pesquise(lista, valor):\n",
        "  for x, e in enumerate(lista):\n",
        "\t  if e == valor:\n",
        "\t\t  return f'índice é {x}' # (1)\n",
        "  return None # (2)"
      ],
      "execution_count": null,
      "outputs": []
    },
    {
      "cell_type": "code",
      "metadata": {
        "id": "N1DNLV2QxCWP"
      },
      "source": [
        "L = [10, 20, 25, 30]"
      ],
      "execution_count": null,
      "outputs": []
    },
    {
      "cell_type": "code",
      "metadata": {
        "id": "tYo5GmhKxD0X"
      },
      "source": [
        "print(pesquise(L, 25))"
      ],
      "execution_count": null,
      "outputs": []
    },
    {
      "cell_type": "code",
      "metadata": {
        "id": "O1DGKBIZxDpa"
      },
      "source": [
        "print(pesquise(L, 27))"
      ],
      "execution_count": null,
      "outputs": []
    },
    {
      "cell_type": "markdown",
      "metadata": {
        "id": "FyRtjFO0xbmn"
      },
      "source": [
        "Observe que, se retornarmos em (1), tanto *for* quanto o *return* em (2) são completamente ignorados. Dizemos que *return* marca o fim da execução da função.\n",
        "\n",
        "Outro exemplo:\n",
        "\n"
      ]
    },
    {
      "cell_type": "code",
      "metadata": {
        "id": "pPcNh6Ogppzx"
      },
      "source": [
        "# Exemplo: Cálculo da média de uma lista\n",
        "def soma(L):\n",
        "  total = 0\n",
        "  for e in L:\n",
        "\t  total = total + e\n",
        "  return total\n",
        "\n",
        "def media(L):\n",
        "  return (soma(L)/len(L))"
      ],
      "execution_count": null,
      "outputs": []
    },
    {
      "cell_type": "code",
      "metadata": {
        "id": "KoPVIdPAp9Fj"
      },
      "source": [
        "L = [10, 200, 205, 3]\n",
        "media(L)"
      ],
      "execution_count": null,
      "outputs": []
    },
    {
      "cell_type": "markdown",
      "metadata": {
        "id": "FeuwvmAlqV_E"
      },
      "source": [
        "Outra forma de resolver o mesmo problema:"
      ]
    },
    {
      "cell_type": "code",
      "metadata": {
        "id": "y2tO4wytqatN"
      },
      "source": [
        "# Exemplo: Soma e cálculo da média de uma lista\n",
        "\n",
        "def média(L):\n",
        "  total = 0\n",
        "  for e in L:\n",
        "\t  total += e\n",
        "  return total/len(L)"
      ],
      "execution_count": null,
      "outputs": []
    },
    {
      "cell_type": "code",
      "metadata": {
        "id": "zqbo77CzqgZT"
      },
      "source": [
        "L = [10, 20, 20, 30]\n",
        "média(L)"
      ],
      "execution_count": null,
      "outputs": []
    },
    {
      "cell_type": "markdown",
      "metadata": {
        "id": "mHFMPHf2qnaj"
      },
      "source": [
        "Basicamente, escolher entre as duas formas depende do tipo de problema que se quer resolver.\n",
        "\n",
        "---\n",
        "\n",
        "Conforme formos criando funções, podemos armazená-las para uso em outros programas. Com o tempo, você vai colecionar essas funções, criando uma **biblioteca** ou **módulo**. \n",
        "\n",
        "Por enquanto, tente fixar duas regras: \n",
        "\n",
        "* uma função deve resolver apenas um problema e, \n",
        "* quanto mais genérica for sua solução, melhor ela será em longo prazo."
      ]
    },
    {
      "cell_type": "markdown",
      "metadata": {
        "id": "m8K_bMcesO-P"
      },
      "source": [
        "**Cálculo de um fatorial**\n",
        "\n",
        "Um problema clássico de programação é o cálculo do fatorial. O fatorial de um\n",
        "número é utilizado em estatística para calcular o número de combinações e permutações de conjuntos.\n",
        "\n",
        "Para calcular o fatorial, multiplicamos o número por todos os números que o precedem até chegarmos em 1.\n",
        "\n",
        "Por exemplo:\n",
        "\n",
        "* fatorial de 3: 3 x 2 x 1 = 6\n",
        "* fatorial de 4: 4 x 3 x 2 x 1 = 24"
      ]
    },
    {
      "cell_type": "code",
      "metadata": {
        "id": "YhtSLgQLs0up"
      },
      "source": [
        "# Exemplo: Cálculo do fatorial\n",
        "\n",
        "def fatorial(n):\n",
        "  fat = 1\n",
        "  while n>1:\n",
        "\t  fat *= n\n",
        "\t  n -= 1\n",
        "  return fat"
      ],
      "execution_count": null,
      "outputs": []
    },
    {
      "cell_type": "code",
      "metadata": {
        "id": "a2tF2-OBs586"
      },
      "source": [
        "fatorial(5)"
      ],
      "execution_count": null,
      "outputs": []
    },
    {
      "cell_type": "code",
      "metadata": {
        "id": "L6eanBuY-UPE"
      },
      "source": [
        "fatorial(25)"
      ],
      "execution_count": null,
      "outputs": []
    },
    {
      "cell_type": "code",
      "metadata": {
        "id": "Hu1RMbvl-WTV"
      },
      "source": [
        "fatorial(250)"
      ],
      "execution_count": null,
      "outputs": []
    },
    {
      "cell_type": "markdown",
      "metadata": {
        "id": "8YEapfUFtWsz"
      },
      "source": [
        "### Exercício\n",
        "\n",
        "3) Reescreva o programa anterior de forma a utilizar *for* em vez\n",
        "de *while*. \n",
        "\n",
        "\n",
        "<img src=\"https://encrypted-tbn0.gstatic.com/images?q=tbn%3AANd9GcSGI-XZv4fWwsZdQsmwL6OyQacZWHvWVVvGBtbhfpjLIw&usqp=CAU&ec=45673586\" alt=\"Drawing\" style=\"width: 900px\"/>"
      ]
    },
    {
      "cell_type": "markdown",
      "metadata": {
        "id": "tK7DnoQDxwvt"
      },
      "source": [
        "## Variáveis locais e globais\n",
        "\n",
        "Quando usamos funções, começamos a trabalhar com variáveis internas ou locais e\n",
        "com variáveis externas ou globais.\n",
        "\n",
        "1. Uma variável local a uma função existe apenas dentro dela, sendo normalmente\n",
        "inicializada a cada chamada. Assim, não podemos acessar o valor de uma variável\n",
        "local fora da função que a criou e, por isso, passamos parâmetros e retornamos\n",
        "valores nas funções, de forma a possibilitar a troca de dados no programa.\n",
        "\n",
        "2. Uma variável global é definida fora de uma função, pode ser vista por todas as\n",
        "funções do módulo e por todos os módulos que importam o módulo que a definiu.\n",
        "\n",
        "Vejamos um exemplo:"
      ]
    },
    {
      "cell_type": "code",
      "metadata": {
        "id": "FPXstkQCxrb_"
      },
      "source": [
        "EMPRESA = \"Nova Empresa Ltda\"\n",
        "\n",
        "def imprime_cabeçalho():\n",
        "  print(EMPRESA)\n",
        "  print(\"-\" * len(EMPRESA))"
      ],
      "execution_count": null,
      "outputs": []
    },
    {
      "cell_type": "code",
      "metadata": {
        "id": "jXYcari9ui5G"
      },
      "source": [
        "imprime_cabeçalho()"
      ],
      "execution_count": null,
      "outputs": []
    },
    {
      "cell_type": "markdown",
      "metadata": {
        "id": "7AsSwfURuqoj"
      },
      "source": [
        "A função *imprime_cabeçalho* não recebe parâmetros nem retorna valores. Ela simplesmente imprime o nome da empresa e traços abaixo dele. Observe que utilizamos a variável EMPRESA definida fora da função. \n",
        "\n",
        "Nesse caso, **EMPRESA é uma variável global**, podendo ser acessada em qualquer função.\n",
        "\n",
        "---\n",
        "\n",
        "**ATENÇÃO** <img src=\"https://www.skymsen.com/uploads/blog/Cuidados-con-los-aceros-inoxidables.png\" alt=\"drawing\" width=\"20\"/>\n",
        "\n",
        "Variáveis globais devem ser utilizadas o mínimo possível em seus programas,\n",
        "pois dificultam a leitura e violam o encapsulamento da função.\n",
        "\n",
        "Uma variável global pode ser alterada por qualquer função, tornando a tarefa de saber quem altera seu valor realmente mais trabalhosa.\n",
        "\n",
        "Um bom uso de variáveis globais é guardar valores constantes e que devem ser acessíveis a todas as funções do programa, como o nome da empresa.\n",
        "\n",
        "---\n",
        "\n",
        "Devido à capacidade da linguagem Python de declarar variáveis à medida que\n",
        "precisarmos, devemos tomar cuidado quando alteramos uma variável global\n",
        "dentro de uma função. Vejamos um exemplo:\n"
      ]
    },
    {
      "cell_type": "code",
      "metadata": {
        "id": "N6VDf6g-u8SH"
      },
      "source": [
        "# Exemplo\n",
        "\n",
        "a = 5\n",
        "\n",
        "def muda_e_imprime():\n",
        "  a = 7 \n",
        "  print(\"'a' dentro da função: %d\" %a)"
      ],
      "execution_count": null,
      "outputs": []
    },
    {
      "cell_type": "code",
      "metadata": {
        "id": "1cfVKocAxQN3"
      },
      "source": [
        "print(\"'a' antes de mudar: %d\" % a)"
      ],
      "execution_count": null,
      "outputs": []
    },
    {
      "cell_type": "code",
      "metadata": {
        "id": "B0uxpOPpxURV"
      },
      "source": [
        "muda_e_imprime()"
      ],
      "execution_count": null,
      "outputs": []
    },
    {
      "cell_type": "code",
      "metadata": {
        "id": "5vDJdugtxT-c"
      },
      "source": [
        "print(\"'a' depois de mudar: %d\" % a)"
      ],
      "execution_count": null,
      "outputs": []
    },
    {
      "cell_type": "markdown",
      "metadata": {
        "id": "9EHLP10kx3Bm"
      },
      "source": [
        "A variável local deixa de existir no final da função e explica porque não alteramos a variável global 'a'.\n",
        "\n",
        "Se quisermos modificar uma variável global dentro de uma função, devemos informar que estamos usando uma variável global antes de inicializá-la, na primeira linha de nossa função. Essa definição é feita com a instrução **global**. \n",
        "\n",
        "Vejamos o exemplo modificado:\n"
      ]
    },
    {
      "cell_type": "code",
      "metadata": {
        "id": "GlQybeuTyJTh"
      },
      "source": [
        "# Exemplo modificado\n",
        "\n",
        "a = 5\n",
        "\n",
        "def muda_e_imprime():\n",
        "  global a\n",
        "  a = 7 \n",
        "  print(\"'a' dentro da função: %d\" % a)"
      ],
      "execution_count": null,
      "outputs": []
    },
    {
      "cell_type": "code",
      "metadata": {
        "id": "bz4IWgTeyJPf"
      },
      "source": [
        "print(\"'a' antes de mudar: %d\" % a)"
      ],
      "execution_count": null,
      "outputs": []
    },
    {
      "cell_type": "code",
      "metadata": {
        "id": "IISrqjzjyJLR"
      },
      "source": [
        "muda_e_imprime()"
      ],
      "execution_count": null,
      "outputs": []
    },
    {
      "cell_type": "code",
      "metadata": {
        "id": "IabaTZy_yJGE"
      },
      "source": [
        "print(\"'a' depois de mudar: %d\" % a)"
      ],
      "execution_count": null,
      "outputs": []
    },
    {
      "cell_type": "markdown",
      "metadata": {
        "id": "CvWyotATzl9t"
      },
      "source": [
        "A utilização da instrução global pode sinalizar um problema de construção no\n",
        "programa. Lembre-se de utilizar variáveis globais apenas para configuração e,\n",
        "de preferência, como constantes. \n",
        "\n",
        "A instrução global facilita a escolha de nomes de variáveis locais nos programas, pois deixa claro que estamos usando uma variável preexistente e não criando uma nova."
      ]
    },
    {
      "cell_type": "markdown",
      "metadata": {
        "id": "jLzsIHCT1OQR"
      },
      "source": [
        "## Funções recursivas\n",
        "\n",
        "Uma função pode chamar a si mesma. Quando isso ocorre temos uma função recursiva. \n",
        "\n",
        "O problema do fatorial é interessante para demonstrar o conceito de\n",
        "recursividade. Podemos definir o fatorial de um número como sendo esse número\n",
        "multiplicado pelo fatorial de seu antecessor. \n",
        "\n",
        "Se chamarmos nosso número de n, temos uma definição recursiva do fatorial como:\n",
        "\n",
        "fatorial(n) = 1 para 0 <= n <= 1  \n",
        "              n x fatorial(n-1) para n > 1.\n",
        "\n",
        "\n",
        "Em Python, definiríamos a função recursiva para cálculo do fatorial como:"
      ]
    },
    {
      "cell_type": "markdown",
      "metadata": {
        "id": "cXaP0a0eFjdP"
      },
      "source": [
        "5! = 5 x 4 x 3 x 2 x 1 = 5 x 4!\n",
        "\n",
        "para n > 1:   \n",
        "n! = n x (n-1)!\n",
        "\n",
        "para n = 1 ou 0:  \n",
        "0! = 1\n",
        "1! = 1\n",
        "\n"
      ]
    },
    {
      "cell_type": "code",
      "metadata": {
        "id": "f4tbXyXC02Qp"
      },
      "source": [
        "# Exemplo: Função recursiva do fatorial\n",
        "def fatorial(n):\n",
        "  if n == 0 or n == 1:\n",
        "\t\t return 1\n",
        "  else:\n",
        "\t\t return n * fatorial(n-1)"
      ],
      "execution_count": null,
      "outputs": []
    },
    {
      "cell_type": "code",
      "metadata": {
        "id": "D09_CdjN0_pY"
      },
      "source": [
        "fatorial(5)"
      ],
      "execution_count": null,
      "outputs": []
    },
    {
      "cell_type": "markdown",
      "metadata": {
        "id": "35010nXBzl3P"
      },
      "source": [
        "Vamos adicionar algumas linhas para facilitar o rastreamento, alterando o programa para imprimir na entrada da função:"
      ]
    },
    {
      "cell_type": "code",
      "metadata": {
        "id": "pmaleFFb1Gs-"
      },
      "source": [
        "# Função modificada para facilitar o rastreamento\n",
        "\n",
        "def fatorial(n):\n",
        "  print(\"Calculando o fatorial de %d\" % n)\n",
        "  if n == 0 or n == 1:\n",
        "\t  print(\"Fatorial de %d = 1\" %n)\n",
        "\t  return 1\n",
        "  else:\n",
        "    fat = n * fatorial(n-1)\n",
        "    print(\" fatorial de %d = %d\" %(n, fat))\n",
        "  return fat"
      ],
      "execution_count": null,
      "outputs": []
    },
    {
      "cell_type": "code",
      "metadata": {
        "id": "dICvgZc51PBh"
      },
      "source": [
        "fatorial(4)"
      ],
      "execution_count": null,
      "outputs": []
    },
    {
      "cell_type": "markdown",
      "metadata": {
        "id": "R5WmoC952BPr"
      },
      "source": [
        "A sequência de Fibonacci é outro problema clássico no qual podemos aplicar\n",
        "funções recursivas. \n",
        "\n",
        "A sequência pode ser entendida como o número de casais de coelhos que teríamos após cada ciclo de reprodução, considerando que cada ciclo dá origem a um casal.\n",
        "\n",
        "A sequência começa com dois números 0 e 1. Os números seguintes são a soma dos dois anteriores. A sequência ficaria assim: 0, 1, 1, 2, 3, 5, 8, 13, 21, ...\n",
        "\n",
        "Assim, uma função para calcular o enésimo termo da sequência de Fibonacci\n",
        "pode ser definida como:\n",
        "\n",
        "fibonacci(n) = n para n <= 1  \n",
        "              fibonacci(n - 1) + fibonacci(n + 1)\n",
        "\n",
        "Sendo implementada em Python como:"
      ]
    },
    {
      "cell_type": "code",
      "metadata": {
        "id": "6LXc2XTk2pKq"
      },
      "source": [
        "# Exemplo: Função recursiva de Fibonacci\n",
        "def fibonacci(n):\n",
        "  if n <= 1:\n",
        "\t  return n\n",
        "  else:\n",
        "    return fibonacci(n-1)+fibonacci(n-2)"
      ],
      "execution_count": null,
      "outputs": []
    },
    {
      "cell_type": "code",
      "metadata": {
        "id": "6D9W4eWG25DP"
      },
      "source": [
        "fibonacci(0)"
      ],
      "execution_count": null,
      "outputs": []
    },
    {
      "cell_type": "code",
      "metadata": {
        "id": "PXkCSKil3J3Y"
      },
      "source": [
        "fibonacci(1)"
      ],
      "execution_count": null,
      "outputs": []
    },
    {
      "cell_type": "code",
      "metadata": {
        "id": "EIWRcswL3Jtd"
      },
      "source": [
        "fibonacci(2)"
      ],
      "execution_count": null,
      "outputs": []
    },
    {
      "cell_type": "code",
      "metadata": {
        "id": "HlWlRcNB3Ji2"
      },
      "source": [
        "fibonacci(4)"
      ],
      "execution_count": null,
      "outputs": []
    },
    {
      "cell_type": "code",
      "metadata": {
        "id": "YmTU8EbZ3Plf"
      },
      "source": [
        "fibonacci(8)"
      ],
      "execution_count": null,
      "outputs": []
    },
    {
      "cell_type": "code",
      "metadata": {
        "id": "SixEu5iy3Qro"
      },
      "source": [
        "fibonacci(16)"
      ],
      "execution_count": null,
      "outputs": []
    },
    {
      "cell_type": "code",
      "metadata": {
        "id": "KSPv3A7b3T2_"
      },
      "source": [
        "fibonacci(32)"
      ],
      "execution_count": null,
      "outputs": []
    },
    {
      "cell_type": "code",
      "metadata": {
        "id": "fFFsrxmx3Waz"
      },
      "source": [
        "fibonacci(40)"
      ],
      "execution_count": null,
      "outputs": []
    },
    {
      "cell_type": "markdown",
      "metadata": {
        "id": "HYEsaM0T1Sj5"
      },
      "source": [
        "## Parâmetros opcionais\n",
        "\n",
        "Nem sempre precisaremos passar todos os parâmetros para uma função, preferindo utilizar um valor previamente escolhido como padrão, mas deixando a possibilidade de alterá-lo, caso necessário. \n",
        "\n",
        "Vejamos uma função que imprime uma barra na tela."
      ]
    },
    {
      "cell_type": "code",
      "metadata": {
        "id": "lI8lYFZk4JRe"
      },
      "source": [
        "# Exemplo: Função para imprimir uma barra na tela\n",
        "def barra():\n",
        "  print (\"*\" * 40)"
      ],
      "execution_count": null,
      "outputs": []
    },
    {
      "cell_type": "code",
      "metadata": {
        "id": "uUzUx_My4tk9"
      },
      "source": [
        "barra()"
      ],
      "execution_count": null,
      "outputs": []
    },
    {
      "cell_type": "markdown",
      "metadata": {
        "id": "nVj-vW104aMy"
      },
      "source": [
        "Nesse exemplo, a função *barra* não recebe algum parâmetro e pode ser chamada\n",
        "com barra(). \n",
        "\n",
        "Porém, tanto o asterisco (*) quanto a quantidade de caracteres a\n",
        "exibir na barra podem precisar ser alterados.\n",
        "\n",
        "Para resolver esse problema, podemos utilizar parâmetros opcionais:"
      ]
    },
    {
      "cell_type": "code",
      "metadata": {
        "id": "_3qKNTpx4ojE"
      },
      "source": [
        "# Função para imprimir uma barra na tela com parâmetros opcionais\n",
        "def barra(n = 40, caractere=\"*\"):\n",
        "  print(caractere * n)"
      ],
      "execution_count": null,
      "outputs": []
    },
    {
      "cell_type": "code",
      "metadata": {
        "id": "hbWo0puC4wFN"
      },
      "source": [
        "barra()"
      ],
      "execution_count": null,
      "outputs": []
    },
    {
      "cell_type": "code",
      "metadata": {
        "id": "3GURf7E64wz2"
      },
      "source": [
        "barra(80, '+')"
      ],
      "execution_count": null,
      "outputs": []
    },
    {
      "cell_type": "markdown",
      "metadata": {
        "id": "Y5vTWg7245od"
      },
      "source": [
        "Ao usarmos parâmetros opcionais, estamos especificando que valores devem ser utilizados caso um novo valor não seja especificado, mas ainda assim deixando a possibilidade de passarmos outro valor.\n",
        "\n",
        "Parâmetros opcionais são úteis para evitar a passagem desnecessária dos mesmos\n",
        "valores, mas preservando a opção de passar valores, se necessário.\n",
        "\n",
        "Podemos combinar parâmetros opcionais com obrigatórios na mesma função:\n",
        "\n",
        "\n"
      ]
    },
    {
      "cell_type": "code",
      "metadata": {
        "id": "vmVO0g2t5Q0m"
      },
      "source": [
        "# Função soma com parâmetros obrigatórios e opcionais\n",
        "\n",
        "def soma(a, b, imprime = False):\n",
        "  s = a + b\n",
        "  if imprime:\n",
        "\t  print(s)\n",
        "  return s"
      ],
      "execution_count": null,
      "outputs": []
    },
    {
      "cell_type": "markdown",
      "metadata": {
        "id": "-CwIdqpW5daQ"
      },
      "source": [
        "No exemplo, a e b são parâmetros obrigatórios e imprime é um parâmetro opcional."
      ]
    },
    {
      "cell_type": "code",
      "metadata": {
        "id": "W8B7OgS3I16f"
      },
      "source": [
        "soma()"
      ],
      "execution_count": null,
      "outputs": []
    },
    {
      "cell_type": "code",
      "metadata": {
        "id": "A8S6_fTb6Yn7"
      },
      "source": [
        "soma(2, 3)"
      ],
      "execution_count": null,
      "outputs": []
    },
    {
      "cell_type": "code",
      "metadata": {
        "id": "DCFnMUmo6gyc"
      },
      "source": [
        "soma(a = 12, b = 4, imprime = True)"
      ],
      "execution_count": null,
      "outputs": []
    },
    {
      "cell_type": "code",
      "metadata": {
        "id": "PMMuEKdCJGKv"
      },
      "source": [
        "soma(12, 4, True)"
      ],
      "execution_count": null,
      "outputs": []
    },
    {
      "cell_type": "code",
      "metadata": {
        "id": "G-jlufxtJSya"
      },
      "source": [
        "soma(12, 4)"
      ],
      "execution_count": null,
      "outputs": []
    },
    {
      "cell_type": "code",
      "metadata": {
        "id": "v0uI4oig6gjx"
      },
      "source": [
        "soma(5, 8, False)"
      ],
      "execution_count": null,
      "outputs": []
    },
    {
      "cell_type": "markdown",
      "metadata": {
        "id": "5zgmgvw76vUF"
      },
      "source": [
        "Embora possamos combinar parâmetros opcionais e obrigatórios, eles não podem ser misturados entre si, e os parâmetros opcionais devem sempre ser os últimos.\n",
        "\n"
      ]
    },
    {
      "cell_type": "code",
      "metadata": {
        "id": "xnxnRaB46xom"
      },
      "source": [
        "# Definição inválida da função soma com parâmetros opcionais antes dos obrigatórios\n",
        "\n",
        "def soma(imprime = True, a, b):\n",
        "  s = a + b\n",
        "  if imprime:\n",
        "\t  print(s)\n",
        "  return s"
      ],
      "execution_count": null,
      "outputs": []
    },
    {
      "cell_type": "markdown",
      "metadata": {
        "id": "ilqsXCZ267bz"
      },
      "source": [
        "Essa definição é inválida porque o parâmetro opcional imprime é seguido por\n",
        "parâmetros obrigatórios a e b."
      ]
    },
    {
      "cell_type": "code",
      "metadata": {
        "id": "Qj9VYqV3JsTW"
      },
      "source": [
        "# Definição inválida da função soma com parâmetros opcionais antes dos obrigatórios\n",
        "\n",
        "def soma(imprime = True, a = 10, b = 10):\n",
        "  s = a + b\n",
        "  if imprime:\n",
        "\t  print(s)\n",
        "  return s"
      ],
      "execution_count": null,
      "outputs": []
    },
    {
      "cell_type": "markdown",
      "metadata": {
        "id": "_xvwLBjb1SeN"
      },
      "source": [
        "## Nomeando parâmetros\n",
        "\n",
        "Python suporta a chamada de funções com vários parâmetros, mas até agora vimos apenas o caso em que fizemos a chamada da função passando os parâmetros na mesma ordem em que foram definidos.\n",
        "\n",
        "Quando especificamos o nome dos parâmetros, podemos passá-los em qualquer ordem.\n",
        "\n",
        "Vejamos o exemplo da função retângulo:"
      ]
    },
    {
      "cell_type": "code",
      "metadata": {
        "id": "ZADaCXiA7Zpt"
      },
      "source": [
        "# Exemplo: Função retângulo com parâmetros obrigatórios e opcionais \n",
        "\n",
        "def retângulo(largura, altura, caractere=\"*\"):\n",
        "  linha = caractere * largura\n",
        "  for i in range(altura):\n",
        "\t  print (linha)"
      ],
      "execution_count": null,
      "outputs": []
    },
    {
      "cell_type": "code",
      "metadata": {
        "id": "iu_Swibn7fx6"
      },
      "source": [
        "retângulo(3, 4)"
      ],
      "execution_count": null,
      "outputs": []
    },
    {
      "cell_type": "code",
      "metadata": {
        "id": "re-fsEbjKIPa"
      },
      "source": [
        "retângulo(3, 4, \"-\")"
      ],
      "execution_count": null,
      "outputs": []
    },
    {
      "cell_type": "code",
      "metadata": {
        "id": "fNf20w2m7gKX"
      },
      "source": [
        "retângulo(largura=3, altura=4)"
      ],
      "execution_count": null,
      "outputs": []
    },
    {
      "cell_type": "code",
      "metadata": {
        "id": "GzhZQtrO7gFd"
      },
      "source": [
        "retângulo(altura=4, largura=3)"
      ],
      "execution_count": null,
      "outputs": []
    },
    {
      "cell_type": "code",
      "metadata": {
        "id": "Fx4SRlId7gB2"
      },
      "source": [
        "retângulo(caractere=\"-\", altura=4, largura=3)"
      ],
      "execution_count": null,
      "outputs": []
    },
    {
      "cell_type": "markdown",
      "metadata": {
        "id": "uJhYEZLx7u52"
      },
      "source": [
        "Uma vez que utilizamos o nome de cada parâmetro para fazer a chamada, a ordem de passagem deixa de ser importante. Observe também que o parâmetro caractere continua opcional, mas se o especificarmos, devemos também fazê-lo com nome.\n",
        "\n",
        "**ATENÇÃO** <img src=\"https://www.skymsen.com/uploads/blog/Cuidados-con-los-aceros-inoxidables.png\" alt=\"drawing\" width=\"20\"/>\n",
        "\n",
        "Quando especificamos o nome de um parâmetro, somos obrigados a especificar o\n",
        "nome de todos os outros parâmetros também."
      ]
    },
    {
      "cell_type": "code",
      "metadata": {
        "id": "O1nr9vK579Sq"
      },
      "source": [
        "retângulo(largura=3, 4)"
      ],
      "execution_count": null,
      "outputs": []
    },
    {
      "cell_type": "code",
      "metadata": {
        "id": "2oJ6eQJ279Fn"
      },
      "source": [
        "retângulo(largura=3, altura=4, \"*\")"
      ],
      "execution_count": null,
      "outputs": []
    },
    {
      "cell_type": "markdown",
      "metadata": {
        "id": "lBAod-C18KAG"
      },
      "source": [
        "Uma exceção a essa regra é quando combinamos parâmetros obrigatórios e opcionais. \n",
        "\n",
        "Por exemplo, podemos passar os parâmetros obrigatórios sem usar seus\n",
        "nomes, mas respeitando a ordem usada na declaração e parâmetros nomeados\n",
        "apenas para escolher que parâmetros opcionais usar. \n",
        "\n",
        "Lembre-se de que ao passar o primeiro parâmetro nomeado (usando seu nome), todos os parâmetros seguintes também devem ter seus nomes especificados."
      ]
    },
    {
      "cell_type": "markdown",
      "metadata": {
        "id": "0GO0rg-G1SZq"
      },
      "source": [
        "## Funções como parâmetro\n",
        "\n",
        "Um poderoso recurso de Python é permitir a passagem de funções como parâmetro. Isso permite combinar várias funções para realizar uma tarefa.\n",
        "\n",
        "Vejamos um exemplo:"
      ]
    },
    {
      "cell_type": "code",
      "metadata": {
        "id": "j1VmLtQl8tdG"
      },
      "source": [
        "# Exemplo: Funções como parâmetro\n",
        "def soma(a,b):\n",
        "  return a+b\n",
        "\n",
        "def subtração(a,b):\n",
        "  return a-b\n",
        "\n",
        "def imprime(a, b, foper):\n",
        "  print(foper(a,b)) "
      ],
      "execution_count": null,
      "outputs": []
    },
    {
      "cell_type": "code",
      "metadata": {
        "id": "EVnQdnei868X"
      },
      "source": [
        "imprime(5,4, soma)"
      ],
      "execution_count": null,
      "outputs": []
    },
    {
      "cell_type": "code",
      "metadata": {
        "id": "nGM7O0-K86wp"
      },
      "source": [
        "imprime(1500,1, subtração)"
      ],
      "execution_count": null,
      "outputs": []
    },
    {
      "cell_type": "markdown",
      "metadata": {
        "id": "2XrT9D4Q8-28"
      },
      "source": [
        "As funções soma e subtração foram definidas normalmente, mas a função imprime\n",
        "recebe um parâmetro chamado foper. \n",
        "\n",
        "Nesse caso, foper é a função que passaremos como parâmetro.\n",
        "\n",
        "\n",
        "---\n",
        "\n",
        "Passar funções como parâmetro permite injetar funcionalidades dentro de outras\n",
        "funções, tornando-as configuráveis e mais genéricas.\n"
      ]
    },
    {
      "cell_type": "code",
      "metadata": {
        "id": "TBwq7POV9TxQ"
      },
      "source": [
        "# Configuração de funções com funções\n",
        "def imprime_lista(L, fimpressão, fcondição):\n",
        "  for e in L:\n",
        "\t  if fcondição(e):\n",
        "\t\t  fimpressão(e)\n",
        "\n",
        "def imprime_elemento(e):\n",
        "  print (\"Valor: %d\" % e)\n",
        "\n",
        "def épar(x):\n",
        "  return x % 2 == 0\n",
        "\n",
        "def éimpar(x):\n",
        "  return not épar(x)"
      ],
      "execution_count": null,
      "outputs": []
    },
    {
      "cell_type": "code",
      "metadata": {
        "id": "Vc0ByAPt9lZV"
      },
      "source": [
        "L = [1,7,9,2,11,0]"
      ],
      "execution_count": null,
      "outputs": []
    },
    {
      "cell_type": "code",
      "metadata": {
        "id": "NfTj8F9I9lS6"
      },
      "source": [
        "imprime_lista(L, imprime_elemento, épar)"
      ],
      "execution_count": null,
      "outputs": []
    },
    {
      "cell_type": "code",
      "metadata": {
        "id": "B3w-YrwU9pCc"
      },
      "source": [
        "imprime_lista(L, imprime_elemento, éimpar)"
      ],
      "execution_count": null,
      "outputs": []
    },
    {
      "cell_type": "markdown",
      "metadata": {
        "id": "fKryWzqs90PZ"
      },
      "source": [
        "A função *imprime_lista* recebe uma lista e duas funções como parâmetro. \n",
        "\n",
        "A função *fimprime* é utilizada para realizar a impressão de cada elemento, mas só é chamada se o resultado da função passada como *fcondição* for verdadeiro."
      ]
    },
    {
      "cell_type": "markdown",
      "metadata": {
        "id": "Pw-WrNiF1d9p"
      },
      "source": [
        "## Empacotamento e desempacotamento de parâmetros\n",
        "\n",
        "\n"
      ]
    },
    {
      "cell_type": "markdown",
      "metadata": {
        "id": "iRy-p4AuGK8f"
      },
      "source": [
        "### Empacotamento  de parâmetros\n",
        "\n",
        "Outra flexibilidade da linguagem Python é poder passar parâmetros empacotados\n",
        "em uma lista."
      ]
    },
    {
      "cell_type": "code",
      "metadata": {
        "id": "DqBv0Zik-QOU"
      },
      "source": [
        "# Exemplo: Empacotamento de parâmetros em uma lista\n",
        "\n",
        "def soma(a, b):\n",
        "  print(a + b)"
      ],
      "execution_count": null,
      "outputs": []
    },
    {
      "cell_type": "code",
      "metadata": {
        "id": "STQznX2mLTlF"
      },
      "source": [
        "soma(2, 5)"
      ],
      "execution_count": null,
      "outputs": []
    },
    {
      "cell_type": "code",
      "metadata": {
        "id": "2nbjoEwV-VG8"
      },
      "source": [
        "L = [2,3]"
      ],
      "execution_count": null,
      "outputs": []
    },
    {
      "cell_type": "code",
      "metadata": {
        "id": "Aw18uIm0-U8y"
      },
      "source": [
        "soma(*L)"
      ],
      "execution_count": null,
      "outputs": []
    },
    {
      "cell_type": "markdown",
      "metadata": {
        "id": "_nqEbCbu-alt"
      },
      "source": [
        "Estamos utilizando o asterisco para indicar que queremos desempacotar a lista L utilizando seus valores como parâmetro para a função soma.\n",
        "\n",
        "Vejamos outro exemplo, onde utilizaremos uma lista de listas para realizar várias chamadas a uma função dentro de um **for**."
      ]
    },
    {
      "cell_type": "code",
      "metadata": {
        "id": "ks6xWoesFw7X"
      },
      "source": [
        "# Exemplo: Outro exemplo de empacotamento de parâmetros em uma lista\n",
        "\n",
        "def barra(n = 10, c = \"*\"):\n",
        "  print(c * n)"
      ],
      "execution_count": null,
      "outputs": []
    },
    {
      "cell_type": "code",
      "metadata": {
        "id": "LXjCawYvF5IE"
      },
      "source": [
        "L = [ [5, \"-\"], [10, \"*\"], [5], [6,\".\"] ]"
      ],
      "execution_count": null,
      "outputs": []
    },
    {
      "cell_type": "code",
      "metadata": {
        "id": "2AuufyYrF4zh"
      },
      "source": [
        "for e in L:\n",
        "  barra(*e)"
      ],
      "execution_count": null,
      "outputs": []
    },
    {
      "cell_type": "markdown",
      "metadata": {
        "id": "l1QnXQyPGDq9"
      },
      "source": [
        "Observe que mesmo usando o empacotamento de parâmetros, recursos como parâmetros opcionais ainda são possíveis quando e contém apenas um elemento."
      ]
    },
    {
      "cell_type": "markdown",
      "metadata": {
        "id": "AHqVcsVi1d5u"
      },
      "source": [
        "### Desempacotamento de parâmetros\n",
        "\n",
        "Podemos criar funções que recebem um número indeterminado de parâmetros\n",
        "utilizando listas de parâmetros:"
      ]
    },
    {
      "cell_type": "code",
      "metadata": {
        "id": "aOuVuMTuGUn6"
      },
      "source": [
        "# Exemplo: Função soma com número indeterminado de parâmetros:\n",
        "\n",
        "def soma(*args):\n",
        "  s=0\n",
        "  for x in args:\n",
        "\t  s+=x\n",
        "  return s"
      ],
      "execution_count": null,
      "outputs": []
    },
    {
      "cell_type": "code",
      "metadata": {
        "id": "7S7c3P6kG3gm"
      },
      "source": [
        "soma(1,2)"
      ],
      "execution_count": null,
      "outputs": []
    },
    {
      "cell_type": "code",
      "metadata": {
        "id": "gHKKdmDTG3Xd"
      },
      "source": [
        "soma(2)"
      ],
      "execution_count": null,
      "outputs": []
    },
    {
      "cell_type": "code",
      "metadata": {
        "id": "IPT1ps9ZG3KN"
      },
      "source": [
        "soma(5,6,7,8)"
      ],
      "execution_count": null,
      "outputs": []
    },
    {
      "cell_type": "code",
      "metadata": {
        "id": "zGJgfjQaG8n_"
      },
      "source": [
        "soma(9,10,20,30,40)"
      ],
      "execution_count": null,
      "outputs": []
    },
    {
      "cell_type": "markdown",
      "metadata": {
        "id": "oVvXZHS8HRwS"
      },
      "source": [
        "Também podemos criar funções que combinem parâmetros obrigatórios e uma lista de parâmetros:"
      ]
    },
    {
      "cell_type": "code",
      "metadata": {
        "id": "n6YQgK6dHT2f"
      },
      "source": [
        "# Exemplo: Função imprime_maior com número indeterminado de parâmetros\n",
        "def imprime_maior(mensagem, *numeros):\n",
        "  maior = None\n",
        "  for e in numeros:\n",
        "\t  if maior == None or maior < e:\n",
        "\t\t  maior = e\n",
        "  print(mensagem, maior)"
      ],
      "execution_count": null,
      "outputs": []
    },
    {
      "cell_type": "code",
      "metadata": {
        "id": "P-uQd8wxHZ7a"
      },
      "source": [
        "imprime_maior(\"Maior:\",5,4,3,1)"
      ],
      "execution_count": null,
      "outputs": []
    },
    {
      "cell_type": "code",
      "metadata": {
        "id": "d7LyymvnHb2p"
      },
      "source": [
        "imprime_maior(\"Max:\", *[1,7,9])"
      ],
      "execution_count": null,
      "outputs": []
    },
    {
      "cell_type": "code",
      "metadata": {
        "id": "XsfpyG-UH1x-"
      },
      "source": [
        "imprime_maior()"
      ],
      "execution_count": null,
      "outputs": []
    },
    {
      "cell_type": "code",
      "metadata": {
        "id": "UahWRfADH5BI"
      },
      "source": [
        "imprime_maior(\"Max:\")"
      ],
      "execution_count": null,
      "outputs": []
    },
    {
      "cell_type": "markdown",
      "metadata": {
        "id": "_7y6DgSeHRlR"
      },
      "source": [
        "Observe que o primeiro parâmetro é mensagem, tornando-o obrigatório. \n",
        "\n",
        "Assim, imprime_maior() retorna erro, pois o parâmetro mensagem não foi passado, mas imprime_maior(\"Max:\") escreve None . Isso porque números é recebido como uma lista, podendo inclusive estar vazia."
      ]
    },
    {
      "cell_type": "markdown",
      "metadata": {
        "id": "zP6PbYNM1d1I"
      },
      "source": [
        "## Funções Lambda\n",
        "\n",
        "Podemos criar funções simples, sem nome, chamadas de funções lambda:"
      ]
    },
    {
      "cell_type": "code",
      "metadata": {
        "id": "S94KVtEVIDUS"
      },
      "source": [
        "# Exemplo: Função lambda que recebe um valor e retorna o dobro dele\n",
        "\n",
        "a = lambda x: x**2"
      ],
      "execution_count": null,
      "outputs": []
    },
    {
      "cell_type": "code",
      "metadata": {
        "id": "p_SugLNkIJJK"
      },
      "source": [
        "print(a(3))"
      ],
      "execution_count": null,
      "outputs": []
    },
    {
      "cell_type": "markdown",
      "metadata": {
        "id": "H-r1SXmbITWG"
      },
      "source": [
        "Funções lambda também podem receber mais de um parâmetro:"
      ]
    },
    {
      "cell_type": "code",
      "metadata": {
        "id": "6DKAsvelISgS"
      },
      "source": [
        "# Exemplo: Função lambda que recebe mais de um parâmetro\n",
        "\n",
        "aumento = lambda a,b: (a*b/100)"
      ],
      "execution_count": null,
      "outputs": []
    },
    {
      "cell_type": "code",
      "metadata": {
        "id": "olJgAmg7IZFq"
      },
      "source": [
        "aumento(100, 5)"
      ],
      "execution_count": null,
      "outputs": []
    },
    {
      "cell_type": "markdown",
      "metadata": {
        "id": "9bfou0Dadiql"
      },
      "source": [
        "# Programação Orientada a Objetos"
      ]
    },
    {
      "cell_type": "markdown",
      "metadata": {
        "id": "bMSH6vMsc-dh"
      },
      "source": [
        "## Classes e objetos"
      ]
    },
    {
      "cell_type": "markdown",
      "metadata": {
        "id": "yFLkFxaVdpt0"
      },
      "source": [
        "Linguagens de programação mais básicas eram (e ainda são) estruturadas como uma\n",
        "sequência de comandos, fazendo com que muitas vezes seja difícil distinguir cada\n",
        "parte de um todo, conforme o código e a complexidade vão aumentando.\n",
        "\n",
        "Desta forma, pensar em estruturar ou agrupar um conjunto de variáveis e funções\n",
        "que dizem respeito a um conceito, criando blocos conceituais reutilizáveis ao longo da programação, é o que dá origem a programação orientada a objetos.\n",
        "\n",
        "A programação orientada a objetos facilita a escrita e manutenção de nossos\n",
        "programas, utilizando classes e objetos. \n",
        "\n",
        "\n",
        "> **Classes** são a definição de um novo tipo de dados que associa dados e operações em uma só estrutura.\n",
        "\n",
        "> Um **objeto** pode ser entendido como uma variável cujo tipo é uma classe, ou seja, um objeto é uma instância de uma classe. \n",
        "\n",
        "Utilizamos a instrução *class* para indicar a declaração de uma nova classe e ':' para iniciar seu bloco.\n",
        "\n",
        "Quando declaramos uma classe, estamos criando um novo tipo de dados. Esse novo tipo define seus próprios métodos e atributos. \n",
        "\n",
        "\n",
        "\n",
        "> Lembre-se dos tipos *string* e *list*. Esses dois tipos predefinidos do Python são classes. Quando criamos uma lista ou uma string, estamos instanciando ou criando uma instância dessas classes, ou seja, um objeto.\n",
        "\n",
        "Quando definimos nossas próprias classes, podemos criar nossos próprios\n",
        "métodos e atributos.\n",
        "\n",
        "\n",
        "\n",
        "---\n",
        "\n",
        "Vejamos um aparelho de televisão. Podemos dizer que uma televisão tem uma marca e um tamanho de tela. Podemos também pensar no que podemos fazer com esse aparelho, por exemplo mudar de canal, ligá-lo ou desligá-lo.\n"
      ]
    },
    {
      "cell_type": "code",
      "metadata": {
        "id": "V6h9EZbweAaQ"
      },
      "source": [
        "class Televisão:\n",
        "  def __init__(self):\n",
        "\t  self.ligada = False\n",
        "\t  self.canal = 2"
      ],
      "execution_count": null,
      "outputs": []
    },
    {
      "cell_type": "code",
      "metadata": {
        "id": "2dGHCUieQag2"
      },
      "source": [
        "print(Televisão)"
      ],
      "execution_count": null,
      "outputs": []
    },
    {
      "cell_type": "markdown",
      "metadata": {
        "id": "wX-i6xYfexlK"
      },
      "source": [
        "No código acima, definimos um método especial chamado `__init__`. \n",
        "\n",
        "> Métodos nada mais são que funções associadas a uma classe.\n",
        "\n",
        "O método `__init__` será chamado sempre que criarmos objetos da classe Televisão , sendo por isso chamado de construtor (*constructor*). \n",
        "\n",
        "Um método construtor é chamado sempre que um objeto da classe é instanciado. É o construtor que inicializa nosso novo objeto com seus valores-padrão. \n",
        "\n",
        "O método `__init__` recebe um parâmetro chamado **self**. Por enquanto,\n",
        "entenda *self* como o objeto televisão em si.\n",
        "\n",
        "Dizemos que *self.ligada* é um valor de **self**, ou seja, do objeto televisão.\n",
        "\n",
        "> Todo método em Python tem self como primeiro parâmetro. \n",
        "\n",
        "Dizemos que *self.ligada* é um **atributo** do objeto. Como self representa o objeto em si, escreveremos *self.ligada*. \n",
        "\n",
        "Sempre que quisermos especificar atributos de objetos, devemos associá-los a *self*. \n",
        "\n",
        "Caso contrário, se escrevêssemos `ligada=False`, ligada seria apenas uma variável local do método `__init__`, e não um atributo do objeto.\n",
        "\n"
      ]
    },
    {
      "cell_type": "code",
      "metadata": {
        "id": "ju6mwgIdeW_f"
      },
      "source": [
        "tv = Televisão()"
      ],
      "execution_count": null,
      "outputs": []
    },
    {
      "cell_type": "markdown",
      "metadata": {
        "id": "ZkDYUHgEirJY"
      },
      "source": [
        "Na linha acima criamos um objeto tv utilizando a classe Televisão. \n",
        "\n",
        "Dizemos que tv é agora um objeto da classe Televisão ou que tv é uma instância de Televisão.\n",
        "\n",
        "Quando solicitamos a criação de um objeto, o método construtor de sua classe é chamado, em Python, `__init__`.\n",
        "\n",
        "Nas duas linhas abaixo, exibimos os valores dos atributos *ligada* e *canal* do objeto tv."
      ]
    },
    {
      "cell_type": "code",
      "metadata": {
        "id": "trJ_nMyDeY2k"
      },
      "source": [
        "tv.ligada"
      ],
      "execution_count": null,
      "outputs": []
    },
    {
      "cell_type": "code",
      "metadata": {
        "id": "TNpEFq61easa"
      },
      "source": [
        "tv.canal"
      ],
      "execution_count": null,
      "outputs": []
    },
    {
      "cell_type": "markdown",
      "metadata": {
        "id": "JpbZ2aVfjRBy"
      },
      "source": [
        "Abaixo criamos outra instância da classe Televisão chamada tv_sala. "
      ]
    },
    {
      "cell_type": "code",
      "metadata": {
        "id": "Cf1YgTYlecWz"
      },
      "source": [
        "tv_sala = Televisão()"
      ],
      "execution_count": null,
      "outputs": []
    },
    {
      "cell_type": "markdown",
      "metadata": {
        "id": "edqRKo3MjWXp"
      },
      "source": [
        "Abaixo mudamos o valor de ligada para True e o canal para 4."
      ]
    },
    {
      "cell_type": "code",
      "metadata": {
        "id": "SJbL4p4oee2G"
      },
      "source": [
        "tv_sala.ligada = True"
      ],
      "execution_count": null,
      "outputs": []
    },
    {
      "cell_type": "code",
      "metadata": {
        "id": "1DS6g4fhegvt"
      },
      "source": [
        "tv_sala.canal = 4"
      ],
      "execution_count": null,
      "outputs": []
    },
    {
      "cell_type": "code",
      "metadata": {
        "id": "fzX5BhLMei2D"
      },
      "source": [
        "tv.canal"
      ],
      "execution_count": null,
      "outputs": []
    },
    {
      "cell_type": "code",
      "metadata": {
        "id": "pa0loxcXekMW"
      },
      "source": [
        "tv_sala.canal"
      ],
      "execution_count": null,
      "outputs": []
    },
    {
      "cell_type": "markdown",
      "metadata": {
        "id": "CS6ws1TVjdnP"
      },
      "source": [
        "Observe que ao imprimirmos o canal de cada televisão temos valores independentes, pois *tv* e *tv_sala* são dois objetos independentes, podendo cada um ter seus próprios valores, como duas televisões no mundo real. \n",
        "\n",
        "Quando criamos um objeto de uma classe, ele tem todos os atributos e métodos que especificamos ao declarar a classe e que foram inicializados em seu construtor. \n",
        "\n",
        "Essa característica simplifica o desenvolvimento dos programas, pois podemos definir o comportamento de todos os objetos de uma classe (métodos), preservando os valores individuais de cada um (atributos).\n",
        "\n",
        "\n",
        "---\n",
        "\n",
        "Vejamos agora como associar um comportamento à classe Televisão, definindo\n",
        "dois métodos muda_canal_para_cima e muda_canal_para_baixo.\n"
      ]
    },
    {
      "cell_type": "code",
      "metadata": {
        "id": "Tg-XxX9Dj8jV"
      },
      "source": [
        "class Televisão:\n",
        "  def __init__(self):\n",
        "\t  self.ligada = False\n",
        "\t  self.canal = 2\n",
        "    \n",
        "  def muda_canal_para_baixo(self):\n",
        "    self.canal -= 1\n",
        "  \n",
        "  def muda_canal_para_cima(self):\n",
        "    self.canal += 1"
      ],
      "execution_count": null,
      "outputs": []
    },
    {
      "cell_type": "markdown",
      "metadata": {
        "id": "vYJI-QGQkmY4"
      },
      "source": [
        "No códifo definimos o método 'muda_canal_para_baixo'. \n",
        "\n",
        "Observe que não utilizamos '__' antes do nome do método, pois esse nome não é um nome especial do Python, mas apenas um nome escolhido por nós.\n",
        "\n",
        "Veja que passamos também um parâmetro *self*, que representa o objeto em si. Observe que escrevemos diretamente self.canal-=1 , utilizando o atributo canal da televisão. \n",
        "\n",
        "Isso é possível porque criamos o atributo canal no construtor( `__init__`). É usando atributos que podemos armazenar valores entre as chamadas dos métodos."
      ]
    },
    {
      "cell_type": "code",
      "metadata": {
        "id": "8Mqcda_Tj8Z6"
      },
      "source": [
        "tv = Televisão()"
      ],
      "execution_count": null,
      "outputs": []
    },
    {
      "cell_type": "code",
      "metadata": {
        "id": "e10GmqhnkQ7x"
      },
      "source": [
        "tv.muda_canal_para_cima()"
      ],
      "execution_count": null,
      "outputs": []
    },
    {
      "cell_type": "code",
      "metadata": {
        "id": "8hKcgObPkSX1"
      },
      "source": [
        "tv.muda_canal_para_cima()"
      ],
      "execution_count": null,
      "outputs": []
    },
    {
      "cell_type": "code",
      "metadata": {
        "id": "yoeAIFiKkUUO"
      },
      "source": [
        "tv.canal"
      ],
      "execution_count": null,
      "outputs": []
    },
    {
      "cell_type": "code",
      "metadata": {
        "id": "AFeoIhc3kWZE"
      },
      "source": [
        "tv.muda_canal_para_baixo()"
      ],
      "execution_count": null,
      "outputs": []
    },
    {
      "cell_type": "code",
      "metadata": {
        "id": "Ac5qeIEmkYDh"
      },
      "source": [
        "tv.canal"
      ],
      "execution_count": null,
      "outputs": []
    },
    {
      "cell_type": "markdown",
      "metadata": {
        "id": "MbOQJ19YlQ4e"
      },
      "source": [
        "A grande vantagem de usar classes e objetos é facilitar a construção dos programas. \n",
        "\n",
        "Embora simples, você pode observar que não precisamos enviar o canal atual da televisão ao método muda_canal_para_cima , simplificando a chamada do método. \n",
        "\n",
        "Esse efeito “memória” facilita a configuração de objetos complexos, pois armazenamos as características importantes em seus atributos, evitando repassar\n",
        "esses valores a cada chamada."
      ]
    },
    {
      "cell_type": "markdown",
      "metadata": {
        "id": "inpwD3ha8Ysm"
      },
      "source": [
        "# Referências\n",
        "\n",
        "Livro: Introdução à Programação com Python: Algoritmos e Lógica de Programação Para Iniciantes - Nilo Ney Coutinho Menezes \n",
        "\n",
        "\n"
      ]
    }
  ]
}