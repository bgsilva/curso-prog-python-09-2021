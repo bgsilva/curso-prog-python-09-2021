{
  "nbformat": 4,
  "nbformat_minor": 0,
  "metadata": {
    "colab": {
      "name": "Curso_IntroProgPy_BrunoSilva_2021_Aula2.ipynb",
      "provenance": [],
      "collapsed_sections": [],
      "toc_visible": true,
      "authorship_tag": "ABX9TyP3NYb0khw3so18MzV+OD79",
      "include_colab_link": true
    },
    "kernelspec": {
      "name": "python3",
      "display_name": "Python 3"
    },
    "language_info": {
      "name": "python"
    }
  },
  "cells": [
    {
      "cell_type": "markdown",
      "metadata": {
        "id": "view-in-github",
        "colab_type": "text"
      },
      "source": [
        "<a href=\"https://colab.research.google.com/github/bgsilva/curso-prog-python-09-2021/blob/main/Curso_IntroProgPy_BrunoSilva_2021_Aula2.ipynb\" target=\"_parent\"><img src=\"https://colab.research.google.com/assets/colab-badge.svg\" alt=\"Open In Colab\"/></a>"
      ]
    },
    {
      "cell_type": "markdown",
      "metadata": {
        "id": "OopNyK7KlDZ6"
      },
      "source": [
        "# Introdução à Programação em Python\n",
        "## Prof. Bruno Silva\n",
        "\n",
        "## Aula 2\n",
        "\n",
        "* Expressões e operadores aritméticos, lógicos e literais\n",
        "\n",
        "* Estruturas de repetição\n",
        "\n",
        "### 01/09/2021"
      ]
    },
    {
      "cell_type": "markdown",
      "metadata": {
        "id": "1IBlKmzOmKOk"
      },
      "source": [
        "# Expressões e operadores aritméticos, lógicos e literais\n",
        "\n",
        "O conceito expressão, em programação, está ligado diretamente ao conceito de expressão ou fórmula matemática, em que o conjunto de variáveis e constantes numéricas relacionam-se através de operadores aritméticos. "
      ]
    },
    {
      "cell_type": "markdown",
      "metadata": {
        "id": "tFHmC1a1pUlE"
      },
      "source": [
        "## Expressões aritméticas\n",
        "\n",
        "As expressões aritméticas são constituídas por operadores aritméticos, constantes e variáveis numéricas. \n",
        "\n",
        "Como resultado de uma expressão aritmética, tem-se sempre um valor numérico.\n",
        "\n",
        "* Operadores aritméticos: soma, mulplicação, divisão, subtração, resto, exponenciação ... "
      ]
    },
    {
      "cell_type": "code",
      "metadata": {
        "id": "OfAHrUS6pmhl"
      },
      "source": [
        "# soma\n",
        "\n",
        "a = 100 \n",
        "b = 200 \n",
        "\n",
        "soma = a + b\n",
        "print(soma)"
      ],
      "execution_count": null,
      "outputs": []
    },
    {
      "cell_type": "code",
      "metadata": {
        "id": "DZ4rIXdXNiKb"
      },
      "source": [
        "# equivalente ao cálculo da raiz quadrada\n",
        "\n",
        "4 ** 0.5"
      ],
      "execution_count": null,
      "outputs": []
    },
    {
      "cell_type": "code",
      "metadata": {
        "id": "iT-KuicUNwcH"
      },
      "source": [
        "# equivalente ao cálculo da raiz cúbica - maneira errada : sem parênteses.\n",
        "\n",
        "4 ** 1 / 3"
      ],
      "execution_count": null,
      "outputs": []
    },
    {
      "cell_type": "code",
      "metadata": {
        "id": "f8CEZmcgN5im"
      },
      "source": [
        "4 ** (1/3)"
      ],
      "execution_count": null,
      "outputs": []
    },
    {
      "cell_type": "code",
      "metadata": {
        "id": "3MMzORbONOXG"
      },
      "source": [
        "# expressão mais complicada\n",
        "\n",
        "a = 1 \n",
        "b = 2 \n",
        "e = 30\n",
        "f = 0.25\n",
        "\n",
        "expressão = a + b ** e * (1 + a) ** f\n",
        "print(expressão)"
      ],
      "execution_count": null,
      "outputs": []
    },
    {
      "cell_type": "markdown",
      "metadata": {
        "id": "-imEOBXgpbBb"
      },
      "source": [
        "## Expressões lógicas\n",
        "\n",
        "As expressões lógicas são constituídas por operadores relacinais, lógicos e constantes do tipo lógico (True ou False).\n",
        "\n",
        "**Operadores relacinais**\n",
        "\n",
        "| Operador |    Operação    | Símbolo matemático |\n",
        "|:--------:|:--------------:|:------------------:|\n",
        "|    ==    |    igualdade   |          =         |\n",
        "|     >    |    maior que   |          >         |\n",
        "|     <    |    menor que   |          <         |\n",
        "|    !=    |    diferente   |          ≠         |\n",
        "|    >=    | maior ou igual |          ≥         |\n",
        "|    <=    | menor ou igual |          ≤         |"
      ]
    },
    {
      "cell_type": "code",
      "metadata": {
        "id": "_SsrRRyhpnIk"
      },
      "source": [
        "1 == 1"
      ],
      "execution_count": null,
      "outputs": []
    },
    {
      "cell_type": "code",
      "metadata": {
        "id": "U-c2ItfBPrQS"
      },
      "source": [
        "1 != 2"
      ],
      "execution_count": null,
      "outputs": []
    },
    {
      "cell_type": "code",
      "metadata": {
        "id": "HU-EwJuvPrCU"
      },
      "source": [
        "1 >= 30"
      ],
      "execution_count": null,
      "outputs": []
    },
    {
      "cell_type": "code",
      "metadata": {
        "id": "gRnrJnUDPwzM"
      },
      "source": [
        "2 <= 3"
      ],
      "execution_count": null,
      "outputs": []
    },
    {
      "cell_type": "code",
      "metadata": {
        "id": "SYu0wQ6AQlu8"
      },
      "source": [
        "a = 20\n",
        "b = 2\n",
        "a > b"
      ],
      "execution_count": null,
      "outputs": []
    },
    {
      "cell_type": "code",
      "metadata": {
        "id": "B1swlW73QqiH"
      },
      "source": [
        "a == b"
      ],
      "execution_count": null,
      "outputs": []
    },
    {
      "cell_type": "code",
      "metadata": {
        "id": "o_ZziubvQGaj"
      },
      "source": [
        "## Exemplos de aplicação\n",
        "a = 5\n",
        "if a >= 2:\n",
        "  print('Ok')\n",
        "else:\n",
        "  print('Not ok')"
      ],
      "execution_count": null,
      "outputs": []
    },
    {
      "cell_type": "code",
      "metadata": {
        "id": "MZDf-U9-Ro9A"
      },
      "source": [
        "nota = 8\n",
        "média = 7\n",
        "\n",
        "aprovado = nota > média\n",
        "\n",
        "print(\"Aluno aprovado?\", aprovado)"
      ],
      "execution_count": null,
      "outputs": []
    },
    {
      "cell_type": "code",
      "metadata": {
        "id": "h7H0SLgEvBCo"
      },
      "source": [
        "nota = float(input('Qual foi a sua nota? '))\n",
        "média = 7\n",
        "\n",
        "aprovado = nota >= média\n",
        "\n",
        "print(\"Aluno aprovado?\", aprovado)"
      ],
      "execution_count": null,
      "outputs": []
    },
    {
      "cell_type": "code",
      "metadata": {
        "id": "Wk81S95kC1a3"
      },
      "source": [
        "10 >= 10.0"
      ],
      "execution_count": null,
      "outputs": []
    },
    {
      "cell_type": "markdown",
      "metadata": {
        "id": "ymcPa1vFSJ2f"
      },
      "source": [
        "**Operadores lógicos**\n",
        "\n",
        "Para agrupar operações com lógica booleana, utilizaremos operadores lógicos.\n",
        "\n",
        "Python suporta três operadores básicos: not (não), and (e), or (ou). \n",
        "\n",
        "Esses operadores podem ser traduzidos como não (¬ negação), e (Λ conjunção) e ou (V disjunção).\n",
        "\n",
        "| Operador Python | Operação |\n",
        "|:---------------:|:--------:|\n",
        "|       not       |    não   |\n",
        "|       and       |     e    |\n",
        "|       or        |    ou    |\n",
        "\n",
        "Quando o operador utiliza apenas um operando, dizemos que é um operador unário. Ao utilizar dois operandos, é chamado operador binário. \n",
        "\n",
        "* O operador de negação ( not ) é um operador unário.\n",
        "* or (ou) e and (e) são operadores binários, precisando, assim, de dois operandos.\n",
        "\n",
        "---\n",
        "\n",
        "O operador **not** (não) é o mais simples, pois precisa apenas de um operador. \n",
        "\n",
        "A operação de negação também é chamada de inversão, pois um valor verdadeiro\n",
        "negado se torna falso e vice-versa."
      ]
    },
    {
      "cell_type": "code",
      "metadata": {
        "id": "KldRghKVwSAp",
        "colab": {
          "base_uri": "https://localhost:8080/"
        },
        "outputId": "fdcb04a3-07d0-41a9-8c23-721cd4aad0ad"
      },
      "source": [
        "True"
      ],
      "execution_count": null,
      "outputs": [
        {
          "output_type": "execute_result",
          "data": {
            "text/plain": [
              "True"
            ]
          },
          "metadata": {},
          "execution_count": 1
        }
      ]
    },
    {
      "cell_type": "code",
      "metadata": {
        "id": "RLy5X-oWSrK3",
        "colab": {
          "base_uri": "https://localhost:8080/"
        },
        "outputId": "b18fbca4-1efc-4642-aef4-8fc38472d991"
      },
      "source": [
        "not True"
      ],
      "execution_count": null,
      "outputs": [
        {
          "output_type": "execute_result",
          "data": {
            "text/plain": [
              "False"
            ]
          },
          "metadata": {},
          "execution_count": 2
        }
      ]
    },
    {
      "cell_type": "code",
      "metadata": {
        "id": "ou9u0c15wV5B",
        "colab": {
          "base_uri": "https://localhost:8080/"
        },
        "outputId": "1879487f-1266-4992-91e7-5907b9bcd57d"
      },
      "source": [
        "False"
      ],
      "execution_count": null,
      "outputs": [
        {
          "output_type": "execute_result",
          "data": {
            "text/plain": [
              "False"
            ]
          },
          "metadata": {},
          "execution_count": 3
        }
      ]
    },
    {
      "cell_type": "code",
      "metadata": {
        "id": "-S07vJaGSrAR",
        "colab": {
          "base_uri": "https://localhost:8080/"
        },
        "outputId": "f29e6392-256b-40ec-edb7-baa8e8c3aabd"
      },
      "source": [
        "not False"
      ],
      "execution_count": null,
      "outputs": [
        {
          "output_type": "execute_result",
          "data": {
            "text/plain": [
              "True"
            ]
          },
          "metadata": {},
          "execution_count": 4
        }
      ]
    },
    {
      "cell_type": "markdown",
      "metadata": {
        "id": "R5H5amUfTark"
      },
      "source": [
        "O operador **and** (e) resulta verdadeiro apenas quando seus dois operadores forem verdadeiros."
      ]
    },
    {
      "cell_type": "code",
      "metadata": {
        "id": "hywB8KzxSq0i",
        "colab": {
          "base_uri": "https://localhost:8080/"
        },
        "outputId": "ce52edf6-a0d5-4d37-cf3f-01ddb9494429"
      },
      "source": [
        "True and False"
      ],
      "execution_count": null,
      "outputs": [
        {
          "output_type": "execute_result",
          "data": {
            "text/plain": [
              "False"
            ]
          },
          "metadata": {},
          "execution_count": 5
        }
      ]
    },
    {
      "cell_type": "code",
      "metadata": {
        "id": "KdRKhvPITm_y",
        "colab": {
          "base_uri": "https://localhost:8080/"
        },
        "outputId": "f44525f6-cc0c-4a10-800c-2ae2b68fb303"
      },
      "source": [
        "True and True"
      ],
      "execution_count": null,
      "outputs": [
        {
          "output_type": "execute_result",
          "data": {
            "text/plain": [
              "True"
            ]
          },
          "metadata": {},
          "execution_count": 6
        }
      ]
    },
    {
      "cell_type": "code",
      "metadata": {
        "id": "LT6rusRmTmtn",
        "colab": {
          "base_uri": "https://localhost:8080/"
        },
        "outputId": "6ba07d0b-0293-4b33-906c-7a21107f46f2"
      },
      "source": [
        "False and False"
      ],
      "execution_count": null,
      "outputs": [
        {
          "output_type": "execute_result",
          "data": {
            "text/plain": [
              "False"
            ]
          },
          "metadata": {},
          "execution_count": 7
        }
      ]
    },
    {
      "cell_type": "markdown",
      "metadata": {
        "id": "P74HpA6cTtNp"
      },
      "source": [
        "A regra fundamental do operador **or** (ou) é que ele resulta em falso apenas se seus dois operadores também forem falsos."
      ]
    },
    {
      "cell_type": "code",
      "metadata": {
        "id": "KMWHvjDiT6x4",
        "colab": {
          "base_uri": "https://localhost:8080/"
        },
        "outputId": "08ed4581-d267-4150-abf7-47a850b90db8"
      },
      "source": [
        "True or True "
      ],
      "execution_count": null,
      "outputs": [
        {
          "output_type": "execute_result",
          "data": {
            "text/plain": [
              "True"
            ]
          },
          "metadata": {},
          "execution_count": 8
        }
      ]
    },
    {
      "cell_type": "code",
      "metadata": {
        "id": "lVioPwq4T6o8",
        "colab": {
          "base_uri": "https://localhost:8080/"
        },
        "outputId": "b3d498fd-c278-462d-b73d-f07356de627e"
      },
      "source": [
        "False or True "
      ],
      "execution_count": null,
      "outputs": [
        {
          "output_type": "execute_result",
          "data": {
            "text/plain": [
              "True"
            ]
          },
          "metadata": {},
          "execution_count": 9
        }
      ]
    },
    {
      "cell_type": "code",
      "metadata": {
        "id": "eQRyakA9UCge",
        "colab": {
          "base_uri": "https://localhost:8080/"
        },
        "outputId": "63974f82-a73c-4bcf-fde6-3e782a259595"
      },
      "source": [
        "False or False"
      ],
      "execution_count": null,
      "outputs": [
        {
          "output_type": "execute_result",
          "data": {
            "text/plain": [
              "False"
            ]
          },
          "metadata": {},
          "execution_count": 10
        }
      ]
    },
    {
      "cell_type": "markdown",
      "metadata": {
        "id": "vEBcj1-pmh6I"
      },
      "source": [
        "### Exercícios\n",
        "\n",
        "1) Calcule o resultado da expressão A > B and C or D, utilizando os\n",
        "valores da tabela a seguir.\n",
        "\n",
        "|  A | B |   C   |   D   | Resultado |\n",
        "|:--:|:-:|:-----:|:-----:|:---------:|\n",
        "|  1 | 2 |  True | False |           |\n",
        "| 10 | 3 | False | False |           |\n",
        "|  5 | 1 |  True |  True |           |\n",
        "\n",
        "<img src=\"https://encrypted-tbn0.gstatic.com/images?q=tbn%3AANd9GcSGI-XZv4fWwsZdQsmwL6OyQacZWHvWVVvGBtbhfpjLIw&usqp=CAU&ec=45673586\" alt=\"Drawing\" style=\"width: 900px\"/>\n"
      ]
    },
    {
      "cell_type": "code",
      "metadata": {
        "id": "o5_Nofs2xH2N"
      },
      "source": [
        "# A > B and C or D\n",
        "\n",
        "1 > 2 and True or False"
      ],
      "execution_count": null,
      "outputs": []
    },
    {
      "cell_type": "code",
      "metadata": {
        "id": "NbgKG8x3xj5F"
      },
      "source": [
        "False and True or False"
      ],
      "execution_count": null,
      "outputs": []
    },
    {
      "cell_type": "code",
      "metadata": {
        "id": "PlynxD7Cxp4F"
      },
      "source": [
        "False or False"
      ],
      "execution_count": null,
      "outputs": []
    },
    {
      "cell_type": "markdown",
      "metadata": {
        "id": "A8OgisBunGbk"
      },
      "source": [
        "2) Escreva uma expressão para determinar se uma pessoa deve ou não\n",
        "pagar imposto. Considere que pagam imposto pessoas cujo salário é maior que\n",
        "R$ 2.400,00."
      ]
    },
    {
      "cell_type": "code",
      "metadata": {
        "id": "Hmnr8sVlnMlA"
      },
      "source": [
        "salário = float(input(\"Por favor, dê o valor do salário: \"))\n",
        "\n",
        "valor_referência = 2400\n",
        "\n",
        "pagar_imposto = salário > valor_referência\n",
        "\n",
        "print('Imposto a pagar? %s' %pagar_imposto)"
      ],
      "execution_count": null,
      "outputs": []
    },
    {
      "cell_type": "code",
      "metadata": {
        "id": "CW0hKEZKz0xt"
      },
      "source": [
        "salário = float(input(\"Por favor, dê o valor do salário: \"))\n",
        "\n",
        "valor_referência = 2400\n",
        "\n",
        "pagar_imposto = salário > valor_referência\n",
        "\n",
        "print('Imposto a pagar? {}'.format(pagar_imposto))"
      ],
      "execution_count": null,
      "outputs": []
    },
    {
      "cell_type": "code",
      "metadata": {
        "id": "cJZn48Jlz9vO"
      },
      "source": [
        "salário = float(input(\"Por favor, dê o valor do salário: \"))\n",
        "\n",
        "valor_referência = 2400\n",
        "\n",
        "pagar_imposto = salário > valor_referência\n",
        "\n",
        "print(f'Imposto a pagar? {pagar_imposto}')"
      ],
      "execution_count": null,
      "outputs": []
    },
    {
      "cell_type": "markdown",
      "metadata": {
        "id": "JkGZFyQaUZSF"
      },
      "source": [
        "### Desafio\n",
        "\n",
        "3) Escreva uma expressão que será utilizada para decidir se um aluno foi\n",
        "ou não aprovado. Para ser aprovado, todas as médias do aluno devem ser maiores ou igual que 7. Considere que o aluno cursa apenas três matérias, e que a nota de cada uma está armazenada nas seguintes variáveis: matéria1, matéria2 e matéria3.\n",
        "\n",
        "<img src=\"https://encrypted-tbn0.gstatic.com/images?q=tbn:ANd9GcT0nsUcReOSEwigD1Lhai5wzzbSl0tCYCPT9g&usqp=CAU\" alt=\"Drawing\" style=\"width: 900px\"/>"
      ]
    },
    {
      "cell_type": "code",
      "metadata": {
        "id": "Ie0og5QanYRe",
        "colab": {
          "base_uri": "https://localhost:8080/"
        },
        "outputId": "7c8d7dd5-8f25-4c5b-c313-236845b672d0"
      },
      "source": [
        "materia1 = float(input('Digite a primeira nota: '))\n",
        "materia2 = float(input('Digite a segunda nota: '))\n",
        "materia3 = float(input('Digite a terceira nota: ')) \n",
        "\n",
        "media = materia1 >= 7 and  materia2 >= 7 and  materia3 >= 7\n",
        "\n",
        "print(f'O aluno foi aprovado? {media}')"
      ],
      "execution_count": null,
      "outputs": [
        {
          "output_type": "stream",
          "name": "stdout",
          "text": [
            "Digite a primeira nota: 5\n",
            "Digite a segunda nota: 4\n",
            "Digite a terceira nota: 1\n",
            "O aluno foi aprovado? False\n"
          ]
        }
      ]
    },
    {
      "cell_type": "markdown",
      "metadata": {
        "id": "PxHuPHcWpgX7"
      },
      "source": [
        "## Expressões literais\n",
        "\n",
        "As expressões literais são aquelas cujo resultado da avaliação é uma valor literal. Na aula passada, vimos as operações de concatenação e composição.\n",
        "\n",
        "**Fatiamento**\n",
        "\n",
        "O fatiamento corresponde a obtenção de um segmento de uma string.\n",
        "\n",
        "O fatiamento funciona com a utilização de dois pontos no índice da string: \n",
        "* O número à esquerda dos dois pontos indica a posição de início da fatia;\n",
        "* O número à direita indica o fim da fatia."
      ]
    },
    {
      "cell_type": "code",
      "metadata": {
        "id": "qHWwDhI9n1Fp"
      },
      "source": [
        " s = \"ABCDEFGHI\""
      ],
      "execution_count": null,
      "outputs": []
    },
    {
      "cell_type": "code",
      "metadata": {
        "id": "gxP1djZ80mcN"
      },
      "source": [
        "print(s[0])"
      ],
      "execution_count": null,
      "outputs": []
    },
    {
      "cell_type": "code",
      "metadata": {
        "id": "eYn7j9Ns0ug4"
      },
      "source": [
        "print(s[1])"
      ],
      "execution_count": null,
      "outputs": []
    },
    {
      "cell_type": "code",
      "metadata": {
        "id": "guaTZzvF0xek"
      },
      "source": [
        "print(s[-1])"
      ],
      "execution_count": null,
      "outputs": []
    },
    {
      "cell_type": "code",
      "metadata": {
        "id": "n3rZWjlpn1n8"
      },
      "source": [
        "print(s[0:2])"
      ],
      "execution_count": null,
      "outputs": []
    },
    {
      "cell_type": "code",
      "metadata": {
        "id": "LGl4At9a1KP2"
      },
      "source": [
        "print(s[0:3])"
      ],
      "execution_count": null,
      "outputs": []
    },
    {
      "cell_type": "code",
      "metadata": {
        "id": "qlDwW_J61V98"
      },
      "source": [
        "print (s[1])"
      ],
      "execution_count": null,
      "outputs": []
    },
    {
      "cell_type": "code",
      "metadata": {
        "id": "_P3BdX-pp4EO"
      },
      "source": [
        "print (s[1:2])"
      ],
      "execution_count": null,
      "outputs": []
    },
    {
      "cell_type": "code",
      "metadata": {
        "id": "Hd30gJ6Pp3_n"
      },
      "source": [
        "print (s[2:4])"
      ],
      "execution_count": null,
      "outputs": []
    },
    {
      "cell_type": "code",
      "metadata": {
        "id": "pypYh3fup37u"
      },
      "source": [
        "print (s[1:8])"
      ],
      "execution_count": null,
      "outputs": []
    },
    {
      "cell_type": "markdown",
      "metadata": {
        "id": "BB1zLGs8p-kD"
      },
      "source": [
        "Podemos também omitir o número da esquerda ou o da direita para representar\n",
        "do início ou até o final."
      ]
    },
    {
      "cell_type": "code",
      "metadata": {
        "id": "hhprMg4np34S"
      },
      "source": [
        "print (s[:2])"
      ],
      "execution_count": null,
      "outputs": []
    },
    {
      "cell_type": "code",
      "metadata": {
        "id": "_mOd-z1cqB7Q"
      },
      "source": [
        "print (s[1:])"
      ],
      "execution_count": null,
      "outputs": []
    },
    {
      "cell_type": "code",
      "metadata": {
        "id": "zeu03CU21v4T"
      },
      "source": [
        "print (s[1:8])"
      ],
      "execution_count": null,
      "outputs": []
    },
    {
      "cell_type": "markdown",
      "metadata": {
        "id": "lV_vT3c1qMLS"
      },
      "source": [
        "Podemos também utilizar valores negativos para indicar posições a partir da direita. Assim -1 é o último caractere; -2 , o penúltimo; e assim por diante."
      ]
    },
    {
      "cell_type": "code",
      "metadata": {
        "id": "Xv1TbWdS13It"
      },
      "source": [
        "print (s[-2])"
      ],
      "execution_count": null,
      "outputs": []
    },
    {
      "cell_type": "code",
      "metadata": {
        "id": "6eKsB2RPqTH9"
      },
      "source": [
        "print(s[0:-2])"
      ],
      "execution_count": null,
      "outputs": []
    },
    {
      "cell_type": "code",
      "metadata": {
        "id": "nIwoLkQhqT-N"
      },
      "source": [
        "print(s[-1:])"
      ],
      "execution_count": null,
      "outputs": []
    },
    {
      "cell_type": "code",
      "metadata": {
        "id": "piw92djJqcKk"
      },
      "source": [
        "print (s[:])"
      ],
      "execution_count": null,
      "outputs": []
    },
    {
      "cell_type": "code",
      "metadata": {
        "id": "uOPlZJ58qdl-"
      },
      "source": [
        "print (s[-2:-1])"
      ],
      "execution_count": null,
      "outputs": []
    },
    {
      "cell_type": "markdown",
      "metadata": {
        "id": "Ut2Flw3dp51h"
      },
      "source": [
        "## Sequência e tempo\n",
        "\n",
        "Um programa é executado linha por linha pelo computador, executando as\n",
        "operações descritas no programa uma após a outra. \n",
        "\n",
        "Quando trabalhamos com variáveis, devemos nos lembrar de que o conteúdo de uma variável pode mudar com o tempo. Isso porque a cada vez que alteramos o valor de uma variável, o valor anterior é substituído pelo novo.\n",
        "\n",
        "<img src=\"https://www.skymsen.com/uploads/blog/Cuidados-con-los-aceros-inoxidables.png\" alt=\"drawing\" width=\"200\"/>"
      ]
    },
    {
      "cell_type": "code",
      "metadata": {
        "id": "VBm8eziXpn39"
      },
      "source": [
        "dívida = 0\n",
        "compra = 100\n",
        "dívida = dívida + compra\n",
        "compra = 200\n",
        "dívida = dívida + compra\n",
        "compra = 300\n",
        "dívida = dívida + compra\n",
        "compra = 0\n",
        "print(dívida)"
      ],
      "execution_count": null,
      "outputs": []
    },
    {
      "cell_type": "code",
      "metadata": {
        "id": "txOoGtQQG3-k"
      },
      "source": [
        "dívida = 0\n",
        "compra = 100\n",
        "dívida = dívida + compra\n",
        "print(dívida)"
      ],
      "execution_count": null,
      "outputs": []
    },
    {
      "cell_type": "code",
      "metadata": {
        "id": "vqR7TnsqHGqs"
      },
      "source": [
        "dívida = 0\n",
        "compra = 100\n",
        "dívida = dívida + compra\n",
        "compra = 200\n",
        "dívida = dívida + compra\n",
        "print(dívida)"
      ],
      "execution_count": null,
      "outputs": []
    },
    {
      "cell_type": "code",
      "metadata": {
        "id": "16eBsjZf9bRk"
      },
      "source": [
        ""
      ],
      "execution_count": null,
      "outputs": []
    },
    {
      "cell_type": "markdown",
      "metadata": {
        "id": "K2xNkb9rrrXW"
      },
      "source": [
        "### Exercícios\n",
        "\n",
        "4) Escreva um programa para calcular a redução do tempo de vida de\n",
        "um fumante. Pergunte a quantidade de cigarros fumados por dia e quantos anos\n",
        "ele já fumou. Considere que um fumante perde 10 minutos de vida a cada cigarro,\n",
        "calcule quantos dias de vida um fumante perderá. Exiba o total em dias.\n",
        "\n",
        "5) Escreva um programa que pergunte a quantidade de km percorridos\n",
        "por um carro alugado pelo usuário, assim como a quantidade de dias pelos quais\n",
        "o carro foi alugado. Calcule o preço a pagar, sabendo que o carro custa R\\$ 60 por dia e R\\$ 0,15 por km rodado.\n",
        "\n",
        "<img src=\"https://encrypted-tbn0.gstatic.com/images?q=tbn%3AANd9GcSGI-XZv4fWwsZdQsmwL6OyQacZWHvWVVvGBtbhfpjLIw&usqp=CAU&ec=45673586\" alt=\"Drawing\" style=\"width: 900px\"/>\n"
      ]
    },
    {
      "cell_type": "markdown",
      "metadata": {
        "id": "9kdzAiwxwxDb"
      },
      "source": [
        "Resolução problema 5)"
      ]
    },
    {
      "cell_type": "code",
      "metadata": {
        "id": "n3jqSqM-k_Hc",
        "colab": {
          "base_uri": "https://localhost:8080/"
        },
        "outputId": "99db04ae-1aed-4493-df04-f23a3c772009"
      },
      "source": [
        "qtd_dias = float(input('Digite a quantidade de dias de aluguel do carro: '))\n",
        "qtd_km = float(input('Digite a quantidade de km rodados: '))\n",
        "\n",
        "preço = 60 * qtd_dias +  0.15 * qtd_km\n",
        "\n",
        "print(f'O preço a pagar é: {preço:.2f} reais')"
      ],
      "execution_count": null,
      "outputs": [
        {
          "output_type": "stream",
          "name": "stdout",
          "text": [
            "Digite a quantidade de dias de aluguel do carro: 55\n",
            "Digite a quantidade de km rodados: 15450.2\n",
            "O preço a pagar é: 5617.53 reais\n"
          ]
        }
      ]
    },
    {
      "cell_type": "markdown",
      "metadata": {
        "id": "sCVtv8Vi3rB0"
      },
      "source": [
        "# Estruturas de decisão\n",
        "\n",
        "As condições servem para selecionar quando uma parte do programa deve ser ativada e quando deve ser simplesmente ignorada.\n",
        "\n",
        "Principais mais utilizados num fluxograma: \n",
        "\n",
        "<img src=\"https://blogdaqualidade.com.br/wp-content/uploads/2012/06/imagem-meire-Fluxograma.jpg\"/>"
      ]
    },
    {
      "cell_type": "markdown",
      "metadata": {
        "id": "VZRY68w83zOQ"
      },
      "source": [
        "## Estruturas **if**\n",
        "\n",
        "Em Python, a estrutura de decisão é o if. Seu formato é:\n",
        "\n",
        "```\n",
        "if <condição>: \n",
        "  bloco verdadeiro\n",
        "```\n",
        "\n",
        "Os dois pontos (:) no final da linha if indicam que um novo bloco de código está sendo iniciado. As linhas subsequentes que são indentadas fazem parte desse bloco de código.\n",
        "\n",
        "> Quem já programou antes deve saber que algumas outras linguagens usam {chaves} para marcar o início e o fim dos blocos de código. O uso de espaços em branco significativos em Python pode ser surpreendente para os programadores que estão acostumados com outras linguagens, mas na prática pode levar a um código mais consistente e legível do que as linguagens que não impõem indentação de blocos de código.\n",
        "\n",
        "\n",
        "Podemos entender simplesmente como: se (if) a condição for verdadeira, faça alguma coisa.\n",
        "\n",
        "\n",
        "<img src=\"https://static.javatpoint.com/tutorial/vba/images/vba-if-then-else-if-statement.png\" alt=\"Drawing\" style=\"width: 900px\"/>"
      ]
    },
    {
      "cell_type": "markdown",
      "metadata": {
        "id": "5t2F1dkc39Mp"
      },
      "source": [
        "### Exemplos"
      ]
    },
    {
      "cell_type": "code",
      "metadata": {
        "id": "c9h0SvQB36kU"
      },
      "source": [
        "# 1) Lendo dois valores e imprimir o maior deles\n",
        "\n",
        "a = int(input(\"Primeiro valor: \")) \n",
        "b = int(input(\"Segundo valor: \"))\n",
        "\n",
        "if a > b:\n",
        "  print(\"O primeiro número é o maior\")\n",
        "\n",
        "if b > a:\n",
        "  print(\"O segundo número é o maior\")\n",
        "  print(\"Fim do programa\")"
      ],
      "execution_count": null,
      "outputs": []
    },
    {
      "cell_type": "markdown",
      "metadata": {
        "id": "GcwS_kKO4B8k"
      },
      "source": [
        "*O que acontece se a for igual a b?*"
      ]
    },
    {
      "cell_type": "code",
      "metadata": {
        "id": "a11afQLL7dCy"
      },
      "source": [
        "# 1) Lendo dois valores e imprimir o maior deles\n",
        "\n",
        "a = int(input(\"Primeiro valor: \")) \n",
        "b = int(input(\"Segundo valor: \"))\n",
        "\n",
        "if a > b:\n",
        "  print(\"O primeiro número é o maior\")\n",
        "\n",
        "print(\"Pausa para pensar 1!\")\n",
        "\n",
        "if b > a:\n",
        "  print(\"O segundo número é o maior\")\n",
        "\n",
        "print(\"Pausa para pensar 2!\")\n",
        "\n",
        "if b == a:\n",
        "  print(\"Os números são iguais!\")\n",
        "\n",
        "print(\"Fim do programa\")"
      ],
      "execution_count": null,
      "outputs": []
    },
    {
      "cell_type": "markdown",
      "metadata": {
        "id": "L_5LwyoO8LGm"
      },
      "source": [
        "Condições múltiplas"
      ]
    },
    {
      "cell_type": "code",
      "metadata": {
        "id": "kF6BuJOJ8KRh"
      },
      "source": [
        "a = int(input(\"Digite um número: \"))\n",
        "\n",
        "if a < 10 and a > 5:\n",
        "  print('Ok')"
      ],
      "execution_count": null,
      "outputs": []
    },
    {
      "cell_type": "code",
      "metadata": {
        "id": "Q9cOjoPM9KCe"
      },
      "source": [
        "a = int(input(\"Digite um número: \"))\n",
        "\n",
        "if a < 10 and a >= 5:\n",
        "  print('Ok')"
      ],
      "execution_count": null,
      "outputs": []
    },
    {
      "cell_type": "code",
      "metadata": {
        "id": "sxpZQr588q21"
      },
      "source": [
        "a = int(input(\"Digite um número: \"))\n",
        "\n",
        "if a < 10 or a > 5:\n",
        "  print('Ok')"
      ],
      "execution_count": null,
      "outputs": []
    },
    {
      "cell_type": "markdown",
      "metadata": {
        "id": "OBFB-zchg9Ij"
      },
      "source": [
        "Exemplo"
      ]
    },
    {
      "cell_type": "code",
      "metadata": {
        "id": "REid0GyR4C3k"
      },
      "source": [
        "# 2) Carro novo ou velho, dependendo da idade\n",
        "\n",
        "idade = int(input(\"Digite a idade do seu carro: \"))\n",
        "\n",
        "if idade <= 3:\n",
        "  print(\"Seu carro é novo\")\n",
        "\n",
        "if idade > 3:\n",
        "  print(\"Seu carro é velho\")"
      ],
      "execution_count": null,
      "outputs": []
    },
    {
      "cell_type": "markdown",
      "metadata": {
        "id": "GayttYbt4Lwp"
      },
      "source": [
        "*O programa vai aceitar valores negativos da idade do carro?*"
      ]
    },
    {
      "cell_type": "code",
      "metadata": {
        "id": "YtqSia1O4MRh"
      },
      "source": [
        "# 2) Carro novo ou velho, dependendo da idade\n",
        "idade = int(input(\"Digite a idade do seu carro: \"))\n",
        "\n",
        "if idade <= 3:\n",
        "  print (\"Seu carro é novo\")\n",
        "if idade > 3:\n",
        "  print (\"Seu carro é velho\")"
      ],
      "execution_count": null,
      "outputs": []
    },
    {
      "cell_type": "code",
      "metadata": {
        "id": "7lyo0eA14O_S"
      },
      "source": [
        "# 2) Carro novo ou velho, dependendo da idade / Entrada inválida (float)\n",
        "idade = int(input(\"Digite a idade do seu carro: \"))\n",
        "\n",
        "if idade <= 3:\n",
        "  print (\"Seu carro é novo\")\n",
        "if idade > 3:\n",
        "  print (\"Seu carro é velho\")"
      ],
      "execution_count": null,
      "outputs": []
    },
    {
      "cell_type": "code",
      "metadata": {
        "id": "z5pPzmGp-BFY"
      },
      "source": [
        "# 2) Carro novo ou velho, dependendo da idade / Entrada inválida (float)\n",
        "idade = float(input(\"Digite a idade do seu carro: \"))\n",
        "\n",
        "if idade <= 3:\n",
        "  print (\"Seu carro é novo\")\n",
        "if idade > 3:\n",
        "  print (\"Seu carro é velho\")"
      ],
      "execution_count": null,
      "outputs": []
    },
    {
      "cell_type": "markdown",
      "metadata": {
        "id": "Y8u9F-Lng6OZ"
      },
      "source": [
        "Outro exemplo"
      ]
    },
    {
      "cell_type": "code",
      "metadata": {
        "id": "vxSFKDVc4fqp",
        "colab": {
          "base_uri": "https://localhost:8080/"
        },
        "outputId": "7b9a7902-6783-40a6-bc40-ca4fa97ae3da"
      },
      "source": [
        "# Aqui calculamos o imposto que deverá ser pago de acordo com o valor do salário recebido\n",
        "salário = float(input(\"Digite o salário para cálculo do imposto: \"))\n",
        "\n",
        "base = salário\n",
        "imposto = 0\n",
        "\n",
        "if base >= 3000:\n",
        "  imposto = imposto + ((base - 3000) * 0.35)\n",
        "\n",
        "if base >= 1000 and base < 3000:\n",
        "  imposto = imposto + ((base - 1000) * 0.20)\n",
        "\n",
        "\n",
        "print(f\"Salário: R$ {salário:.2f} Imposto a pagar: R$ {imposto:.2f}\")"
      ],
      "execution_count": null,
      "outputs": [
        {
          "output_type": "stream",
          "name": "stdout",
          "text": [
            "Digite o salário para cálculo do imposto: 1000\n",
            "Salário: R$ 1000.00 Imposto a pagar: R$ 0.00\n"
          ]
        }
      ]
    },
    {
      "cell_type": "code",
      "metadata": {
        "colab": {
          "base_uri": "https://localhost:8080/"
        },
        "id": "uDICL7TEzEKl",
        "outputId": "4c0c82de-38ad-4220-8b27-4042e1584d9e"
      },
      "source": [
        "# Aqui calculamos o imposto que deverá ser pago de acordo com o valor do salário recebido\n",
        "salário = float(input(\"Digite o salário para cálculo do imposto: \"))\n",
        "\n",
        "base = salário\n",
        "imposto = 0\n",
        "\n",
        "if base >= 3000:\n",
        "  imposto = imposto + ((base - 3000) * 0.35)\n",
        "\n",
        "if base >= 1000 and base < 3000:\n",
        "  imposto = imposto + ((base - 1000) * 0.20)\n",
        "\n",
        "\n",
        "print(\"Salário: R$ {0:.2f} a pagar: R$ {1:.2f}\".format(salário, imposto))"
      ],
      "execution_count": null,
      "outputs": [
        {
          "output_type": "stream",
          "name": "stdout",
          "text": [
            "Digite o salário para cálculo do imposto: 1000\n",
            "Salário: R$ 1000.00 a pagar: R$ 0.00\n"
          ]
        }
      ]
    },
    {
      "cell_type": "code",
      "metadata": {
        "colab": {
          "base_uri": "https://localhost:8080/"
        },
        "id": "JJRW7AGezFL5",
        "outputId": "b744af8e-f6b1-4771-8de5-9cf0fe55ec02"
      },
      "source": [
        "# Aqui calculamos o imposto que deverá ser pago de acordo com o valor do salário recebido\n",
        "salário = float(input(\"Digite o salário para cálculo do imposto: \"))\n",
        "\n",
        "base = salário\n",
        "imposto = 0\n",
        "\n",
        "if base >= 3000:\n",
        "  imposto = imposto + ((base - 3000) * 0.35)\n",
        "\n",
        "if base >= 1000 and base < 3000:\n",
        "  imposto = imposto + ((base - 1000) * 0.20)\n",
        "\n",
        "\n",
        "print(\"Salário: R$ %.2f Imposto a pagar: R$ %.2f\" %(salário, imposto))"
      ],
      "execution_count": null,
      "outputs": [
        {
          "output_type": "stream",
          "name": "stdout",
          "text": [
            "Digite o salário para cálculo do imposto: 1000\n",
            "Salário: R$ 1000.00 Imposto a pagar: R$ 0.00\n"
          ]
        }
      ]
    },
    {
      "cell_type": "markdown",
      "metadata": {
        "id": "w2R8PcOm4YJV"
      },
      "source": [
        "### Exercícios\n",
        "\n",
        "6) Escreva um programa que pergunte a velocidade do carro de um usuário. Caso ultrapasse 80 km/h, exiba uma mensagem dizendo que o usuário foi multado. Nesse caso, exiba o valor da multa, cobrando R$ 5 por km acima de 80 km/h.\n",
        "\n",
        "7) Escreva um programa que pergunte o salário do funcionário e calcule o valor do aumento. Para salários superiores a R$ 1.250,00, calcule um aumento de 10%. Para os inferiores ou iguais, de 15%.\n",
        "\n",
        "<img src=\"https://encrypted-tbn0.gstatic.com/images?q=tbn%3AANd9GcSGI-XZv4fWwsZdQsmwL6OyQacZWHvWVVvGBtbhfpjLIw&usqp=CAU&ec=45673586\" alt=\"Drawing\" style=\"width: 900px\"/>"
      ]
    },
    {
      "cell_type": "code",
      "metadata": {
        "id": "B9mnX--p40-w"
      },
      "source": [
        ""
      ],
      "execution_count": null,
      "outputs": []
    },
    {
      "cell_type": "markdown",
      "metadata": {
        "id": "Q-O6Fjg45bWf"
      },
      "source": [
        "## Estrutura **if-else**\n",
        "\n",
        "Quando há problemas onde a segunda condição é simplesmente o inverso da primeira, podemos usar outra forma de if para simplificar os programas. \n",
        "\n",
        "Essa forma é a cláusula **else** para especificar o que fazer caso o resultado da avaliação da condição seja falso, sem precisarmos de um novo if. \n",
        "\n",
        "O formato da estrutura if-else é:\n",
        "\n",
        "```\n",
        "if <condição>: \n",
        "  bloco verdadeiro\n",
        "else:\n",
        "  bloco falso\n",
        "```\n",
        "\n",
        "<img src=\"https://www.tutlane.com/images/swift/swif-if-else-statement-algorithm-diagram.png\" alt=\"Drawing\" style=\"width: 900px\"/>\n",
        "\n"
      ]
    },
    {
      "cell_type": "markdown",
      "metadata": {
        "id": "mjjNGlaC5iD2"
      },
      "source": [
        "### Exemplos"
      ]
    },
    {
      "cell_type": "code",
      "metadata": {
        "id": "n-YqXFo15gnk",
        "colab": {
          "base_uri": "https://localhost:8080/"
        },
        "outputId": "ee269494-ab7b-4a69-9246-c3d968be8aa6"
      },
      "source": [
        "# 1) Carro novo ou velho, dependendo da idade\n",
        "idade = int(input(\"Digite a idade de seu carro: \"))\n",
        "\n",
        "if idade <= 3:\n",
        "  print (\"Seu carro é novo\")\n",
        "else: \n",
        "  print (\"Seu carro é velho\")"
      ],
      "execution_count": null,
      "outputs": [
        {
          "output_type": "stream",
          "name": "stdout",
          "text": [
            "Digite a idade de seu carro: 5\n",
            "Seu carro é velho\n"
          ]
        }
      ]
    },
    {
      "cell_type": "markdown",
      "metadata": {
        "id": "By7GuQYt5lnh"
      },
      "source": [
        "### Exercício \n",
        "\n",
        "8) Escreva um programa que pergunte a distância que um passageiro\n",
        "deseja percorrer em km. Calcule o preço da passagem, cobrando R$\\$$ 0,50 por km\n",
        "para viagens de até de 200 km, e R$\\$$ 0,45 para viagens mais longas.\n",
        "\n",
        "<img src=\"https://encrypted-tbn0.gstatic.com/images?q=tbn%3AANd9GcSGI-XZv4fWwsZdQsmwL6OyQacZWHvWVVvGBtbhfpjLIw&usqp=CAU&ec=45673586\" alt=\"Drawing\" style=\"width: 900px\"/>"
      ]
    },
    {
      "cell_type": "markdown",
      "metadata": {
        "id": "0v6ElK2K17-j"
      },
      "source": [
        "Solução problema 8) "
      ]
    },
    {
      "cell_type": "code",
      "metadata": {
        "colab": {
          "base_uri": "https://localhost:8080/"
        },
        "id": "jXJkMFy32Bjo",
        "outputId": "875da544-7abb-4c30-e120-7621e91df28c"
      },
      "source": [
        "# Perguntar a distância percorrida (em km)\n",
        "distancia = float(input(\"Digite a distância percorrida: \"))\n",
        "\n",
        "if distancia > 200:\n",
        "  preço = distancia * 0.45\n",
        "else:\n",
        "  preço = distancia * 0.50\n",
        "\n",
        "print(f'O preço da passagem é: {preço:.2f} reais')"
      ],
      "execution_count": null,
      "outputs": [
        {
          "output_type": "stream",
          "name": "stdout",
          "text": [
            "Digite a distância percorrida: 201\n",
            "O preço da passagem é: 90.45 reais\n"
          ]
        }
      ]
    },
    {
      "cell_type": "markdown",
      "metadata": {
        "id": "2B_n3Nyj6ZX0"
      },
      "source": [
        "## Estruturas aninhadas\n",
        "\n",
        "Nem sempre nossos programas serão tão simples. Muitas vezes, precisaremos\n",
        "aninhar vários **if** para obter o comportamento desejado do programa. Aninhar,\n",
        "nesse caso, é utilizar um **if** dentro de outro."
      ]
    },
    {
      "cell_type": "markdown",
      "metadata": {
        "id": "ctRXoQ-H6fPs"
      },
      "source": [
        "### Exemplos"
      ]
    },
    {
      "cell_type": "code",
      "metadata": {
        "id": "vZ88qjxJ58_v",
        "colab": {
          "base_uri": "https://localhost:8080/"
        },
        "outputId": "d31b8a9c-6953-4098-828f-26f897ec7753"
      },
      "source": [
        "# 1) Conta de telefone com três faixas de preço\n",
        "\n",
        "minutos = int(input(\"Quantos minutos você utilizou este mês:\"))\n",
        "\n",
        "if minutos < 200:\n",
        "  preço = 0.20\n",
        "else:\n",
        "  if minutos < 400:\n",
        "    preço = 0.18\n",
        "  else:\n",
        "    preço = 0.15\n",
        "\n",
        "print(\"Você vai pagar este mês: R$%6.2f\" %(minutos * preço))"
      ],
      "execution_count": null,
      "outputs": [
        {
          "output_type": "stream",
          "name": "stdout",
          "text": [
            "Quantos minutos você utilizou este mês:1000\n",
            "Você vai pagar este mês: R$150.00\n"
          ]
        }
      ]
    },
    {
      "cell_type": "code",
      "metadata": {
        "id": "MoRBy5-I6jCZ",
        "colab": {
          "base_uri": "https://localhost:8080/"
        },
        "outputId": "55487e94-2fab-4a74-95d6-3b80040b15f3"
      },
      "source": [
        "# 2) Categoria x preço\n",
        "\n",
        "categoria = int(input(\"Digite a categoria do produto:\"))\n",
        "\n",
        "if categoria == 1:\n",
        "  preço = 10\n",
        "else:\n",
        "  if categoria == 2:\n",
        "    preço = 18\n",
        "  else:\n",
        "    if categoria == 3:\n",
        "      preço = 23\t\n",
        "    else:\n",
        "      if categoria == 4:\n",
        "        preço = 26\n",
        "      else:\n",
        "        if categoria == 5:\n",
        "          preço = 31\n",
        "        else:\n",
        "          print(\"Categoria inválida, digite um valor entre 1 e 5!\")\n",
        "          preço = 0\n",
        "\n",
        "print(\"O preço do produto é: R$ %.2f\" % preço)"
      ],
      "execution_count": null,
      "outputs": [
        {
          "output_type": "stream",
          "name": "stdout",
          "text": [
            "Digite a categoria do produto:6\n",
            "Categoria inválida, digite um valor entre 1 e 5!\n",
            "O preço do produto é: R$ 0.00\n"
          ]
        }
      ]
    },
    {
      "cell_type": "markdown",
      "metadata": {
        "id": "NV_b7JNB6pw1"
      },
      "source": [
        "O último **else** utilizado corresponde ao conceito de validação de entrada:\n",
        "* Se o usuário digitar um valor inválido, receberá uma mensagem de erro na tela.\n",
        "\n",
        "Mais a frente no curso veremos como melhor tratar esse tipo de situação."
      ]
    },
    {
      "cell_type": "markdown",
      "metadata": {
        "id": "DNu9UaJA6v4c"
      },
      "source": [
        "*Poderíamos escrever o código acima com a estrutura desaninhada?*"
      ]
    },
    {
      "cell_type": "code",
      "metadata": {
        "colab": {
          "base_uri": "https://localhost:8080/"
        },
        "id": "fux3heMA8W9T",
        "outputId": "78d1fa0c-e5bd-4401-d338-e6b83b0f3606"
      },
      "source": [
        "categoria = int(input(\"Digite a categoria do produto:\"))\n",
        "\n",
        "if categoria == 1:\n",
        "  preço = 10\n",
        "\n",
        "if categoria == 2:\n",
        "  preço = 18\n",
        "\n",
        "if categoria == 3:\n",
        "  preço = 23\n",
        "\n",
        "if categoria == 4:\n",
        "  preço = 26\n",
        "\n",
        "if categoria == 5:\n",
        "  preço = 31\n",
        "\n",
        "else:\n",
        "  print(\"Categoria inválida, digite um valor entre 1 e 5!\")\n",
        "  preço = 0\n",
        "\n",
        "print(\"O preço do produto é: R$%6.2f\" % preço)"
      ],
      "execution_count": null,
      "outputs": [
        {
          "output_type": "stream",
          "name": "stdout",
          "text": [
            "Digite a categoria do produto:3\n",
            "Categoria inválida, digite um valor entre 1 e 5!\n",
            "O preço do produto é: R$  0.00\n"
          ]
        }
      ]
    },
    {
      "cell_type": "code",
      "metadata": {
        "id": "nKiPzWp96xPt",
        "colab": {
          "base_uri": "https://localhost:8080/"
        },
        "outputId": "a4e9769e-f38b-4743-b8ae-ef849f3d7cfd"
      },
      "source": [
        "categoria = int(input(\"Digite a categoria do produto:\"))\n",
        "\n",
        "if categoria == 1:\n",
        "  preço = 10\n",
        "  print(f'cat. 1: {preço}')\n",
        "if categoria == 2:\n",
        "  preço = 18\n",
        "  print(f'cat. 2: {preço}')\n",
        "if categoria == 3:\n",
        "  preço = 23\n",
        "  print(f'cat. 3: {preço}')\t\n",
        "if categoria == 4:\n",
        "  preço = 26\n",
        "  print(f'cat. 4: {preço}')\n",
        "if categoria == 5:\n",
        "  preço = 31\n",
        "  print(f'cat. 5: {preço}')\n",
        "else:\n",
        "  print(\"Categoria inválida, digite um valor entre 1 e 5!\")\n",
        "  preço = 0\n",
        "\n",
        "print(\"O preço do produto é: R$%6.2f\" % preço)"
      ],
      "execution_count": null,
      "outputs": [
        {
          "output_type": "stream",
          "name": "stdout",
          "text": [
            "Digite a categoria do produto:3\n",
            "cat. 3: 23\n",
            "Categoria inválida, digite um valor entre 1 e 5!\n",
            "O preço do produto é: R$  0.00\n"
          ]
        }
      ]
    },
    {
      "cell_type": "markdown",
      "metadata": {
        "id": "I7l_I1tK62Tk"
      },
      "source": [
        "### Desafio\n",
        "\n",
        "9) Indique as linhas de código executadas de acordo com a categoria digitada pelo usuário (1, 2, 3, 4, 5 ou outra) para os exemplos 1) e 2).\n",
        "\n",
        "<img src=\"https://encrypted-tbn0.gstatic.com/images?q=tbn:ANd9GcT0nsUcReOSEwigD1Lhai5wzzbSl0tCYCPT9g&usqp=CAU\" alt=\"Drawing\" style=\"width: 900px\"/>\n"
      ]
    },
    {
      "cell_type": "markdown",
      "metadata": {
        "id": "qw4x-Ids7Bnm"
      },
      "source": [
        "## Estruturas **elif**\n",
        "\n",
        "Python apresenta uma solução muito interessante ao problema de múltiplos **if**s\n",
        "aninhados. \n",
        "\n",
        "A cláusula **elif** substitui um par else if, mas sem criar outro nível de estrutura, evitando problemas de deslocamentos desnecessários à direita.\n",
        "\n",
        "\n",
        "<img src=\"https://media.geeksforgeeks.org/wp-content/uploads/if-elseif-ladder.jpg\" alt=\"Drawing\" style=\"width: 900px\"/>"
      ]
    },
    {
      "cell_type": "markdown",
      "metadata": {
        "id": "wQFfVoAi-uNd"
      },
      "source": [
        "```\n",
        "if condição 1:  \n",
        "  bloco1  \n",
        "elif condição 2:    \n",
        "  bloco2  \n",
        "elif condição 3:  \n",
        "  bloco3  \n",
        "elif condição 4:  \n",
        "  bloco4   \n",
        "else:  \n",
        "  bloco else\n",
        "\n",
        "```\n",
        "\n"
      ]
    },
    {
      "cell_type": "markdown",
      "metadata": {
        "id": "xx2V3Vg67L-5"
      },
      "source": [
        "### Exemplos"
      ]
    },
    {
      "cell_type": "code",
      "metadata": {
        "id": "i4WCm_Ma6-wB"
      },
      "source": [
        "# 1) Categoria x preço, usando elif\n",
        "\n",
        "categoria = int(input(\"Digite a categoria do produto: \"))\n",
        "\n",
        "if categoria == 1:\n",
        "  preço = 10\n",
        "elif categoria == 2:\n",
        "  preço = 18\n",
        "elif categoria == 3:\n",
        "  preço = 23\n",
        "elif categoria == 4:\n",
        "  preço = 26\n",
        "elif categoria == 5:\n",
        "  preço = 31\n",
        "else:\n",
        "  print (\"Categoria inválida, digite um valor entre 1 e 5!\")\n",
        "  preço = 0\n",
        "\n",
        "print (\"O preço do produto é: R$%6.2f\" % preço)"
      ],
      "execution_count": null,
      "outputs": []
    },
    {
      "cell_type": "markdown",
      "metadata": {
        "id": "0OvnqbL47PhC"
      },
      "source": [
        "### Exercícios\n",
        "\n",
        "10) Escreva um programa que leia dois números e que pergunte qual\n",
        "operação você deseja realizar. Você deve poder calcular a soma (+), subtração (-), multiplicação (*) e divisão (/). Exiba o resultado da operação solicitada.\n",
        "\n",
        "11) Escreva um programa para aprovar o empréstimo bancário para\n",
        "compra de uma casa. O programa deve perguntar o valor da casa a comprar, o\n",
        "salário e a quantidade de anos a pagar. O valor da prestação mensal não pode ser\n",
        "superior a 30% do salário. Calcule o valor da prestação como sendo o valor da\n",
        "casa a comprar dividido pelo número de meses a pagar.\n",
        "\n",
        "<img src=\"https://encrypted-tbn0.gstatic.com/images?q=tbn%3AANd9GcSGI-XZv4fWwsZdQsmwL6OyQacZWHvWVVvGBtbhfpjLIw&usqp=CAU&ec=45673586\" alt=\"Drawing\" style=\"width: 900px\"/>"
      ]
    },
    {
      "cell_type": "markdown",
      "metadata": {
        "id": "Pc6kldQ4_vYp"
      },
      "source": [
        "Solução problema 10)"
      ]
    },
    {
      "cell_type": "code",
      "metadata": {
        "colab": {
          "base_uri": "https://localhost:8080/"
        },
        "id": "pR6mY5s4BGxN",
        "outputId": "ba056b95-fa25-42ec-c886-2e82b69dfb31"
      },
      "source": [
        "# Solução Cláudio\n",
        "\n",
        "num1 = float(input('Digite o primeiro numero: '))\n",
        "op = input('Digite a operação: ')\n",
        "num2 = float(input('Digite o segundo numero: '))\n",
        "\n",
        "som = num1 + num2\n",
        "sub = num1 - num2\n",
        "mul = num1 * num2\n",
        "div = num1 / num2\n",
        "\n",
        "if op == '+':\n",
        "  print('= ' , som)\n",
        "elif op == '-':\n",
        "  print('= ' , sub)\n",
        "elif op == '*':\n",
        "  print('= ' , mul)\n",
        "elif op == '/':\n",
        "  print('= ' , div)\n",
        "else:\n",
        "  print('Coloque uma opção válida')\n",
        "\n",
        "print('Fim de execução do programa')"
      ],
      "execution_count": null,
      "outputs": [
        {
          "output_type": "stream",
          "name": "stdout",
          "text": [
            "Digite o primeiro numero: 8\n",
            "Digite a operação: *\n",
            "Digite o segundo numero: 5\n",
            "=  40.0\n",
            "Fim de execução do programa\n"
          ]
        }
      ]
    },
    {
      "cell_type": "code",
      "metadata": {
        "colab": {
          "base_uri": "https://localhost:8080/"
        },
        "id": "9SIEb-4HB-yv",
        "outputId": "e136c5d9-3466-4844-d004-447fed082d4e"
      },
      "source": [
        "n1 = float(input(\"Informe um numero: \"))\n",
        "n2 = float(input(\"Informe outro numero: \")) \n",
        "op = input ('Digite a operação desejada: ') \n",
        "\n",
        "if (op == '*'): \n",
        "  print(float(n1*n2)) \n",
        "elif (op == '/'): \n",
        "  print(float(n1/n2)) \n",
        "elif (op == '+'): \n",
        "  print(n1+n2) \n",
        "elif (op == '-'): \n",
        "  print(n1-n2) \n",
        "else: \n",
        "  print(\"Digite um operação váldia: \") "
      ],
      "execution_count": null,
      "outputs": [
        {
          "output_type": "stream",
          "name": "stdout",
          "text": [
            "Informe um numero: 5\n",
            "Informe outro numero: 7\n",
            "Digite a operação desejada: +\n",
            "12.0\n"
          ]
        }
      ]
    },
    {
      "cell_type": "code",
      "metadata": {
        "colab": {
          "base_uri": "https://localhost:8080/"
        },
        "id": "9wfAJDXa_7wm",
        "outputId": "8dccbe5d-cd69-404b-cab3-b81a97a98049"
      },
      "source": [
        "# Entrada do usuário\n",
        "número1 = float(input('Digite o primeiro número: '))\n",
        "número2 = float(input('Digite o segundo número: '))\n",
        "op = input('Digite a operação desejada: ')\n",
        "\n",
        "if op == '+' or op == 'Soma' or op == 'soma':\n",
        "  valor = número1 + número2\n",
        "elif op == '-' or op == 'Subtração' or op == 'subtração':\n",
        "  valor = número1 - número2\n",
        "elif op == '*' or op == 'Multiplicação' or op == 'multiplicação':\n",
        "  valor = número1 * número2\n",
        "elif op == '/' or op == 'Divisão' or op == 'divisão':\n",
        "  valor = número1 / número2\n",
        "else: \n",
        "  print(\"Digite um operação válida: \") \n",
        "\n",
        "print(f'Resultado: {valor}')\n",
        "\n",
        "print('Programa com execução finalizada')"
      ],
      "execution_count": null,
      "outputs": [
        {
          "output_type": "stream",
          "name": "stdout",
          "text": [
            "Digite o primeiro número: 5\n",
            "Digite o segundo número: 7\n",
            "Digite a operação desejada: *\n",
            "Resultado: 35.0\n",
            "Programa com execução finalizada\n"
          ]
        }
      ]
    },
    {
      "cell_type": "markdown",
      "metadata": {
        "id": "KjxyJ7a5_u-A"
      },
      "source": [
        "Solução problema 11)"
      ]
    },
    {
      "cell_type": "code",
      "metadata": {
        "id": "DU4tCIby7YIW"
      },
      "source": [
        ""
      ],
      "execution_count": null,
      "outputs": []
    }
  ]
}