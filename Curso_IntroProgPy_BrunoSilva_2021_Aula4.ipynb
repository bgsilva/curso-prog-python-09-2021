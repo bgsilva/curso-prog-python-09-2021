{
  "nbformat": 4,
  "nbformat_minor": 0,
  "metadata": {
    "colab": {
      "name": "Curso_IntroProgPy_BrunoSilva_2021_Aula4.ipynb",
      "provenance": [],
      "collapsed_sections": [],
      "toc_visible": true,
      "authorship_tag": "ABX9TyMWtGoHg2Hp+0rkYVOgmRTh",
      "include_colab_link": true
    },
    "kernelspec": {
      "name": "python3",
      "display_name": "Python 3"
    },
    "language_info": {
      "name": "python"
    }
  },
  "cells": [
    {
      "cell_type": "markdown",
      "metadata": {
        "id": "view-in-github",
        "colab_type": "text"
      },
      "source": [
        "<a href=\"https://colab.research.google.com/github/bgsilva/curso-prog-python-09-2021/blob/main/Curso_IntroProgPy_BrunoSilva_2021_Aula4.ipynb\" target=\"_parent\"><img src=\"https://colab.research.google.com/assets/colab-badge.svg\" alt=\"Open In Colab\"/></a>"
      ]
    },
    {
      "cell_type": "markdown",
      "metadata": {
        "id": "78YKSohPWE-g"
      },
      "source": [
        "# Introdução à Lógica de Programação\n",
        "## Prof. Bruno Silva\n",
        "\n",
        "## Aula 4: Estruturas de repetição\n",
        "\n",
        "* While\n",
        "* For\n",
        "\n",
        "### 08/09/2021\n"
      ]
    },
    {
      "cell_type": "markdown",
      "metadata": {
        "id": "0zsk4qwTXhPV"
      },
      "source": [
        "# Estruturas de repetição (ou laços de repetição ou loops)\n",
        "\n",
        "Repetições representam a base de vários programas. \n",
        "\n",
        "São utilizadas para executar a mesma parte de um programa várias vezes, normalmente dependendo de uma condição. \n",
        "\n",
        "Para imprimir três números na tela:"
      ]
    },
    {
      "cell_type": "code",
      "metadata": {
        "id": "K3v9KQVTWEq7",
        "colab": {
          "base_uri": "https://localhost:8080/"
        },
        "outputId": "d20e28f5-4249-498d-f2fd-4ecaa3823ac8"
      },
      "source": [
        "# Exemplo: Imprimindo de 0 a 4 | Abordagem 1\n",
        "\n",
        "print(0)\n",
        "print(1)\n",
        "print(2)\n",
        "print(3)\n",
        "print(4)"
      ],
      "execution_count": null,
      "outputs": [
        {
          "output_type": "stream",
          "name": "stdout",
          "text": [
            "0\n",
            "1\n",
            "2\n",
            "3\n",
            "4\n"
          ]
        }
      ]
    },
    {
      "cell_type": "markdown",
      "metadata": {
        "id": "Gk4LWgGXX7y2"
      },
      "source": [
        "Outro modo de fazer:"
      ]
    },
    {
      "cell_type": "code",
      "metadata": {
        "id": "T2AZAT_OV5fe",
        "colab": {
          "base_uri": "https://localhost:8080/"
        },
        "outputId": "5cd3776a-dbe5-4101-dff9-f212d5c08487"
      },
      "source": [
        "# Exemplo: Imprimindo de 0 a 3 | Abordagem 2\n",
        "\n",
        "x = 0\n",
        "print(x)\n",
        "x = 1\n",
        "print(x)\n",
        "x = 2\n",
        "print(x)\n",
        "x = 3\n",
        "print(x)\n",
        "x = 4\n",
        "print(x)"
      ],
      "execution_count": null,
      "outputs": [
        {
          "output_type": "stream",
          "name": "stdout",
          "text": [
            "0\n",
            "1\n",
            "2\n",
            "3\n",
            "4\n"
          ]
        }
      ]
    },
    {
      "cell_type": "markdown",
      "metadata": {
        "id": "S6FD2ZTrLJFJ"
      },
      "source": [
        "Ou ..."
      ]
    },
    {
      "cell_type": "code",
      "metadata": {
        "id": "2dW2AYhyYhC1",
        "colab": {
          "base_uri": "https://localhost:8080/"
        },
        "outputId": "dd217bcc-f19e-4ba7-fa5a-a8c71729c7be"
      },
      "source": [
        "# Exemplo: Imprimindo de 0 a 3 | Abordagem 3\n",
        "\n",
        "x = 0\n",
        "print(x)\n",
        "x = x + 1\n",
        "print(x)\n",
        "x = x + 1\n",
        "print(x)\n",
        "x = x + 1\n",
        "print(x)\n",
        "x = x + 1\n",
        "print(x)"
      ],
      "execution_count": null,
      "outputs": [
        {
          "output_type": "stream",
          "name": "stdout",
          "text": [
            "0\n",
            "1\n",
            "2\n",
            "3\n",
            "4\n"
          ]
        }
      ]
    },
    {
      "cell_type": "markdown",
      "metadata": {
        "id": "XFAADR5EYxTI"
      },
      "source": [
        "... que são abordagens inviáveis para grandes quantidades de números.\n",
        "\n",
        "Para 100 para imprimir 100 números teriámos que escrever 200 linhas! \n",
        "\n",
        "solução:"
      ]
    },
    {
      "cell_type": "markdown",
      "metadata": {
        "id": "0byNEqd8ZupX"
      },
      "source": [
        "# While \n",
        "\n",
        "Uma das estruturas de repetição do Python é o while, que repete um bloco enquanto a condição for verdadeira.\n",
        "\n",
        "Sua estrutura é: \n",
        "\n",
        "```\n",
        "while <condição>:\n",
        "  bloco\n",
        "```\n",
        "\n",
        "<img src=\"https://www.freecodecamp.org/news/content/images/2020/08/while-loop.jpg\" alt=\"Drawing\" style=\"width: 900px\"/>"
      ]
    },
    {
      "cell_type": "code",
      "metadata": {
        "id": "xjyITldjYowq",
        "colab": {
          "base_uri": "https://localhost:8080/"
        },
        "outputId": "7b9234b3-df1c-4132-a280-8c7734df9f03"
      },
      "source": [
        "# Exemplo: Resolvendo o problema anterior\n",
        "\n",
        "x = 0\n",
        "\n",
        "while x <= 4:\n",
        "  print(x)\n",
        "  x = x + 1"
      ],
      "execution_count": null,
      "outputs": [
        {
          "output_type": "stream",
          "name": "stdout",
          "text": [
            "0\n",
            "1\n",
            "2\n",
            "3\n",
            "4\n"
          ]
        }
      ]
    },
    {
      "cell_type": "markdown",
      "metadata": {
        "id": "7xpizaLixzmv"
      },
      "source": [
        "Laços infinito"
      ]
    },
    {
      "cell_type": "code",
      "metadata": {
        "id": "oM2zg8sLxb7T"
      },
      "source": [
        "# Exemplo: Resolvendo o problema anterior\n",
        "\n",
        "x = 0\n",
        "\n",
        "while x <= 4:\n",
        "  print(x)"
      ],
      "execution_count": null,
      "outputs": []
    },
    {
      "cell_type": "markdown",
      "metadata": {
        "id": "AKx18OoOLj8a"
      },
      "source": [
        "Podemos entender a condição do while da mesma forma que a condição de if. \n",
        "\n",
        "A diferença é que, se a condição for verdadeira, repetiremos o bloco dentro do while enquanto a avaliação da condição for verdadeira."
      ]
    },
    {
      "cell_type": "markdown",
      "metadata": {
        "id": "-X_expaYcb_L"
      },
      "source": [
        "### Exercícios"
      ]
    },
    {
      "cell_type": "markdown",
      "metadata": {
        "id": "ajVWHsWgaFKx"
      },
      "source": [
        "1) Modifique o programa para exibir os números de 1 a 100."
      ]
    },
    {
      "cell_type": "markdown",
      "metadata": {
        "id": "XvXbkEq5aFFa"
      },
      "source": [
        "2) Modifique o programa para exibir os números de 50 a 100.\n",
        "\n",
        "<img src=\"https://encrypted-tbn0.gstatic.com/images?q=tbn%3AANd9GcSGI-XZv4fWwsZdQsmwL6OyQacZWHvWVVvGBtbhfpjLIw&usqp=CAU&ec=45673586\" alt=\"Drawing\" style=\"width: 900px\"/>"
      ]
    },
    {
      "cell_type": "code",
      "metadata": {
        "id": "iWHG7t4QaT6x"
      },
      "source": [
        "# Solução do problema 1\n",
        "\n",
        "x = 1\n",
        "\n",
        "while x <= 100:\n",
        "  print(x)\n",
        "  x = x + 1"
      ],
      "execution_count": null,
      "outputs": []
    },
    {
      "cell_type": "code",
      "metadata": {
        "id": "OSAaWBC1aUff"
      },
      "source": [
        "# Solução do problema 1\n",
        "\n",
        "x = 1\n",
        "\n",
        "while x < 101:\n",
        "  print(x)\n",
        "  x = x + 1"
      ],
      "execution_count": null,
      "outputs": []
    },
    {
      "cell_type": "code",
      "metadata": {
        "id": "zBOeb_V_yk-J"
      },
      "source": [
        "# Solução do problema 2\n",
        "\n",
        "x = 50\n",
        "\n",
        "while x <= 100:\n",
        "  print(x)\n",
        "  x = x + 1"
      ],
      "execution_count": null,
      "outputs": []
    },
    {
      "cell_type": "markdown",
      "metadata": {
        "id": "A9pAhdDjYb_Q"
      },
      "source": [
        "Vejamos o seguinte exemplo:"
      ]
    },
    {
      "cell_type": "code",
      "metadata": {
        "colab": {
          "base_uri": "https://localhost:8080/"
        },
        "id": "WiGIxfVbzWYp",
        "outputId": "9667142f-2f47-4466-a92d-bc20ad8334c6"
      },
      "source": [
        "# Exemplo: A expressão abaixo apresenta algum problema?\n",
        "\n",
        "x = 10\n",
        "\n",
        "while x > 8:\n",
        "  x = x - 1\n",
        "  print(x)"
      ],
      "execution_count": null,
      "outputs": [
        {
          "output_type": "stream",
          "name": "stdout",
          "text": [
            "9\n",
            "8\n"
          ]
        }
      ]
    },
    {
      "cell_type": "code",
      "metadata": {
        "id": "BNd_V01PYdSB"
      },
      "source": [
        "# Exemplo: A expressão abaixo apresenta algum problema?\n",
        "\n",
        "x = 10\n",
        "\n",
        "while x > 8:\n",
        "  x = x + 2\n",
        "  print(x)"
      ],
      "execution_count": null,
      "outputs": []
    },
    {
      "cell_type": "code",
      "metadata": {
        "id": "r4KUzA6w7VZV",
        "colab": {
          "base_uri": "https://localhost:8080/",
          "height": 195
        },
        "outputId": "575e1df8-8da9-41e5-8797-f5f574ad2d67"
      },
      "source": [
        "# Exemplo: Comando 'pass'\n",
        "\n",
        "while True:\n",
        "  pass"
      ],
      "execution_count": null,
      "outputs": [
        {
          "output_type": "error",
          "ename": "KeyboardInterrupt",
          "evalue": "ignored",
          "traceback": [
            "\u001b[0;31m---------------------------------------------------------------------------\u001b[0m",
            "\u001b[0;31mKeyboardInterrupt\u001b[0m                         Traceback (most recent call last)",
            "\u001b[0;32m<ipython-input-13-be79ed0f0f77>\u001b[0m in \u001b[0;36m<module>\u001b[0;34m()\u001b[0m\n\u001b[1;32m      2\u001b[0m \u001b[0;34m\u001b[0m\u001b[0m\n\u001b[1;32m      3\u001b[0m \u001b[0;32mwhile\u001b[0m \u001b[0;32mTrue\u001b[0m\u001b[0;34m:\u001b[0m\u001b[0;34m\u001b[0m\u001b[0;34m\u001b[0m\u001b[0m\n\u001b[0;32m----> 4\u001b[0;31m   \u001b[0;32mpass\u001b[0m\u001b[0;34m\u001b[0m\u001b[0;34m\u001b[0m\u001b[0m\n\u001b[0m",
            "\u001b[0;31mKeyboardInterrupt\u001b[0m: "
          ]
        }
      ]
    },
    {
      "cell_type": "markdown",
      "metadata": {
        "id": "f462eYc1ZAMT"
      },
      "source": [
        "O código acima é um exemplo de um loop infinito. Loops infinitos são aqueles em que a condição é sempre verdadeira. "
      ]
    },
    {
      "cell_type": "code",
      "metadata": {
        "id": "UFLW9H047sE5"
      },
      "source": [
        "# Exemplo: Imprimir os números pares entre 0 e 100.\n",
        "\n",
        "x = 0\n",
        "\n",
        "while x <= 100:\n",
        "  print(x)\n",
        "  x = x + 2"
      ],
      "execution_count": null,
      "outputs": []
    },
    {
      "cell_type": "code",
      "metadata": {
        "id": "sD9zXDl38KhF"
      },
      "source": [
        "# Exemplo: Imprimir os números ímpares entre 0 e 100.\n",
        "\n",
        "x = 1\n",
        "\n",
        "while x <= 100:\n",
        "  print(x)\n",
        "  x = x + 2"
      ],
      "execution_count": null,
      "outputs": []
    },
    {
      "cell_type": "markdown",
      "metadata": {
        "id": "pqnc-PzWdk6e"
      },
      "source": [
        "### Exercício\n",
        "\n",
        "3) Faça um programa para escrever a contagem regressiva do lançamento\n",
        "de um foguete. O programa deve imprimir 10, 9, 8, ..., 1, 0 e Fogo! na tela.\n",
        "\n",
        "<img src=\"https://encrypted-tbn0.gstatic.com/images?q=tbn%3AANd9GcSGI-XZv4fWwsZdQsmwL6OyQacZWHvWVVvGBtbhfpjLIw&usqp=CAU&ec=45673586\" alt=\"Drawing\" style=\"width: 900px\"/>"
      ]
    },
    {
      "cell_type": "code",
      "metadata": {
        "colab": {
          "base_uri": "https://localhost:8080/"
        },
        "id": "1I45jyvp0FFg",
        "outputId": "91cff22c-593b-4434-a5f4-f3c7e240cdf4"
      },
      "source": [
        "# Tarcio\n",
        "\n",
        "cont = 10\n",
        "\n",
        "while cont >= 0:\n",
        "  print(cont) \n",
        "  cont -= 1 \n",
        "  \n",
        "print(\"Fogo!\") "
      ],
      "execution_count": null,
      "outputs": [
        {
          "output_type": "stream",
          "name": "stdout",
          "text": [
            "10\n",
            "9\n",
            "8\n",
            "7\n",
            "6\n",
            "5\n",
            "4\n",
            "3\n",
            "2\n",
            "1\n",
            "0\n",
            "Fogo!\n"
          ]
        }
      ]
    },
    {
      "cell_type": "code",
      "metadata": {
        "colab": {
          "base_uri": "https://localhost:8080/"
        },
        "id": "YmXlugJn1GFn",
        "outputId": "abf69e12-13fa-4ec0-96a8-f451b7be80f8"
      },
      "source": [
        "# Vinicius\n",
        "\n",
        "x = 10\n",
        "\n",
        "while x >= 0:\n",
        "  print(x)\n",
        "  x = x - 1\n",
        "\n",
        "print(\"Fogo!\") "
      ],
      "execution_count": null,
      "outputs": [
        {
          "output_type": "stream",
          "name": "stdout",
          "text": [
            "10\n",
            "9\n",
            "8\n",
            "7\n",
            "6\n",
            "5\n",
            "4\n",
            "3\n",
            "2\n",
            "1\n",
            "0\n",
            "Fogo!\n"
          ]
        }
      ]
    },
    {
      "cell_type": "markdown",
      "metadata": {
        "id": "v8uT72_FdudK"
      },
      "source": [
        "## Contadores\n",
        "\n",
        "O poder das estruturas de repetições é muito interessante, principalmente quando\n",
        "utilizamos condições com mais de uma variável.\n",
        "\n",
        "Imagine um problema onde deveríamos imprimir os números inteiros entre 1 e um valor digitado pelo usuário.\n",
        "\n",
        "* Contadores são utilizados para ter controle da execução do loop."
      ]
    },
    {
      "cell_type": "code",
      "metadata": {
        "id": "JYvgf_GldmNy",
        "colab": {
          "base_uri": "https://localhost:8080/"
        },
        "outputId": "ef13c97d-7ea2-4b2f-db71-47083d35f6f8"
      },
      "source": [
        "# Exemplo: Impressão de 1 até um número digitado pelo usuário\n",
        "\n",
        "fim = int(input(\"Digite o último número a imprimir: \"))\n",
        "\n",
        "x = 1\n",
        "\n",
        "while x <= fim:\n",
        "  print(x)\n",
        "  x = x + 1"
      ],
      "execution_count": null,
      "outputs": [
        {
          "output_type": "stream",
          "name": "stdout",
          "text": [
            "Digite o último número a imprimir: 1\n",
            "1\n"
          ]
        }
      ]
    },
    {
      "cell_type": "markdown",
      "metadata": {
        "id": "r3Oe3Np1MLFw"
      },
      "source": [
        "Imagine que o problema agora seja um pouco diferente: imprimir apenas os números pares entre 0 e um número digitado pelo usuário, de forma bem similar\n",
        "ao exemplo anterior."
      ]
    },
    {
      "cell_type": "code",
      "metadata": {
        "id": "Z5oL--qZeO7y",
        "colab": {
          "base_uri": "https://localhost:8080/"
        },
        "outputId": "0f8416d6-bfba-4318-be30-4dbece4f1bf9"
      },
      "source": [
        "# Exemplo: Impressão de números pares de 0 até um número digitado pelo usuário\n",
        "\n",
        "fim = int(input(\"Digite o último número a imprimir: \"))\n",
        "\n",
        "x = 0 \n",
        "\n",
        "while x <= fim:\n",
        "  if x % 2 == 0:\n",
        "    print(x)\n",
        "  x = x + 1"
      ],
      "execution_count": null,
      "outputs": [
        {
          "output_type": "stream",
          "name": "stdout",
          "text": [
            "Digite o último número a imprimir: 10\n",
            "0\n",
            "2\n",
            "4\n",
            "6\n",
            "8\n",
            "10\n"
          ]
        }
      ]
    },
    {
      "cell_type": "code",
      "metadata": {
        "id": "Ah2lEgD5e0uR",
        "colab": {
          "base_uri": "https://localhost:8080/"
        },
        "outputId": "5e0cd9a1-91e4-4c8e-ecf1-7891d63c0144"
      },
      "source": [
        "# Exemplo: Impressão de números pares de 0 até um número digitado pelo usuário, sem if\n",
        "\n",
        "fim = int(input(\"Digite o último número a imprimir:\"))\n",
        "x = 0\n",
        "\n",
        "while x <= fim:\n",
        "  print (x)\n",
        "  x = x + 2"
      ],
      "execution_count": null,
      "outputs": [
        {
          "output_type": "stream",
          "name": "stdout",
          "text": [
            "Digite o último número a imprimir:12\n",
            "0\n",
            "2\n",
            "4\n",
            "6\n",
            "8\n",
            "10\n",
            "12\n"
          ]
        }
      ]
    },
    {
      "cell_type": "markdown",
      "metadata": {
        "id": "iOTf_rnOMslC"
      },
      "source": [
        "Esses dois exemplos mostram que existe mais de uma solução para o problema,\n",
        "que podemos escrever programas diferentes e obter a mesma solução. Essas soluções podem ser às vezes mais complicadas, às vezes mais simples, mas ainda\n",
        "assim corretas."
      ]
    },
    {
      "cell_type": "markdown",
      "metadata": {
        "id": "OoGvr53WNX7l"
      },
      "source": [
        "Vejamos outro tipo de problema. \n",
        "\n",
        "Imagine ter que imprimir a tabuada de adição de um número digitado pelo usuário. Essa tabuada deve ser impressa de 1 a 10, sendo n o número digitado pelo usuário. Teríamos, assim, n+1, n+2, ... n+10.\n",
        "\n",
        "Abaixo temos uma solução:"
      ]
    },
    {
      "cell_type": "code",
      "metadata": {
        "id": "yNsna6qQNfBi",
        "colab": {
          "base_uri": "https://localhost:8080/"
        },
        "outputId": "cb4c177d-b53b-4830-efbf-8b750726aee8"
      },
      "source": [
        "# Exemplo: Tabuada simples\n",
        "\n",
        "n = int(input(\"Tabuada de: \"))\n",
        "\n",
        "x = 1\n",
        "\n",
        "while x <= 10:\n",
        "  print(n + x)\n",
        "  x = x + 1"
      ],
      "execution_count": null,
      "outputs": [
        {
          "output_type": "stream",
          "name": "stdout",
          "text": [
            "Tabuada de: 5\n",
            "6\n",
            "7\n",
            "8\n",
            "9\n",
            "10\n",
            "11\n",
            "12\n",
            "13\n",
            "14\n",
            "15\n"
          ]
        }
      ]
    },
    {
      "cell_type": "markdown",
      "metadata": {
        "id": "l6hbt1FLNGp5"
      },
      "source": [
        "### Exercícios\n",
        "\n",
        "4) Altere o programa anterior para exibir os resultados no mesmo formato de uma tabuada: 2x1 = 2, 2x2=4, ...\n",
        "\n",
        "5) Modifique o programa anterior 4) de forma que o usuário também digite o início e o fim da tabuada (em vez de começar com 1 e 10, por exemplo)\n",
        "\n",
        "<img src=\"https://encrypted-tbn0.gstatic.com/images?q=tbn%3AANd9GcSGI-XZv4fWwsZdQsmwL6OyQacZWHvWVVvGBtbhfpjLIw&usqp=CAU&ec=45673586\" alt=\"Drawing\" style=\"width: 900px\"/>"
      ]
    },
    {
      "cell_type": "code",
      "metadata": {
        "id": "MH9r9Mg1cag5",
        "colab": {
          "base_uri": "https://localhost:8080/"
        },
        "outputId": "a7459610-d07d-4ed3-87b5-ca94847b105e"
      },
      "source": [
        "# Solução problema 4\n",
        "\n",
        "n = int(input(\"Tabuada de: \"))\n",
        "\n",
        "x = 1\n",
        "\n",
        "while x <= 10:\n",
        "  print(f'{n} x {x} = {n * x}')\n",
        "  x = x + 1"
      ],
      "execution_count": null,
      "outputs": [
        {
          "output_type": "stream",
          "name": "stdout",
          "text": [
            "Tabuada de: 2\n",
            "2 x 1 = 2\n",
            "2 x 2 = 4\n",
            "2 x 3 = 6\n",
            "2 x 4 = 8\n",
            "2 x 5 = 10\n",
            "2 x 6 = 12\n",
            "2 x 7 = 14\n",
            "2 x 8 = 16\n",
            "2 x 9 = 18\n",
            "2 x 10 = 20\n"
          ]
        }
      ]
    },
    {
      "cell_type": "code",
      "metadata": {
        "id": "NVxWP2BTcaTP"
      },
      "source": [
        "# Solução problema 5"
      ],
      "execution_count": null,
      "outputs": []
    },
    {
      "cell_type": "markdown",
      "metadata": {
        "id": "1U0AaGUrfCS9"
      },
      "source": [
        "### Desafios\n",
        "\n",
        "6) Escreva um programa que leia dois números. Imprima o resultado da\n",
        "multiplicação do primeiro pelo segundo. Utilize apenas os operadores de soma e\n",
        "subtração para calcular o resultado. Lembre-se de que podemos entender a multiplicação de dois números como somas sucessivas de um deles. Assim, 4 × 5 = 5 + 5 + 5 + 5 = 4 + 4 + 4 + 4 + 4.\n",
        "\n",
        "7) Escreva um programa que leia dois números. Imprima a divisão\n",
        "inteira do primeiro pelo segundo, assim como o resto da divisão. Utilize apenas\n",
        "os operadores de soma e subtração para calcular o resultado. Lembre-se de que\n",
        "podemos entender o quociente da divisão de dois números como a quantidade\n",
        "de vezes que podemos retirar o divisor do dividendo. Logo, 20 ÷ 4 = 5, uma vez\n",
        "que podemos subtrair 4 cinco vezes de 20.\n",
        "\n",
        "<img src=\"https://encrypted-tbn0.gstatic.com/images?q=tbn:ANd9GcT0nsUcReOSEwigD1Lhai5wzzbSl0tCYCPT9g&usqp=CAU\" alt=\"Drawing\" style=\"width: 900px\"/>\n",
        "\n"
      ]
    },
    {
      "cell_type": "markdown",
      "metadata": {
        "id": "xMtWrYbbfWde"
      },
      "source": [
        "---\n",
        "\n",
        "Contadores também podem ser úteis quando usados com condições dentro dos\n",
        "programas. \n",
        "\n",
        "Vejamos um programa para corrigir um teste de múltipla escolha com três questões. \n",
        "\n",
        "A resposta da primeira é “b”; da segunda, “a”; e da terceira, “d”. O programa abaixo conta um ponto a cada resposta correta."
      ]
    },
    {
      "cell_type": "code",
      "metadata": {
        "id": "7egs_kByfLiU",
        "colab": {
          "base_uri": "https://localhost:8080/"
        },
        "outputId": "2e015b40-ce7c-4ea5-d9cd-b2ac6fb8311f"
      },
      "source": [
        "# Exemplo: Contagem de questões corretas\n",
        "\n",
        "pontos = 0\n",
        "questão = 1\n",
        "\n",
        "while questão <= 3:\n",
        "  resposta = input(\"Resposta da questão %d: \" % questão)\n",
        "  if questão == 1 and resposta == \"b\":\n",
        "    pontos = pontos + 1\n",
        "  if questão == 2 and resposta == \"a\":\n",
        "    pontos = pontos + 1\n",
        "  if questão == 3 and resposta == \"d\":\n",
        "\t  pontos = pontos + 1\n",
        "  questão +=1\n",
        "\n",
        "  \n",
        "print (\"O aluno fez %d ponto(s)\" % pontos)"
      ],
      "execution_count": null,
      "outputs": [
        {
          "output_type": "stream",
          "name": "stdout",
          "text": [
            "Resposta da questão 1: d\n",
            "Resposta da questão 2: a\n",
            "Resposta da questão 3: d\n",
            "O aluno fez 2 ponto(s)\n"
          ]
        }
      ]
    },
    {
      "cell_type": "markdown",
      "metadata": {
        "id": "B643WyUzf3Zq"
      },
      "source": [
        "### Exercício\n",
        "\n",
        "8) Modifique o programa do exemplo anterior para que aceite respostas com letras maiúsculas e minúsculas em todas as questões.\n",
        "\n",
        "Dica: *questão == 1 and (resposta == \"b\" or resposta == \"B\")*\n",
        "\n",
        "<img src=\"https://encrypted-tbn0.gstatic.com/images?q=tbn%3AANd9GcSGI-XZv4fWwsZdQsmwL6OyQacZWHvWVVvGBtbhfpjLIw&usqp=CAU&ec=45673586\" alt=\"Drawing\" style=\"width: 900px\"/>\n"
      ]
    },
    {
      "cell_type": "code",
      "metadata": {
        "colab": {
          "base_uri": "https://localhost:8080/"
        },
        "id": "MTT_wvgE5vBO",
        "outputId": "c9ce8b70-54d3-4df0-9ca6-96bc7a4f48d3"
      },
      "source": [
        "# Exemplo: Contagem de questões corretas\n",
        "\n",
        "pontos = 0\n",
        "questão = 1\n",
        "\n",
        "while questão <= 3:\n",
        "  resposta = input(\"Resposta da questão %d: \" % questão)\n",
        "  if questão == 1 and (resposta==\"B\" or resposta==\"b\"):\n",
        "    pontos = pontos + 1\n",
        "  if questão == 2 and (resposta==\"A\" or resposta==\"a\"):\n",
        "    pontos = pontos + 1\n",
        "  if questão == 3 and (resposta==\"D\" or resposta==\"d\"):\n",
        "\t  pontos = pontos + 1\n",
        "  questão +=1\n",
        "\n",
        "  \n",
        "print (\"O aluno fez %d ponto(s)\" % pontos)"
      ],
      "execution_count": null,
      "outputs": [
        {
          "output_type": "stream",
          "name": "stdout",
          "text": [
            "Resposta da questão 1: B\n",
            "Resposta da questão 2: a\n",
            "Resposta da questão 3: D\n",
            "O aluno fez 3 ponto(s)\n"
          ]
        }
      ]
    },
    {
      "cell_type": "code",
      "metadata": {
        "colab": {
          "base_uri": "https://localhost:8080/"
        },
        "id": "t0est8wQ6f21",
        "outputId": "191ebda0-665a-410d-d43d-5ba2958e59ab"
      },
      "source": [
        "# Exemplo: Contagem de questões corretas\n",
        "\n",
        "pontos = 0\n",
        "questão = 0\n",
        "\n",
        "while questão <= 2:\n",
        "  questão +=1\n",
        "  resposta = input(\"Resposta da questão %d: \" % questão)\n",
        "  if questão == 1 and (resposta==\"B\" or resposta==\"b\"):\n",
        "    pontos = pontos + 1\n",
        "  if questão == 2 and (resposta==\"A\" or resposta==\"a\"):\n",
        "    pontos = pontos + 1\n",
        "  if questão == 3 and (resposta==\"D\" or resposta==\"d\"):\n",
        "\t  pontos = pontos + 1\n",
        "  \n",
        "\n",
        "  \n",
        "print (\"O aluno fez %d ponto(s)\" % pontos)"
      ],
      "execution_count": null,
      "outputs": [
        {
          "output_type": "stream",
          "name": "stdout",
          "text": [
            "Resposta da questão 1: B\n",
            "Resposta da questão 2: A\n",
            "Resposta da questão 3: D\n",
            "O aluno fez 3 ponto(s)\n"
          ]
        }
      ]
    },
    {
      "cell_type": "markdown",
      "metadata": {
        "id": "NNbDsPqbgQ4i"
      },
      "source": [
        "## Acumuladores\n",
        "\n",
        "Em programas para calcular o total de uma soma, por exemplo, precisaremos de acumuladores. \n",
        "\n",
        "A diferença entre um contador e um acumulador é que nos contadores o valor adicionado é constante e, nos acumuladores, variável.\n",
        "\n",
        "Vejamos um programa que calcule a soma de 10 números:\n"
      ]
    },
    {
      "cell_type": "code",
      "metadata": {
        "id": "wg5Req2FgM2n",
        "colab": {
          "base_uri": "https://localhost:8080/"
        },
        "outputId": "7827b434-9b57-4d72-b23e-329cc8c4552d"
      },
      "source": [
        "# Exemplo: Soma de 5 números\n",
        "\n",
        "n = 1 # contador\n",
        "soma = 0 # acumulador\n",
        "\n",
        "while n <= 5:\n",
        "  x = int(input(\"Digite o %d número:\"%n))\n",
        "  soma = soma + x\n",
        "  n = n + 1\n",
        "  print (\"Soma: %d\"%soma)"
      ],
      "execution_count": null,
      "outputs": [
        {
          "output_type": "stream",
          "name": "stdout",
          "text": [
            "Digite o 1 número:5\n",
            "Soma: 5\n",
            "Digite o 2 número:6\n",
            "Soma: 11\n",
            "Digite o 3 número:7\n",
            "Soma: 18\n",
            "Digite o 4 número:5\n",
            "Soma: 23\n",
            "Digite o 5 número:2\n",
            "Soma: 25\n"
          ]
        }
      ]
    },
    {
      "cell_type": "markdown",
      "metadata": {
        "id": "EzhuuhApOIRN"
      },
      "source": [
        "Podemos definir a média aritmética como a soma de vários números divididos\n",
        "pela quantidade de números somados. \n",
        "\n",
        "Assim, se somarmos três números, 4, 5 e 6, teríamos a média aritmética como (4+5+6) / 3, onde 3 é a quantidade de números. Se chamarmos o primeiro número de n1, o segundo de n2, e o terceiro de n3, teremos (n1 + n2 + n3) ∕ 3.\n",
        "\n",
        "Vejamos um programa que calcula a média de cinco números digitados pelo usuário, dada por:\n",
        "\n",
        "média = (n1 + n2 + n3 + n4 + n5) / 5"
      ]
    },
    {
      "cell_type": "code",
      "metadata": {
        "id": "ykeL8oLQgiRC",
        "colab": {
          "base_uri": "https://localhost:8080/"
        },
        "outputId": "4316e6c7-0097-4354-df4c-e34206f8c57d"
      },
      "source": [
        "# Exemplo: Cálculo de média com acumulador\n",
        "\n",
        "x = 1\n",
        "soma = 0\n",
        "\n",
        "while x <= 5:\n",
        "  n = int(input(\"%d Digite o número:\" % x))\n",
        "  soma = soma + n\n",
        "  x = x + 1\n",
        "  \n",
        "print(\"Média: %5.2f\" %(soma/5))"
      ],
      "execution_count": null,
      "outputs": [
        {
          "output_type": "stream",
          "name": "stdout",
          "text": [
            "1 Digite o número:5\n",
            "2 Digite o número:2\n",
            "3 Digite o número:1\n",
            "4 Digite o número:0\n",
            "5 Digite o número:2\n",
            "Média:  2.00\n"
          ]
        }
      ]
    },
    {
      "cell_type": "markdown",
      "metadata": {
        "id": "ZxjXOe5vO1gV"
      },
      "source": [
        "Acumuladores são muito interessantes quando não sabemos ou não conseguimos\n",
        "obter o total da soma pela simples multiplicação de dois números. No caso do\n",
        "cálculo da média, o valor de n pode ser diferente cada vez que o usuário digitar\n",
        "um valor."
      ]
    },
    {
      "cell_type": "markdown",
      "metadata": {
        "id": "D-G90435O4HA"
      },
      "source": [
        "### Exercícios"
      ]
    },
    {
      "cell_type": "markdown",
      "metadata": {
        "id": "Ug56LwmUdLEO"
      },
      "source": [
        "9) Escreva um programa que pergunte o depósito inicial e a taxa de juros de uma poupança. Exiba os valores mês a mês para os 24 primeiros meses. Escreva o total ganho com juros no período.\n"
      ]
    },
    {
      "cell_type": "markdown",
      "metadata": {
        "id": "670xnZgbdXS-"
      },
      "source": [
        "10) Altere o programa anterior de forma a perguntar também o valor depositado mensalmente. Esse valor será depositado no início de cada mês, e você deve considerá-lo para o cálculo de juros do mês seguinte."
      ]
    },
    {
      "cell_type": "code",
      "metadata": {
        "id": "hSIJIPlwPCc5",
        "colab": {
          "base_uri": "https://localhost:8080/"
        },
        "outputId": "15f1cc19-f751-445d-f512-513751c4ae2b"
      },
      "source": [
        "# Solução problema 9)\n",
        "\n",
        "depósito_inicial = float(input(\"Digite o valor inicial do depósito: \"))\n",
        "taxa = float(input(\"Digite o valor da taxa de juros da poupança (%): \"))\n",
        "\n",
        "mês = 1\n",
        "valor_juros_mês = 0\n",
        "valor_total = depósito_inicial\n",
        "\n",
        "while mês <=24:\n",
        "  valor_juros_mês = valor_total * taxa / 100\n",
        "  valor_total = valor_total + valor_juros_mês\n",
        "\n",
        "  print(f'Valor disponível na poupança no mês {mês}: {valor_total:.2f}')\n",
        "  mês += 1\n",
        "\n",
        "ganho = valor_total - depósito_inicial\n",
        "\n",
        "print(f'Valor total ganho: {ganho:.2f}')"
      ],
      "execution_count": null,
      "outputs": [
        {
          "output_type": "stream",
          "name": "stdout",
          "text": [
            "Digite o valor inicial do depósito: 1000\n",
            "Digite o valor da taxa de juros da poupança (%): .1\n",
            "Valor disponível na poupança no mês 1: 1001.00\n",
            "Valor disponível na poupança no mês 2: 1002.00\n",
            "Valor disponível na poupança no mês 3: 1003.00\n",
            "Valor disponível na poupança no mês 4: 1004.01\n",
            "Valor disponível na poupança no mês 5: 1005.01\n",
            "Valor disponível na poupança no mês 6: 1006.02\n",
            "Valor disponível na poupança no mês 7: 1007.02\n",
            "Valor disponível na poupança no mês 8: 1008.03\n",
            "Valor disponível na poupança no mês 9: 1009.04\n",
            "Valor disponível na poupança no mês 10: 1010.05\n",
            "Valor disponível na poupança no mês 11: 1011.06\n",
            "Valor disponível na poupança no mês 12: 1012.07\n",
            "Valor disponível na poupança no mês 13: 1013.08\n",
            "Valor disponível na poupança no mês 14: 1014.09\n",
            "Valor disponível na poupança no mês 15: 1015.11\n",
            "Valor disponível na poupança no mês 16: 1016.12\n",
            "Valor disponível na poupança no mês 17: 1017.14\n",
            "Valor disponível na poupança no mês 18: 1018.15\n",
            "Valor disponível na poupança no mês 19: 1019.17\n",
            "Valor disponível na poupança no mês 20: 1020.19\n",
            "Valor disponível na poupança no mês 21: 1021.21\n",
            "Valor disponível na poupança no mês 22: 1022.23\n",
            "Valor disponível na poupança no mês 23: 1023.25\n",
            "Valor disponível na poupança no mês 24: 1024.28\n",
            "Valor total ganho: 24.28\n"
          ]
        }
      ]
    },
    {
      "cell_type": "markdown",
      "metadata": {
        "id": "xb4OOejFPJht"
      },
      "source": [
        "### Desafio\n",
        "\n",
        "11) Escreva um programa que pergunte o valor inicial de uma dívida e\n",
        "o juro mensal. Pergunte também o valor mensal que será pago. Imprima o número\n",
        "de meses para que a dívida seja paga, o total pago e o total de juros pago.\n",
        "\n",
        "<img src=\"https://encrypted-tbn0.gstatic.com/images?q=tbn:ANd9GcT0nsUcReOSEwigD1Lhai5wzzbSl0tCYCPT9g&usqp=CAU\" alt=\"Drawing\" style=\"width: 900px\"/>"
      ]
    },
    {
      "cell_type": "markdown",
      "metadata": {
        "id": "bxGrFn1kgipA"
      },
      "source": [
        "---\n",
        "\n",
        "## Interrompendo a repetição\n",
        "\n",
        "Embora muito útil, a estrutura while só verifica sua condição de parada no início de cada repetição. Dependendo do problema, a habilidade de terminar while\n",
        "dentro do bloco a repetir pode ser interessante.\n",
        "\n",
        "A instrução **break** é utilizada para interromper a execução de while independentemente do valor atual de sua condição.\n",
        "\n",
        "Vejamos o exemplo da leitura de valores até que digitemos 0 (zero)."
      ]
    },
    {
      "cell_type": "code",
      "metadata": {
        "id": "t7Q7kobZGM9Q"
      },
      "source": [
        "# Interrompendo a repetição\n",
        "\n",
        "s = 0\n",
        "\n",
        "while True: \n",
        "  v = int(input(\"Digite qualquer número para sair: \"))\n",
        "  s = s+v\n",
        "  break\n",
        "print(s)"
      ],
      "execution_count": null,
      "outputs": []
    },
    {
      "cell_type": "code",
      "metadata": {
        "id": "Vvs39OW5glq6"
      },
      "source": [
        "# Interrompendo a repetição\n",
        "\n",
        "s = 0\n",
        "\n",
        "while True: \n",
        "  v = int(input(\"Digite um número a somar ou 0 para sair:\"))\n",
        "  if v==0:\n",
        "    break\n",
        "  s = s+v\n",
        "print(s)"
      ],
      "execution_count": null,
      "outputs": []
    },
    {
      "cell_type": "markdown",
      "metadata": {
        "id": "dG4qC50HhqGe"
      },
      "source": [
        "### Exercício"
      ]
    },
    {
      "cell_type": "markdown",
      "metadata": {
        "id": "uZ8W3dPbP10V"
      },
      "source": [
        "12) Escreva um programa para controlar uma pequena máquina registradora. Você deve solicitar ao usuário que digite o código do produto e a quantidade\n",
        "comprada. Utilize a tabela de códigos abaixo para obter o preço de cada produto:\n",
        "\n",
        "Código | Preço  \n",
        "1   ----------   0,50  \n",
        "2   ----------   1,00  \n",
        "3   ----------   4,00  \n",
        "5   ----------   7,00  \n",
        "9   ----------   8,00  \n",
        "\n",
        "Seu programa deve exibir o total das compras depois que o usuário digitar 0.\n",
        "Qualquer outro código deve gerar a mensagem de erro “Código inválido”.\n",
        "\n",
        "<img src=\"https://encrypted-tbn0.gstatic.com/images?q=tbn%3AANd9GcSGI-XZv4fWwsZdQsmwL6OyQacZWHvWVVvGBtbhfpjLIw&usqp=CAU&ec=45673586\" alt=\"Drawing\" style=\"width: 900px\"/>"
      ]
    },
    {
      "cell_type": "code",
      "metadata": {
        "id": "SbkCO-6Uglml"
      },
      "source": [
        ""
      ],
      "execution_count": null,
      "outputs": []
    },
    {
      "cell_type": "markdown",
      "metadata": {
        "id": "YRp6u1xIQTDB"
      },
      "source": [
        "Vejamos como exemplo um programa que leia um valor e que imprima a quantidade de cédulas necessárias para pagar esse mesmo valor, apresentado na listagem\n",
        "5.14. Para simplificar, vamos trabalhar apenas com valores inteiros e com cédulas de R\\$ 50, R\\$ 20, R\\$ 10, R\\$ 5 e R\\$ 1."
      ]
    },
    {
      "cell_type": "code",
      "metadata": {
        "id": "n9Coh75YQcxz"
      },
      "source": [
        "# Exemplo: Contagem de cédulas\n",
        "\n",
        "valor = int(input(\"Digite o valor a pagar:\"))\n",
        "\n",
        "cédulas = 0\n",
        "atual = 50\n",
        "apagar = valor\n",
        "\n",
        "while True:\n",
        "  if atual <= apagar:\n",
        "    apagar -= atual\n",
        "    cédulas+=1\n",
        "  else :\n",
        "    print (\"%d cédula(s) de R$%d\" % (cédulas, atual))\n",
        "    if apagar == 0:\n",
        "      break\n",
        "    if atual == 50:\n",
        "      atual = 20\n",
        "    elif atual == 20:\n",
        "      atual = 10\n",
        "    elif atual == 10:\n",
        "      atual = 5\n",
        "    elif atual == 5:\n",
        "      atual = 1\n",
        "    cédulas = 0"
      ],
      "execution_count": null,
      "outputs": []
    },
    {
      "cell_type": "markdown",
      "metadata": {
        "id": "rYvWjEiLQNdf"
      },
      "source": [
        "### Desafios\n",
        "\n",
        "13) Execute o programa anterior para os seguintes valores: 501, 745, 384, 2, 7 e 1.\n",
        "\n",
        "14) O que acontece se digitarmos 0 (zero) no valor a pagar?\n",
        "\n",
        "15) Modifique o programa para também trabalhar com notas de R$ 100. \n",
        "\n",
        "<img src=\"https://encrypted-tbn0.gstatic.com/images?q=tbn:ANd9GcT0nsUcReOSEwigD1Lhai5wzzbSl0tCYCPT9g&usqp=CAU\" alt=\"Drawing\" style=\"width: 900px\"/>"
      ]
    },
    {
      "cell_type": "code",
      "metadata": {
        "id": "0pyGHF8xgjUo"
      },
      "source": [
        ""
      ],
      "execution_count": null,
      "outputs": []
    },
    {
      "cell_type": "markdown",
      "metadata": {
        "id": "z2VUbhwvgmdh"
      },
      "source": [
        "## Repetições aninhadas\n",
        "\n",
        "Podemos combinar vários while de forma a obter resultados mais interessantes,\n",
        "como a repetição com incremento de duas variáveis.\n",
        "\n",
        "\n",
        "Imagine imprimir as tabuadas de multiplicação de 1 a 10:"
      ]
    },
    {
      "cell_type": "code",
      "metadata": {
        "id": "STAUaSpMgnb5"
      },
      "source": [
        "# Exemplo: Impressão de tabuadas\n",
        "\n",
        "tabuada=1\n",
        "\n",
        "while tabuada <= 10:\n",
        "  número = 1\n",
        "  while número <= 10:\n",
        "  \tprint (\"%d x %d = %d\" %(tabuada, número, tabuada * número))\n",
        "  \tnúmero += 1\n",
        "  tabuada += 1"
      ],
      "execution_count": null,
      "outputs": []
    },
    {
      "cell_type": "markdown",
      "metadata": {
        "id": "GxZrO6cPE7p9"
      },
      "source": [
        "Mesmo problema, mas sem utilizar repetições aninhadas:"
      ]
    },
    {
      "cell_type": "code",
      "metadata": {
        "id": "Mm-TUs8hEKFv"
      },
      "source": [
        "# Exemplo: Impressão de tabuadas sem repetições aninhadas\n",
        "\n",
        "tabuada = 1\n",
        "número = 1\n",
        "while tabuada <= 10:\n",
        "  print(\"%d x %d = %d\" %(tabuada, número, tabuada * número))\n",
        "  número += 1\n",
        "  if número == 11:\n",
        "    número = 1\n",
        "    tabuada += 1"
      ],
      "execution_count": null,
      "outputs": []
    },
    {
      "cell_type": "markdown",
      "metadata": {
        "id": "HsZJWW5MJTi9"
      },
      "source": [
        "### Desafios\n",
        "\n",
        "16) Escreva um programa que leia um número e verifique se é ou não\n",
        "um número primo. Para fazer essa verificação, calcule o resto da divisão do número por 2 e depois por todos os números ímpares até o número lido. Se o resto de uma dessas divisões for igual a zero, o número não é primo. Observe que 0 e 1 não são primos e que 2 é o único número primo que é par.\n",
        "\n",
        "\n",
        "17) Escreva um programa que calcule o resto da divisão inteira entre dois\n",
        "números. Utilize apenas as operações de soma e subtração para calcular o resultado.\n",
        "\n",
        "<img src=\"https://encrypted-tbn0.gstatic.com/images?q=tbn:ANd9GcT0nsUcReOSEwigD1Lhai5wzzbSl0tCYCPT9g&usqp=CAU\" alt=\"Drawing\" style=\"width: 900px\"/>\n"
      ]
    },
    {
      "cell_type": "code",
      "metadata": {
        "id": "_387ewvwFCo2"
      },
      "source": [
        "# Media aritmetica de inteiros \n",
        "\n",
        "x=0 \n",
        "cont = 0 \n",
        "soma = 0 \n",
        "\n",
        "while(x != 'end' or x != 'END'): \n",
        "  cont += 1 \n",
        "  n = input(f'Digite o número {cont}: ') \n",
        "  if(n != 'end' and n != 'END'): \n",
        "    soma += int(n) \n",
        "  else: \n",
        "    break \n",
        "if((cont-1) > 0):\n",
        "  media = soma / (cont-1) \n",
        "  print(f'A media é {media}') \n",
        "else: # para não ter divisão por zero \n",
        "  media = 0 \n",
        "  print(f'Nenhum número foi digitado.')"
      ],
      "execution_count": null,
      "outputs": []
    },
    {
      "cell_type": "markdown",
      "metadata": {
        "id": "IeJivG6wcwYU"
      },
      "source": [
        "# Estrutura de repetição for\n",
        "\n",
        "A linguagem Python apresenta uma estrutura de repetição especialmente projetada para percorrer listas. \n",
        "\n",
        "A instrução for funciona de forma parecida a while, mas a cada repetição utiliza um elemento diferente da lista.\n",
        "\n",
        "A cada repetição, o próximo elemento da lista é utilizado, o que se repete até o fim da lista. Vamos escrever um programa que utilize for para imprimir todos os elementos de uma lista:"
      ]
    },
    {
      "cell_type": "code",
      "metadata": {
        "id": "xLiTV5b-9CMM"
      },
      "source": [
        "L = [5, 8, 9, 15]\n",
        "\n",
        "for i in L:\n",
        "  print(i)"
      ],
      "execution_count": null,
      "outputs": []
    },
    {
      "cell_type": "code",
      "metadata": {
        "id": "KJ6JFPv3gbXU"
      },
      "source": [
        "preços = [4.30, 3.21, 3.55, 6.43, 3.40]\n",
        "\n",
        "for i in preços:\n",
        "  print(i)"
      ],
      "execution_count": null,
      "outputs": []
    },
    {
      "cell_type": "code",
      "metadata": {
        "id": "UfQ4absBf7XN"
      },
      "source": [
        "preços = [4.30, 3.21, 3.55, 6.43, 3.40]\n",
        "\n",
        "for preço in preços:\n",
        "  print(preço)"
      ],
      "execution_count": null,
      "outputs": []
    },
    {
      "cell_type": "markdown",
      "metadata": {
        "id": "fNwtXM0zgjK-"
      },
      "source": [
        "se tivéssemos que fazer a mesma tarefa com while, teríamos que escrever um programa como:\n",
        "\n",
        "\n"
      ]
    },
    {
      "cell_type": "code",
      "metadata": {
        "id": "cwQmOveqfJKV"
      },
      "source": [
        ""
      ],
      "execution_count": null,
      "outputs": []
    },
    {
      "cell_type": "markdown",
      "metadata": {
        "id": "QDCSdyL1gryy"
      },
      "source": [
        "Embora a instrução for facilite nosso trabalho, ela não substitui completamente while. Dependendo do problema, utilizaremos for ou while. \n",
        "\n",
        "* Normalmente utilizaremos for quando quisermos processar os elementos de uma lista, um a um.\n",
        "\n",
        "* while é indicado para repetições nas quais não sabemos ainda quantas vezes vamos repetir ou onde manipulamos os índices de forma não sequencial.\n",
        "\n",
        "A instrução **break** também interrompe o for. Vejamos a pesquisa,\n",
        "escrita usando for:"
      ]
    },
    {
      "cell_type": "code",
      "metadata": {
        "id": "wuaevKaPgpeV"
      },
      "source": [
        "# Pesquisa usando for\n",
        "\n",
        "L = [7, 9, 10, 12]\n",
        "\n",
        "p = int(input(\"Digite um número a pesquisar:\"))\n",
        "\n",
        "for e in L:\n",
        "  if e == p:\n",
        "\t  print(\"Elemento encontrado!\")\n",
        "\t  break\n",
        "else:\n",
        "  print(\"Elemento não encontrado.\")"
      ],
      "execution_count": null,
      "outputs": []
    },
    {
      "cell_type": "markdown",
      "metadata": {
        "id": "QbEq_DtKjQhc"
      },
      "source": [
        "O else deve ser escrito na mesma coluna de for e só será executado se todos os elementos da lista forem visitados, ou seja, se não utilizarmos a instrução break, deixando for terminar normalmente."
      ]
    },
    {
      "cell_type": "markdown",
      "metadata": {
        "id": "WPqADZG0jiv8"
      },
      "source": [
        "### Exercício\n",
        "\n",
        "Vejamos um exemplo onde um aluno tem cinco notas e no qual desejamos calcular sua média aritmética. Resolva utilizando a estrutura for.\n",
        "\n",
        "notas = [6,7,5,8,9]"
      ]
    },
    {
      "cell_type": "code",
      "metadata": {
        "id": "Xe2eTl0TgpKJ"
      },
      "source": [
        "# Versão com for\n",
        "\n",
        "L = [5, 8, 9, 15]\n",
        "\n",
        "for item in L:\n",
        "  print(item)"
      ],
      "execution_count": null,
      "outputs": []
    },
    {
      "cell_type": "markdown",
      "metadata": {
        "id": "xHeF6ei9qBCY"
      },
      "source": [
        "### Range\n",
        "\n",
        "Podemos utilizar a função range para gerar listas simples. A função range não retorna uma lista propriamente dita, mas um gerador ou generator. \n",
        "\n",
        "Por enquanto, basta entender como podemos usá-la. Imagine um programa simples que imprime de 0 a 9 na tela:"
      ]
    },
    {
      "cell_type": "code",
      "metadata": {
        "id": "5Uo5dpJp2kOz"
      },
      "source": [
        "# Criando uma lista\n",
        "\n",
        "L = [0, 1, 2, 3, 4, 5, 6, 7, 8, 9]\n",
        "\n",
        "for item in L:\n",
        "  print(item)"
      ],
      "execution_count": null,
      "outputs": []
    },
    {
      "cell_type": "code",
      "metadata": {
        "id": "XhEWp03p3Fcr"
      },
      "source": [
        "a = range(10)\n",
        "type(a)"
      ],
      "execution_count": null,
      "outputs": []
    },
    {
      "cell_type": "code",
      "metadata": {
        "id": "CLLld8nI20Tq"
      },
      "source": [
        "a = list(range(10))\n",
        "print(a)"
      ],
      "execution_count": null,
      "outputs": []
    },
    {
      "cell_type": "code",
      "metadata": {
        "id": "PHTCWIpjqNYQ"
      },
      "source": [
        "# Uso da função range\n",
        "\n",
        "for v in range(10):\n",
        "  print(v)"
      ],
      "execution_count": null,
      "outputs": []
    },
    {
      "cell_type": "markdown",
      "metadata": {
        "id": "O-XdpkyUqX7m"
      },
      "source": [
        "A vantagem de utilizarmos a função range é gerar listas eficientemente."
      ]
    },
    {
      "cell_type": "code",
      "metadata": {
        "id": "nm4_lFb7qajd"
      },
      "source": [
        "# Uso da função range com intervalos\n",
        "\n",
        "for v in range(5, 8):\n",
        "  print(v)"
      ],
      "execution_count": null,
      "outputs": []
    },
    {
      "cell_type": "code",
      "metadata": {
        "id": "vKx1KxDZqg0_"
      },
      "source": [
        "# Uso da função range com saltos\n",
        "for t in range(3, 33, 3):\n",
        "  print(t, end=\" \")"
      ],
      "execution_count": null,
      "outputs": []
    },
    {
      "cell_type": "code",
      "metadata": {
        "id": "BW3dcNiHqrOs"
      },
      "source": [
        "# Transformação do resultado de range em uma lista\n",
        "\n",
        "L = list(range(100,1100,50))\n",
        "print(L)"
      ],
      "execution_count": null,
      "outputs": []
    },
    {
      "cell_type": "markdown",
      "metadata": {
        "id": "lA6n5W5pradj"
      },
      "source": [
        "### Enumerate\n",
        "\n",
        "Com a função enumerate podemos ampliar as funcionalidades de for facilmente.\n",
        "\n",
        "Vejamos como imprimir uma lista, onde teremos o índice entre colchetes e o valor\n",
        "à sua direita:\n"
      ]
    },
    {
      "cell_type": "code",
      "metadata": {
        "id": "pBY5m_hGrqrW"
      },
      "source": [
        "# Impressão de índices sem usar a função enumerate\n",
        "L = [5,9,13, 15, 22]\n",
        "\n",
        "x = 0\n",
        "\n",
        "for e in L:\n",
        "  print(\"[%d] %d\" % (x,e))\n",
        "  x+=1"
      ],
      "execution_count": null,
      "outputs": []
    },
    {
      "cell_type": "code",
      "metadata": {
        "id": "_OE-De54rxoX"
      },
      "source": [
        "# Impressão de índices usando a função enumerate\n",
        "\n",
        "L = [5,9,13]\n",
        "\n",
        "for x, e in enumerate(L):\n",
        "  print(\"[%d] %d\" %(x,e))"
      ],
      "execution_count": null,
      "outputs": []
    },
    {
      "cell_type": "markdown",
      "metadata": {
        "id": "mSruid-Vr6jw"
      },
      "source": [
        "A função enumerate gera uma tupla em que o primeiro valor é o índice e o segundo\n",
        "é o elemento da lista sendo enumerada."
      ]
    },
    {
      "cell_type": "markdown",
      "metadata": {
        "id": "f_AWGp9aYLiy"
      },
      "source": [
        ""
      ]
    },
    {
      "cell_type": "code",
      "metadata": {
        "id": "qJzvIkBZSO5d"
      },
      "source": [
        ""
      ],
      "execution_count": null,
      "outputs": []
    }
  ]
}