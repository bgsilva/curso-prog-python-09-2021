{
  "nbformat": 4,
  "nbformat_minor": 0,
  "metadata": {
    "colab": {
      "name": "Curso_IntroProgPy_BrunoSilva_2021_Aula7.ipynb",
      "provenance": [],
      "collapsed_sections": [],
      "toc_visible": true,
      "authorship_tag": "ABX9TyNIsqtWBAGuiLx2v/+YAP5n",
      "include_colab_link": true
    },
    "kernelspec": {
      "name": "python3",
      "display_name": "Python 3"
    },
    "language_info": {
      "name": "python"
    }
  },
  "cells": [
    {
      "cell_type": "markdown",
      "metadata": {
        "id": "view-in-github",
        "colab_type": "text"
      },
      "source": [
        "<a href=\"https://colab.research.google.com/github/bgsilva/curso-prog-python-09-2021/blob/main/Curso_IntroProgPy_BrunoSilva_2021_Aula7.ipynb\" target=\"_parent\"><img src=\"https://colab.research.google.com/assets/colab-badge.svg\" alt=\"Open In Colab\"/></a>"
      ]
    },
    {
      "cell_type": "markdown",
      "metadata": {
        "id": "daGqhVFSIhj7"
      },
      "source": [
        "# Introdução à Programação em Python\n",
        "## Prof. Bruno Silva\n",
        "\n",
        "---\n",
        "\n",
        "## Aula 7\n",
        "\n",
        "* Módulos\n",
        "* Pacotes\n",
        "* Tratamento de erros com estruturas de exceções (try, except)\n",
        "* Controle de fluxo\n",
        "\n",
        "### 15/09/2021"
      ]
    },
    {
      "cell_type": "markdown",
      "metadata": {
        "id": "1FyCaswwnSm5"
      },
      "source": [
        "# Módulos\n",
        " "
      ]
    },
    {
      "cell_type": "markdown",
      "metadata": {
        "id": "78EJeP-VogJ2"
      },
      "source": [
        "### Diferenças entra script, módulo, pacote e biblioteca\n",
        "\n",
        "* **Script**: arquivo (ou bloco de código) Python executável que faz algo quando executado\n",
        "\n",
        "* **Módulo**: arquivos Python destinados a serem importados em scripts e outros módulos\n",
        "\n",
        "* **Pacote**: coleção de módulos relacionados que visam atingir um objetivo comum (ex: numpy, matplotlib, pandas, ...)\n",
        "\n",
        "* **Biblioteca**: termo genérico para um grupo de código que foi projetado com o objetivo de ser utilizável em muitas aplicações. Quando um módulo ou pacote é 'publicado', é comumente referido como uma biblioteca.\n",
        "\n",
        "* **Biblioteca padrão do Python**: conjunto de pacotes e módulos que acompanham uma instalação padrão de Python, e são considerados como \"parte da linguagem\" - exemplos: *math*, *random*, csv. Não é necessário instalar nada além do Python para ter as funcionalidades da biblioteca padrão, que podem ser importadas sempre que necessário.\n",
        "\n",
        "\n",
        "\n",
        "Ver mais: \n",
        "\n",
        "[Qual é a Diferença Entre Módulo e Pacote em Python?](https://vaiprogramar.com/qual-a-diferenca-modulo-pacote-python/)\n",
        "\n",
        "[A Biblioteca Padrão do Python](https://docs.python.org/pt-br/3/library/)\n",
        "\n",
        "[Scripts, Modules, Packages, and Libraries](https://realpython.com/lessons/scripts-modules-packages-and-libraries/)\n",
        "\n",
        "\n"
      ]
    },
    {
      "cell_type": "markdown",
      "metadata": {
        "id": "IkBYUHvT5kFF"
      },
      "source": [
        " ## Módulos básicos\n",
        "\n",
        "\n",
        "Depois de criarmos várias funções, os programas ficaram muito grandes. Precisamos armazenar nossas funções em outros arquivos e, de alguma forma usá-las, sem precisar reescrevê-las, ou pior, copiar e colar.\n",
        "\n",
        "Python resolve o problema com módulos. Todo arquivo **.py** é um módulo, podendo\n",
        "ser importado com o comando **import**."
      ]
    },
    {
      "cell_type": "markdown",
      "metadata": {
        "id": "BsvGlPIEzPxs"
      },
      "source": [
        "Podemos fazer o upload de um arquivo do nosso computador (mostrado em aula)"
      ]
    },
    {
      "cell_type": "code",
      "metadata": {
        "id": "UOJ3IL56zCJo"
      },
      "source": [
        "import calculadora"
      ],
      "execution_count": null,
      "outputs": []
    },
    {
      "cell_type": "code",
      "metadata": {
        "id": "-nfn6dvAzF3E"
      },
      "source": [
        "print(calculadora.soma(2, 2))"
      ],
      "execution_count": null,
      "outputs": []
    },
    {
      "cell_type": "markdown",
      "metadata": {
        "id": "1M1egPiRnkGv"
      },
      "source": [
        "#### Exemplo: Conteúdo do arquivo calculadora.py\n",
        "\n",
        "\n",
        "```\n",
        "def soma(a,b):\n",
        "  return a+b\n",
        "\n",
        "def subtracao(a,b):\n",
        "  return a-b\n",
        "\n",
        "def multiplicacao(a,b):\n",
        "  return a*b\n",
        "\n",
        "def divisao(a,b):\n",
        "  return a/b\n",
        "```\n",
        "\n"
      ]
    },
    {
      "cell_type": "markdown",
      "metadata": {
        "id": "FsG_FbaSlgaJ"
      },
      "source": [
        "Podemos criar o módulo simplesmente colando o código acima em um bloco de notas e salvando o arquivo com a extensão **.py**.\n",
        "\n",
        "Aqui no Google Colab podemos um módulo através do menu ao lado esquerdo da tela na aba *Arquivos* (mesmo menu da aba *Índice*). Uma vez em *Arquivos*, podemos clicar com o botão direito do mouse na área em branco e clicar em *Novo Arquivo*. Daí nomeamos o arquivo com o nome desejado e adicionamos a extensão **.py**. Após isso, damos um clique duplo e o arquivo em branco abrirá no lado direito da tela. Precisamos apenas escrever ou colocar o nosso código lá e salvar com crtl + s.\n",
        "\n",
        "Finanalmente, para acessar as funções do módulo criado, usaremos o comando **import** seguido do nome do módulo sem a extensão **.py**."
      ]
    },
    {
      "cell_type": "code",
      "metadata": {
        "id": "It1yG4YW0FMq"
      },
      "source": [
        "# Exemplo: Conteúdo do arquivo calculadora.py\n",
        "\n",
        "import calculadora"
      ],
      "execution_count": null,
      "outputs": []
    },
    {
      "cell_type": "code",
      "metadata": {
        "id": "cmvH7EAMzthB"
      },
      "source": [
        "print(calculadora.soma(10, 2))"
      ],
      "execution_count": null,
      "outputs": []
    },
    {
      "cell_type": "code",
      "metadata": {
        "id": "YHArs7na4dZi"
      },
      "source": [
        "print(calculadora.multiplicacao(3, 2))"
      ],
      "execution_count": null,
      "outputs": []
    },
    {
      "cell_type": "markdown",
      "metadata": {
        "id": "pTPCoD5wxKhm"
      },
      "source": [
        "Podomos criar um módulo de outra maneira.\n",
        "\n",
        "Vamos criar um módulo que realiza as 4 operações matemáticas básicas:"
      ]
    },
    {
      "cell_type": "code",
      "metadata": {
        "id": "vQPzwOO9xAOJ"
      },
      "source": [
        "%%writefile calculadora_simples.py\n",
        "\n",
        "# Exemplo: Conteúdo do arquivo calculadora.py criado direto pelo colab\n",
        "\n",
        "def soma(a,b):\n",
        "  return a+b\n",
        "\n",
        "def subtracao(a,b):\n",
        "  return a-b\n",
        "\n",
        "def multiplicacao(a,b):\n",
        "  return a*b\n",
        "\n",
        "def divisao(a,b):\n",
        "  return a/b\n",
        "\n",
        "def exp(a,b):\n",
        "  return a ** b"
      ],
      "execution_count": null,
      "outputs": []
    },
    {
      "cell_type": "markdown",
      "metadata": {
        "id": "vz2nhk0DzQmy"
      },
      "source": [
        "A linha `%%writefile calculadora_simples.py` corresponde a um comando especial que cria um arquivo com um nome especificado, no nosso caso, 'calculadora_simples.py'."
      ]
    },
    {
      "cell_type": "code",
      "metadata": {
        "id": "qi3RgxEH1JvK"
      },
      "source": [
        "import calculadora_simples\n",
        "\n",
        "calculadora_simples.exp(2, 5)"
      ],
      "execution_count": null,
      "outputs": []
    },
    {
      "cell_type": "code",
      "metadata": {
        "id": "H_O1mpe6WMNj"
      },
      "source": [
        "import calculadora_simples \n",
        "\n",
        "calculadora_simples.soma(2, 3)"
      ],
      "execution_count": null,
      "outputs": []
    },
    {
      "cell_type": "markdown",
      "metadata": {
        "id": "yuBHrcGl0HvG"
      },
      "source": [
        "Podemos chamar o módulo por um apelido:"
      ]
    },
    {
      "cell_type": "code",
      "metadata": {
        "id": "F-3TwS520OPo"
      },
      "source": [
        "import calculadora_simples as calc\n",
        "\n",
        "print(calc.soma(10, 2))"
      ],
      "execution_count": null,
      "outputs": []
    },
    {
      "cell_type": "markdown",
      "metadata": {
        "id": "u9oDJVrw0QDr"
      },
      "source": [
        "Sempre que possível, crie um apelido com um nome sugestivo"
      ]
    },
    {
      "cell_type": "markdown",
      "metadata": {
        "id": "ydOq4HGZ1ew7"
      },
      "source": [
        "Para importar a função *soma* de forma a poder chamá-la sem o prefixo do módulo, substitua o *import* no exemplo anterior por: \n",
        "\n",
        "`from calculadora_simples import soma`"
      ]
    },
    {
      "cell_type": "code",
      "metadata": {
        "id": "cLXRoPY23phb"
      },
      "source": [
        "from calculadora_simples import soma\n",
        "\n",
        "print(soma(10, 2))"
      ],
      "execution_count": null,
      "outputs": []
    },
    {
      "cell_type": "code",
      "metadata": {
        "id": "cbyqdLHO4Zek"
      },
      "source": [
        "from calculadora_simples import subtracao\n",
        "\n",
        "print(subtracao(10, 2))"
      ],
      "execution_count": null,
      "outputs": []
    },
    {
      "cell_type": "code",
      "metadata": {
        "id": "eswVdwbr2shi"
      },
      "source": [
        "from calculadora_simples import multiplicacao, divisao\n",
        "\n",
        "print(multiplicacao(10, 2))\n",
        "print(divisao(10, 2))"
      ],
      "execution_count": null,
      "outputs": []
    },
    {
      "cell_type": "markdown",
      "metadata": {
        "id": "5o9eBGq432xq"
      },
      "source": [
        "Você deve utilizar esse recurso com atenção, pois informar o nome do módulo antes da função é muito útil quando os programas crescem, servindo de dica para que se saiba que módulo define tal função, facilitando sua localização e evitando o que se chama de conflito de nomes.\n",
        "\n",
        "---\n",
        "\n",
        "Outra construção que deve ser utilizada com cuidado é:\n",
        "\n",
        "`from calculadora_simples import *`"
      ]
    },
    {
      "cell_type": "code",
      "metadata": {
        "id": "z74xx7zI4XzX"
      },
      "source": [
        "from calculadora_simples import *\n",
        "\n",
        "print(soma(10,2))"
      ],
      "execution_count": null,
      "outputs": []
    },
    {
      "cell_type": "code",
      "metadata": {
        "id": "zdx98pVt4ubx"
      },
      "source": [
        "from calculadora_simples import *\n",
        "\n",
        "print(subtracao(10, 2))"
      ],
      "execution_count": null,
      "outputs": []
    },
    {
      "cell_type": "code",
      "metadata": {
        "id": "piwLNL18Xpfn"
      },
      "source": [
        "from calculadora_simples import *\n",
        "\n",
        "print(multiplicacao(10, 2))"
      ],
      "execution_count": null,
      "outputs": []
    },
    {
      "cell_type": "markdown",
      "metadata": {
        "id": "yCmvw5j147SN"
      },
      "source": [
        "Nesse caso, estaríamos importando todas as definições do módulo *calculadora*, e não apenas a função *soma*.\n",
        "\n",
        "Essa construção é perigosa, porque se dois módulos definirem funções com o mesmo nome, a função utilizada no programa será a do último *import*."
      ]
    },
    {
      "cell_type": "markdown",
      "metadata": {
        "id": "_oDjOrj8NhJ4"
      },
      "source": [
        "## Biblioteca padrão do Python\n",
        "\n",
        "A [biblioteca padrão do Python](https://docs.python.org/pt-br/3/library/) corresponde a conjunto de pacotes e módulos que acompanham uma instalação padrão de Python, e são considerados como \"parte da linguagem\" - exemplos: math, random, csv, os, time ... \n",
        "\n",
        "Não é necessário instalar nada além do Python para ter as funcionalidades da biblioteca padrão, que podem ser importadas sempre que necessário.\n",
        "\n",
        "A seguir serão apresentadas mais alguns desses módulos."
      ]
    },
    {
      "cell_type": "markdown",
      "metadata": {
        "id": "QNPyDEeT6gQC"
      },
      "source": [
        "### math (funções matemáticas)"
      ]
    },
    {
      "cell_type": "code",
      "metadata": {
        "id": "MaP5DpVx6frf"
      },
      "source": [
        "import math"
      ],
      "execution_count": null,
      "outputs": []
    },
    {
      "cell_type": "code",
      "metadata": {
        "id": "rVGRV-6-6o1l"
      },
      "source": [
        "log = math.log10(100)\n",
        "print(log)"
      ],
      "execution_count": null,
      "outputs": []
    },
    {
      "cell_type": "code",
      "metadata": {
        "id": "zEnUNNV06oqr"
      },
      "source": [
        "ang_graus = 0\n",
        "\n",
        "ang_rad = math.radians(ang_graus)\n",
        "\n",
        "cos = math.cos(ang_rad)\n",
        "print(cos)"
      ],
      "execution_count": null,
      "outputs": []
    },
    {
      "cell_type": "markdown",
      "metadata": {
        "id": "VjP7XCjH5sUT"
      },
      "source": [
        "### Random (números aleatórios)\n",
        "\n",
        "Uma forma de gerar valores para testar funções e popular listas é utilizar números aleatórios. \n",
        "\n",
        "Um número aleatório pode ser entendido como um número tirado ao acaso, sem qualquer ordem ou sequência predeterminada, como em um sorteio.\n",
        "\n",
        "Em Python, para gerar números aleatórios utilizamos o módulo random.\n",
        "\n",
        "O módulo traz várias funções para geração de números aleatórios e mesmo números gerados com distribuições não uniformes.\n",
        "\n",
        "<img src=\"https://cafeinacodificada.com.br/wp-content/uploads/2016/05/cube-689619_640.jpg\n",
        "\" alt=\"Drawing\" style=\"width: 400px\"/>\n",
        "\n",
        "Vejamos a função **randint**, que recebe dois parâmetros, sendo o primeiro o início da faixa de valores a considerar para geração; e o segundo, o fim dessa faixa. \n",
        "\n",
        "Tanto o início quanto o fim são incluídos na faixa."
      ]
    },
    {
      "cell_type": "code",
      "metadata": {
        "id": "O33CtYk48XzI"
      },
      "source": [
        "# Exemplo: Gerando números aleatórios\n",
        "\n",
        "import random\n",
        "\n",
        "for x in range(10):\n",
        "  print(random.randint(1,100))"
      ],
      "execution_count": null,
      "outputs": []
    },
    {
      "cell_type": "code",
      "metadata": {
        "id": "unpdltoI79K2"
      },
      "source": [
        "# Exemplo: Adivinhando o número\n",
        "\n",
        "import random\n",
        "\n",
        "n = random.randint(1,10)\n",
        "x = int(input(\"Escolha um número entre 1 e 10:\"))\n",
        "\n",
        "if x == n:\n",
        "  print(\"Você acertou!\")\n",
        "else:\n",
        "  print(\"Você errou.\")"
      ],
      "execution_count": null,
      "outputs": []
    },
    {
      "cell_type": "markdown",
      "metadata": {
        "id": "09il6gMQ8ulY"
      },
      "source": [
        "Esse tipo de aleatoriedade é utilizado em vários jogos e torna a experiência única, fazendo com que o mesmo programa possa ser utilizado várias vezes com resultados diferentes"
      ]
    },
    {
      "cell_type": "markdown",
      "metadata": {
        "id": "g9lQ-K-7514y"
      },
      "source": [
        "#### Exercício\n",
        "\n",
        "1) Altere o programa do exemplo anterior de forma que o usuário tenha três chances de acertar o número. O programa termina se o usuário acertar ou errar três vezes.\n",
        "\n",
        "<img src=\"https://encrypted-tbn0.gstatic.com/images?q=tbn%3AANd9GcSGI-XZv4fWwsZdQsmwL6OyQacZWHvWVVvGBtbhfpjLIw&usqp=CAU&ec=45673586\" alt=\"Drawing\" style=\"width: 900px\"/>"
      ]
    },
    {
      "cell_type": "code",
      "metadata": {
        "id": "2k_asPxH9HV7"
      },
      "source": [
        "# Solução Luiz\n",
        "\n",
        "import random\n",
        "\n",
        "n = random.randint(1,10)\n",
        "x = 1\n",
        "\n",
        "while x <= 3:\n",
        "  num = int(input(\"Escolha um número entre 1 e 10:\"))\n",
        "\n",
        "  if num == n:\n",
        "    print(\"Você acertou!\")\n",
        "    break\n",
        "  else:\n",
        "    print(f\"Você errou. {x} vez(es)\")\n",
        "  x += 1"
      ],
      "execution_count": null,
      "outputs": []
    },
    {
      "cell_type": "markdown",
      "metadata": {
        "id": "EtAvVbXZ89NA"
      },
      "source": [
        "---\n",
        "\n",
        "Podemos também gerar números aleatórios fracionários ou de ponto flutuante com a função **random**. \n",
        "\n",
        "A função random não recebe parâmetros e retorna valores entre 0 e 1."
      ]
    },
    {
      "cell_type": "code",
      "metadata": {
        "id": "XDKQJZnI-qiO"
      },
      "source": [
        "# Exemplo: Números aleatórios entre 0 e 1 com random\n",
        "\n",
        "import random\n",
        "\n",
        "for x in range(10):\n",
        "  print(random.random())"
      ],
      "execution_count": null,
      "outputs": []
    },
    {
      "cell_type": "markdown",
      "metadata": {
        "id": "W6E-ojXO-vmx"
      },
      "source": [
        "Para obter valores fracionários dentro de uma determinada faixa, podemos usar a função uniform:"
      ]
    },
    {
      "cell_type": "code",
      "metadata": {
        "id": "DLsdhkPh-zdK"
      },
      "source": [
        "# Exemplo: Números aleatórios de ponto flutuante com uniform\n",
        "\n",
        "import random\n",
        "for x in range(10):\n",
        "  print(random.uniform(15,25))"
      ],
      "execution_count": null,
      "outputs": []
    },
    {
      "cell_type": "markdown",
      "metadata": {
        "id": "BKSFdaUu-9pC"
      },
      "source": [
        "Podemos utilizar a função **sample** para escolher aleatoriamente elementos de uma lista. \n",
        "\n",
        "Essa função recebe a lista e a quantidade de amostras (samples) ou elementos que queremos retornar:"
      ]
    },
    {
      "cell_type": "code",
      "metadata": {
        "id": "YkMXxYbp-81E"
      },
      "source": [
        "# Exemplo: Seleção de amostras de uma lista aleatoriamente\n",
        "\n",
        "import random\n",
        "\n",
        "print(random.sample(range(1,101), 6))"
      ],
      "execution_count": null,
      "outputs": []
    },
    {
      "cell_type": "markdown",
      "metadata": {
        "id": "TTQnqZ16_KNI"
      },
      "source": [
        "Se quisermos embaralhar os elementos de uma lista, podemos utilizar a função **shuffle**. \n",
        "\n",
        "Ela recebe a lista a embaralhar, alterando-a:"
      ]
    },
    {
      "cell_type": "code",
      "metadata": {
        "id": "jbK0TbGt_fcA"
      },
      "source": [
        "# Ação de embaralhar elementos de uma lista\n",
        "\n",
        "import random\n",
        "\n",
        "a = list(range(1,11))\n",
        "\n",
        "random.shuffle(a)\n",
        "print(a)"
      ],
      "execution_count": null,
      "outputs": []
    },
    {
      "cell_type": "code",
      "metadata": {
        "id": "Rr0KxvUO-_ae"
      },
      "source": [
        "random.choice(['win', 'lose', 'draw'])"
      ],
      "execution_count": null,
      "outputs": []
    },
    {
      "cell_type": "markdown",
      "metadata": {
        "id": "IoJzKsYVn5Dd"
      },
      "source": [
        "### Datetime\n",
        "\n",
        "\n",
        "Ver mais: \n",
        "\n",
        "[Como Trabalhar com Data e Hora em Python Usando datetime](https://vaiprogramar.com/como-trabalhar-com-data-hora-python-datetime/)\n",
        "\n",
        "[Python datetime: Lidando com datas e horários](https://www.alura.com.br/artigos/lidando-com-datas-e-horarios-no-python)\n",
        "\n"
      ]
    },
    {
      "cell_type": "markdown",
      "metadata": {
        "id": "DwpKOKEAnpwg"
      },
      "source": [
        "# Pacotes / bibliotecas\n",
        "\n",
        "Um pacote corresponde a uma coleção de módulos relacionados que visam atingir um objetivo comum."
      ]
    },
    {
      "cell_type": "markdown",
      "metadata": {
        "id": "tF_nvhAvQ9rm"
      },
      "source": [
        "## Instalando pacotes em Python\n",
        "\n",
        "### pip \n",
        "\n",
        "O 'pip' é um instalador de pacotes para Python.\n",
        "\n",
        "Para importar uma biblioteca que não está no Google Colab por padrão, podemos usar os comandos: `!pip install` ou `!apt-get install`.\n",
        "\n",
        "\n",
        "Ver mais:  \n",
        "\n",
        "[Importing a library that is not in Colaboratory](https://colab.research.google.com/notebooks/snippets/importing_libraries.ipynb#scrollTo=kDn_lVxg3Z2G)\n",
        "\n",
        "[Instalando o Python 3 e pip no Windows](https://python.org.br/instalacao-windows/)\n",
        "\n",
        "\n",
        "---\n",
        "\n",
        "\n",
        "A seguir vemos um exemplo de instalação do [cartopy](https://scitools.org.uk/cartopy/docs/latest/matplotlib/intro.html) (cartopy é um pacote Python projetado para processamento de dados geoespaciais a fim de produzir mapas e outras análises de dados geoespaciais)"
      ]
    },
    {
      "cell_type": "code",
      "metadata": {
        "id": "hT_jZoirS7AP"
      },
      "source": [
        "!pip install cartopy"
      ],
      "execution_count": null,
      "outputs": []
    },
    {
      "cell_type": "code",
      "metadata": {
        "id": "HZODE4M9T2bU"
      },
      "source": [
        "import cartopy.crs as ccrs\n",
        "import matplotlib.pyplot as plt\n",
        "\n",
        "ax = plt.axes(projection=ccrs.Mollweide())\n",
        "ax.stock_img()\n",
        "plt.show()"
      ],
      "execution_count": null,
      "outputs": []
    },
    {
      "cell_type": "markdown",
      "metadata": {
        "id": "O0BFwDJTgPZa"
      },
      "source": [
        "# Tratamento de erros com estruturas de exceções (try, except)"
      ]
    },
    {
      "cell_type": "markdown",
      "metadata": {
        "id": "Gcq6FeiKGsQl"
      },
      "source": [
        "## Mensagens de erro\n",
        "\n",
        "O interpretador Python informa erros por meio de mensagens que indicam o tipo\n",
        "do erro, assim como onde ele ocorreu (arquivo e linha). \n",
        "\n",
        "Lembre-se de que o interpretador segue regras como qualquer programa e que, às vezes, você pode ter mensagens causadas por erros em outras linhas de seu programa. \n",
        "\n",
        "Utilize as mensagens de erro como um bom palpite do que ocorreu. \n",
        "\n",
        "O que elas realmente indicam é onde, em seu programa, o interpretador foi interrompido e a causa dessa interrupção. \n",
        "\n",
        "É investigando esse palpite que você encontrará o verdadeiro erro."
      ]
    },
    {
      "cell_type": "markdown",
      "metadata": {
        "id": "VFUDN2aIHv2I"
      },
      "source": [
        "### SintaxError\n",
        "\n",
        "Um erro de sintaxe acontece quando o interpretador não consegue ler o que você escreveu. \n",
        "\n",
        "Em outras palavras, seu programa está mal formado, normalmente com erros de digitação ou símbolos esquecidos."
      ]
    },
    {
      "cell_type": "code",
      "metadata": {
        "id": "o1WIPP6-Gsr8"
      },
      "source": [
        "nome = \"Antônio"
      ],
      "execution_count": null,
      "outputs": []
    },
    {
      "cell_type": "markdown",
      "metadata": {
        "id": "gtIlxQmiIfEG"
      },
      "source": [
        "A linha acima foi terminada sem fechar às aspas."
      ]
    },
    {
      "cell_type": "code",
      "metadata": {
        "id": "hCutc1jcGsi3"
      },
      "source": [
        "for e in [1,2,3]\n",
        "  print(e)"
      ],
      "execution_count": null,
      "outputs": []
    },
    {
      "cell_type": "markdown",
      "metadata": {
        "id": "UB29aJyNI5yT"
      },
      "source": [
        "Todas as linhas com *for*, *while*, *if* e *else* devem ser encerradas com o símbolo de: para indicar o início de um novo bloco."
      ]
    },
    {
      "cell_type": "code",
      "metadata": {
        "id": "___ic2p-JIZl"
      },
      "source": [
        "a = 10\n",
        "print a"
      ],
      "execution_count": null,
      "outputs": []
    },
    {
      "cell_type": "markdown",
      "metadata": {
        "id": "-ympzXAKJOR3"
      },
      "source": [
        "A função *print* foi utilizada, mas observe que o parâmetro **a** não foi escrito entre parênteses."
      ]
    },
    {
      "cell_type": "markdown",
      "metadata": {
        "id": "Pk-V1C3XJjxf"
      },
      "source": [
        "---\n",
        "\n",
        "Observe que um circunflexo é exibido na coluna em que o interpretador considera que o erro pode ter acontecido. \n",
        "\n",
        "Essa indicação é apenas uma dica, devendo ser investigada caso a caso. Alguns erros podem fazer com que o interpretador se perca, indicando o lugar errado.\n",
        "\n",
        "Sempre leia a linha indicada na mensagem de erro, mas não se esqueça de também olhar as linhas anteriores, caso não ache o erro.\n",
        "\n",
        "**Sempre que ocorrer um erro de sintaxe, verifique:**\n",
        "\n",
        "1. A linha onde ocorreu um erro (line).\n",
        "2. Se você fechou todas as aspas que abriu, o mesmo valendo para parênteses.\n",
        "3. Os dois pontos após o *while*, *for*, *if*, *else*, definições de função, métodos e classes.\n",
        "4. Se você não trocou letras minúsculas por maiúsculas e vice-versa.\n",
        "5. Se você digitou corretamente todos os nomes."
      ]
    },
    {
      "cell_type": "markdown",
      "metadata": {
        "id": "Kuv3fWqDKI32"
      },
      "source": [
        "### IdentationError"
      ]
    },
    {
      "cell_type": "code",
      "metadata": {
        "id": "7QtsjCY-KMeN"
      },
      "source": [
        "x = 0\n",
        "while x < 10:\n",
        "  print(x)\n",
        " x=x+1"
      ],
      "execution_count": null,
      "outputs": []
    },
    {
      "cell_type": "markdown",
      "metadata": {
        "id": "n-OweEJfKZ3h"
      },
      "source": [
        "Observe que a linha x = x +1 não está alinhada nem com o bloco do *print* nem com o *while*. \n",
        "\n",
        "Todas as linhas de um mesmo bloco devem ser alinhadas na mesma coluna.\n",
        "\n",
        "---\n",
        "\n",
        "Uma variação muito difícil de perceber desse erro é quando misturamos espaços\n",
        "em branco com tabulações (tabs). Configure seu editor de textos para substituir\n",
        "tabs por espaços em branco ou vice-versa. Jamais misture tabulações e espaços\n",
        "em branco em seus programas em Python."
      ]
    },
    {
      "cell_type": "markdown",
      "metadata": {
        "id": "UdwSZ6O7KtE8"
      },
      "source": [
        "### KeyError"
      ]
    },
    {
      "cell_type": "code",
      "metadata": {
        "id": "Q1B25BKoKuMR"
      },
      "source": [
        "mensalidades = {\"carro\":500, \"casa\":1500}\n",
        "print(mensalidades[\"seguro\"])"
      ],
      "execution_count": null,
      "outputs": []
    },
    {
      "cell_type": "markdown",
      "metadata": {
        "id": "-53LugJKK1l1"
      },
      "source": [
        "A exceção *KeyError* ocorre quando acessamos ou tentamos acessar um dicionário\n",
        "usando uma chave que não existe. \n",
        "\n",
        "No exemplo anterior, o dicionário mensalidades contém as chaves carro e casa. Na linha da função *print*, tentamos acessar mensalidades[\"seguro\"]. \n",
        "\n",
        "Nesse caso, \"seguro\" é a chave que causa a mensagem de erro, uma vez que ela não pertence ao dicionário. \n",
        "\n",
        "Atenção ao trabalhar com chaves string, pois Python diferencia letras minúsculas de maiúsculas."
      ]
    },
    {
      "cell_type": "markdown",
      "metadata": {
        "id": "w4U9w_33LOJL"
      },
      "source": [
        "### NameError"
      ]
    },
    {
      "cell_type": "code",
      "metadata": {
        "id": "frYdiKX5LRIS"
      },
      "source": [
        "while z < 0:\n",
        "  print(z)\n",
        "  z = z + 1"
      ],
      "execution_count": null,
      "outputs": []
    },
    {
      "cell_type": "code",
      "metadata": {
        "id": "BRyBcbeT-Gs0"
      },
      "source": [
        "Z = 0\n",
        "\n",
        "while z < 0:\n",
        "  print(z)\n",
        "  z = z + 1"
      ],
      "execution_count": null,
      "outputs": []
    },
    {
      "cell_type": "code",
      "metadata": {
        "id": "NMbCNfyu-One"
      },
      "source": [
        "café = 5\n",
        "\n",
        "while cafe < 0:\n",
        "  print(cafe)\n",
        "  cafe = cafe + 1"
      ],
      "execution_count": null,
      "outputs": []
    },
    {
      "cell_type": "markdown",
      "metadata": {
        "id": "S5YLqesINAFJ"
      },
      "source": [
        "Aqui a variável **x** é utilizada em *while*, mesmo antes de ser iniciada. \n",
        "\n",
        "Toda variável em Python precisa ser inicializada antes de ser utilizada. Lembre-se de que para inicializarmos uma variável devemos atribuir um valor inicial. \n",
        "\n",
        "No caso, poderíamos escrever x=0 antes da linha de while para inicializar a variável x com zero, resolvendo o erro.\n",
        "\n",
        "Ao receber esse erro, verifique também se escreveu corretamente o nome da va-\n",
        "riável. \n",
        "\n",
        "Lembre-se de que o nome de uma variável, como qualquer identificador\n",
        "em Python, leva em consideração variações como letras minúsculas e maiúsculas.\n",
        "\n",
        "Por exemplo X=0 não resolveria o erro, pois x e X são variáveis diferentes. \n",
        "\n",
        "Não se esqueça também de digitar corretamente os acentos, pois nomes acentuados são também diferentes de nomes sem acentos. Assim, posicao é diferente de posição."
      ]
    },
    {
      "cell_type": "markdown",
      "metadata": {
        "id": "2vxB_TEQLP-C"
      },
      "source": [
        "### ValueError\n",
        "\n",
        "A exceção ValueError pode acontecer por diversas causas. \n",
        "\n",
        "Uma delas é a impossibilidade de converter um valor com as funções *int* ou *float*:"
      ]
    },
    {
      "cell_type": "code",
      "metadata": {
        "id": "dG5dEMI0LRlv"
      },
      "source": [
        "int(\"abc\")"
      ],
      "execution_count": null,
      "outputs": []
    },
    {
      "cell_type": "markdown",
      "metadata": {
        "id": "JzRDYNq1MVM4"
      },
      "source": [
        "Ela pode ocorrer se, por exemplo, o valor retornado pela função *input* for inválido.\n",
        "\n",
        "Essa exceção também ocorre quando procuramos uma *string* que não existe,\n",
        "como mostrado abaixo."
      ]
    },
    {
      "cell_type": "code",
      "metadata": {
        "id": "wV_5BPjULSmH"
      },
      "source": [
        "s=\"Alô mundo\""
      ],
      "execution_count": null,
      "outputs": []
    },
    {
      "cell_type": "code",
      "metadata": {
        "id": "BZSSeywdMir7"
      },
      "source": [
        "s.index(\"rei\")"
      ],
      "execution_count": null,
      "outputs": []
    },
    {
      "cell_type": "code",
      "metadata": {
        "id": "vqg76J20-uJZ"
      },
      "source": [
        "s.index(\"Alô\")"
      ],
      "execution_count": null,
      "outputs": []
    },
    {
      "cell_type": "markdown",
      "metadata": {
        "id": "RvEDSVtiLTId"
      },
      "source": [
        "### TypeError\n",
        "\n",
        "Essa exceção acontece se tentamos chamar uma função usando mais parâmetros\n",
        "do que ela recebe. \n",
        "\n",
        "No exemplo abaixo, a função *float* foi chamada com dois parâmetros: 35 e 4. \n",
        "\n",
        "Lembre-se de que números em Python devem ser escritos no formato americano, separando a parte inteira da parte decimal de um número com ponto e não com vírgula. \n",
        "\n",
        "Esse também é um exemplo de que um erro pode ser apresentado como outro erro, exigindo que você sempre interprete a mensagem de forma a saber o que realmente aconteceu."
      ]
    },
    {
      "cell_type": "code",
      "metadata": {
        "id": "SC5BVAOlLYMz"
      },
      "source": [
        "float(35,4)"
      ],
      "execution_count": null,
      "outputs": []
    },
    {
      "cell_type": "markdown",
      "metadata": {
        "id": "ND79mu8iL7mJ"
      },
      "source": [
        "*TypeError* também ocorre quando trocamos o tipo de um índice. \n",
        "\n",
        "No exemplo abaixo, tentamos utilizar a string “marrom” como índice de uma lista. \n",
        "\n",
        "Lembre-se de que listas só podem ser indexadas por números inteiros. \n",
        "\n",
        "Dicionários, por sua vez, permitem índices do tipo string."
      ]
    },
    {
      "cell_type": "code",
      "metadata": {
        "id": "SCLgSYlpMBs3"
      },
      "source": [
        "s[\"amarelo\", \"vermelho\", \"verde\"]"
      ],
      "execution_count": null,
      "outputs": []
    },
    {
      "cell_type": "code",
      "metadata": {
        "id": "B-CK_ZfgMCOX"
      },
      "source": [
        "s[\"marrom\"]"
      ],
      "execution_count": null,
      "outputs": []
    },
    {
      "cell_type": "markdown",
      "metadata": {
        "id": "VAgipvrWLUlt"
      },
      "source": [
        "### IndexError\n",
        "\n",
        "*IndexError* indica que um valor inválido de índice foi utilizado. \n",
        "\n",
        "No exemplo a seguir, a string s contém apenas cinco elementos, podendo ter índices de 0 a 4."
      ]
    },
    {
      "cell_type": "code",
      "metadata": {
        "id": "kZABktEaLY7Y"
      },
      "source": [
        "s = \"ABCDE\"\n",
        "s[20]"
      ],
      "execution_count": null,
      "outputs": []
    },
    {
      "cell_type": "markdown",
      "metadata": {
        "id": "gIvtTmqOHGFC"
      },
      "source": [
        "## Estruturas de exceções (try, except, finally)\n",
        "\n",
        "Quando ocorre um erro, ou *exceção*, como o chamamos, o Python normalmente para e gera uma mensagem de erro.\n",
        "\n",
        "Essas exceções podem ser tratadas usando a instrução **try**."
      ]
    },
    {
      "cell_type": "markdown",
      "metadata": {
        "id": "dfTT-e5FU6ch"
      },
      "source": [
        "Abaixo seguem alguns tipos de situações que resultam em excessões:"
      ]
    },
    {
      "cell_type": "code",
      "metadata": {
        "id": "IVTjyyQNUVNd"
      },
      "source": [
        "1/0 #divisão por zero"
      ],
      "execution_count": null,
      "outputs": []
    },
    {
      "cell_type": "code",
      "metadata": {
        "id": "2YT095RwUVFi"
      },
      "source": [
        "1 + 'e' #soma de tipos não suportado"
      ],
      "execution_count": null,
      "outputs": []
    },
    {
      "cell_type": "code",
      "metadata": {
        "id": "T8BTCaRDVBB7"
      },
      "source": [
        "d = {1:1, 2:2}\n",
        "d[3] #erro de chave"
      ],
      "execution_count": null,
      "outputs": []
    },
    {
      "cell_type": "code",
      "metadata": {
        "id": "zDotQ-fUVCUv"
      },
      "source": [
        "l = [1, 2, 3]\n",
        "l[4]  #erro de posição\n"
      ],
      "execution_count": null,
      "outputs": []
    },
    {
      "cell_type": "code",
      "metadata": {
        "id": "Xl_fPsECVLd1"
      },
      "source": [
        "l.foobar  #erro de atributo"
      ],
      "execution_count": null,
      "outputs": []
    },
    {
      "cell_type": "markdown",
      "metadata": {
        "id": "7XscqocjVdrz"
      },
      "source": [
        "### try/except\n",
        "\n",
        "O bloco **try** permite que você teste erros em um bloco de código.\n",
        "\n",
        "E o bloco **except** permite lidar com o erro.\n"
      ]
    },
    {
      "cell_type": "code",
      "metadata": {
        "id": "4EWQNelzVS7l"
      },
      "source": [
        "while True:\n",
        "  try:\n",
        "    x = int(input('Digite um número: '))\n",
        "    break\n",
        "  except ValueError:\n",
        "    print('Número inválido. Tente novamente ...')"
      ],
      "execution_count": null,
      "outputs": []
    },
    {
      "cell_type": "code",
      "metadata": {
        "id": "OJCwv1H2DU-J"
      },
      "source": [
        "while True:\n",
        "  x = int(input('Digite um número: '))\n",
        "  break"
      ],
      "execution_count": null,
      "outputs": []
    },
    {
      "cell_type": "markdown",
      "metadata": {
        "id": "1QsfC2IEVti9"
      },
      "source": [
        "### try/finally\n",
        "\n",
        "O bloco **finally** permite que você execute código, independentemente do resultado dos blocos try e except.\n",
        "\n"
      ]
    },
    {
      "cell_type": "code",
      "metadata": {
        "id": "872iwLDMVjV7"
      },
      "source": [
        "try:\n",
        "    x = int(input('Digite um número: '))\n",
        "finally:\n",
        "    print('Obrigado pelo número passado!')"
      ],
      "execution_count": null,
      "outputs": []
    },
    {
      "cell_type": "code",
      "metadata": {
        "id": "ty355pNXD7T6"
      },
      "source": [
        "while True:\n",
        "  try:\n",
        "    x = int(input('Digite um número: '))\n",
        "    #break\n",
        "  except ValueError:\n",
        "    print('Número inválido. Tente novamente ...')\n",
        "  finally:\n",
        "    print('Obrigado pelo número passado!')"
      ],
      "execution_count": null,
      "outputs": []
    },
    {
      "cell_type": "code",
      "metadata": {
        "id": "cXDP2L5lFvSt"
      },
      "source": [
        "while True:\n",
        "  try:\n",
        "    x = int(input('Digite um número: '))\n",
        "    #break\n",
        "  finally:\n",
        "    print('Obrigado pelo número passado!')"
      ],
      "execution_count": null,
      "outputs": []
    },
    {
      "cell_type": "markdown",
      "metadata": {
        "id": "xcPWccr5WyND"
      },
      "source": [
        "### Várias excessões\n",
        "\n",
        "Uma cláusula *try* pode ter qualquer número de cláusulas *except* para lidar com diferentes exceções, no entanto, apenas uma será executada no caso de ocorrer uma exceção."
      ]
    },
    {
      "cell_type": "code",
      "metadata": {
        "id": "BH8Oe_KSYC3A"
      },
      "source": [
        "try:\n",
        "   # faça algo\n",
        "   pass\n",
        "\n",
        "except ValueError:\n",
        "   # lida com a exceção ValueError\n",
        "   pass\n",
        "\n",
        "except (TypeError, ZeroDivisionError):\n",
        "    # lida com múltiplas exceções\n",
        "    # TypeError e ZeroDivisionError\n",
        "   pass\n",
        "\n",
        "except:\n",
        "   # lida com todas as outras exceções\n",
        "   pass"
      ],
      "execution_count": null,
      "outputs": []
    },
    {
      "cell_type": "code",
      "metadata": {
        "id": "76h3UyQfW8e8"
      },
      "source": [
        "# Imprime uma mensagem se o bloco try gerar um NameError e outra para outros erros (1):\n",
        "\n",
        "try:\n",
        "  print(y)\n",
        "except NameError:\n",
        "  print(\"A variável y não está definida\")\n",
        "except:\n",
        "  print(\"Alguma outra coisa deu errado!\")"
      ],
      "execution_count": null,
      "outputs": []
    },
    {
      "cell_type": "code",
      "metadata": {
        "id": "XyJHWDWKs5kA"
      },
      "source": [
        "# Imprime uma mensagem se o bloco try gerar um NameError e outra para outros erros (2):\n",
        "\n",
        "try:\n",
        "  y = 10.0\n",
        "  print(y)\n",
        "except NameError:\n",
        "  print(\"A variável y não está definida\")\n",
        "except:\n",
        "  print(\"Alguma outra coisa deu errado!\")"
      ],
      "execution_count": null,
      "outputs": []
    },
    {
      "cell_type": "code",
      "metadata": {
        "id": "KSkdvgmss78U"
      },
      "source": [
        "# Imprime uma mensagem se o bloco try gerar um NameError e outra para outros erros (3):\n",
        "\n",
        "try:\n",
        "  y = 10.0 / 0\n",
        "  print(y)\n",
        "except NameError:\n",
        "  print(\"A variável y não está definida\")\n",
        "except:\n",
        "  print(\"Alguma outra coisa deu errado!\")"
      ],
      "execution_count": null,
      "outputs": []
    },
    {
      "cell_type": "markdown",
      "metadata": {
        "id": "oBGT_jiGYYjl"
      },
      "source": [
        "### try com a cláusula else\n",
        "\n",
        "Em algumas situações, você pode querer executar um determinado bloco de código se o bloco de código dentro de try foi executado **sem erros**. \n",
        "\n",
        "Para esses casos, você pode usar a palavra-chave opcional else com a instrução try.\n",
        "\n",
        "IMPORTANTE: as exceções na cláusula else não são tratadas pelas cláusulas except anteriores."
      ]
    },
    {
      "cell_type": "code",
      "metadata": {
        "id": "GAQ3gSI-YptI"
      },
      "source": [
        "# programa para imprimir o recíproco de números pares\n",
        "\n",
        "try:\n",
        "    num = int(input(\"Digite um número: \"))\n",
        "    assert num % 2 == 0\n",
        "except:\n",
        "    print(\"Não é um número par!\")\n",
        "else:\n",
        "    reciprocal = 1/num\n",
        "    print(reciprocal)"
      ],
      "execution_count": null,
      "outputs": []
    },
    {
      "cell_type": "code",
      "metadata": {
        "id": "SC53ycRcHl_J"
      },
      "source": [
        "# programa para imprimir o recíproco de números pares\n",
        "\n",
        "try:\n",
        "    num = int(input(\"Digite um número: \"))\n",
        "    assert num % 2 == 0\n",
        "except ValueError:\n",
        "    print(\"Entrada ínvalida!\")\n",
        "except:\n",
        "    print(\"Não é um número par!\")\n",
        "else:\n",
        "    reciprocal = 1/num\n",
        "    print(reciprocal)"
      ],
      "execution_count": null,
      "outputs": []
    },
    {
      "cell_type": "markdown",
      "metadata": {
        "id": "8ukbBhHHZAWl"
      },
      "source": [
        "O *assert* existe na maioria das linguagens de programação e tem sempre a mesma função, garantir uma condição para continuar a execução do código.\n",
        "\n",
        "Caso a condição não seja atendida, uma exceção é disparada, e a execução é interrompida.\n"
      ]
    },
    {
      "cell_type": "markdown",
      "metadata": {
        "id": "-o8Vmn_-oQbM"
      },
      "source": [
        "# Controle de fluxo\n",
        "\n",
        "* break\n",
        "* continue\n",
        "* pass\n",
        "\n",
        "Primeiramente, vamos criar uma lista de números:\n",
        "\n"
      ]
    },
    {
      "cell_type": "code",
      "metadata": {
        "id": "B6aCpnZ8UE2d"
      },
      "source": [
        "numeros = list() # ou numeros = [] / ambos os modos criarão uma lista vazia\n",
        "\n",
        "for i in range(10):\n",
        "  numeros.append(i)\n",
        "  print(i)"
      ],
      "execution_count": null,
      "outputs": []
    },
    {
      "cell_type": "code",
      "metadata": {
        "id": "87f9Qk0rS6Z6"
      },
      "source": [
        "print(numeros)"
      ],
      "execution_count": null,
      "outputs": []
    },
    {
      "cell_type": "markdown",
      "metadata": {
        "id": "GikOqMYJowIq"
      },
      "source": [
        "## Break\n",
        "\n",
        "O comando **break**, como no C, sai imediatamente do laço de repetição mais interno, seja *for* ou *while*.\n"
      ]
    },
    {
      "cell_type": "code",
      "metadata": {
        "id": "h2SM9HmCS59R"
      },
      "source": [
        "for item in numeros:\n",
        "  if item >= 2:\n",
        "    break\n",
        "  print(item)"
      ],
      "execution_count": null,
      "outputs": []
    },
    {
      "cell_type": "markdown",
      "metadata": {
        "id": "Bb0M-WfWpAwY"
      },
      "source": [
        "## Continue\n",
        "\n",
        "A instrução **continue**, também emprestada da linguagem C, continua com a próxima iteração do laço:"
      ]
    },
    {
      "cell_type": "code",
      "metadata": {
        "id": "rAJhZ8gjS50e"
      },
      "source": [
        "for item in numeros:\n",
        "  if item == 4:\n",
        "    continue\n",
        "  print(item)"
      ],
      "execution_count": null,
      "outputs": []
    },
    {
      "cell_type": "markdown",
      "metadata": {
        "id": "qZSxBdv7pNBk"
      },
      "source": [
        "## Pass\n",
        "\n",
        "O comando **pass** não faz nada. Pode ser usada quando a sintaxe exige um comando mas a semântica do programa não requer nenhuma ação. Por exemplo:"
      ]
    },
    {
      "cell_type": "code",
      "metadata": {
        "id": "KKUn1axDpNa1"
      },
      "source": [
        "while True:\n",
        "  pass"
      ],
      "execution_count": null,
      "outputs": []
    },
    {
      "cell_type": "markdown",
      "metadata": {
        "id": "kzOW6D2BpToo"
      },
      "source": [
        "Isto é usado muitas vezes para se definir classes mínimas:"
      ]
    },
    {
      "cell_type": "code",
      "metadata": {
        "id": "VkXiGj1jpT99"
      },
      "source": [
        "class MyEmptyClass:\n",
        "  pass"
      ],
      "execution_count": null,
      "outputs": []
    },
    {
      "cell_type": "markdown",
      "metadata": {
        "id": "nLi6ITwBpWX_"
      },
      "source": [
        "Outra ocasião em que o *pass* pode ser usado é como um substituto temporário para uma função ou bloco condicional, quando se está trabalhando com código novo, ainda indefinido, permitindo que mantenha-se o pensamento num nível mais abstrato. O pass é silenciosamente ignorado:"
      ]
    },
    {
      "cell_type": "code",
      "metadata": {
        "id": "gP7PmrdKpac1"
      },
      "source": [
        "def soma_de_quadrados(x, y):\n",
        "  pass # k = x**x + y**y\n",
        "  # return k"
      ],
      "execution_count": null,
      "outputs": []
    },
    {
      "cell_type": "code",
      "metadata": {
        "id": "fWbVuVovpdmQ"
      },
      "source": [
        "def initlog(*args):\n",
        "  pass   "
      ],
      "execution_count": null,
      "outputs": []
    },
    {
      "cell_type": "markdown",
      "metadata": {
        "id": "qDQofjVfpflu"
      },
      "source": [
        "O código acima garante que, ainda que eu não esteja certo a respeito da função, ela possa existir e ser usada no resto do meu código, sem apresentar erros."
      ]
    },
    {
      "cell_type": "markdown",
      "metadata": {
        "id": "inpwD3ha8Ysm"
      },
      "source": [
        "# Referências\n",
        "\n",
        "[Livro: Introdução à Programação com Python: Algoritmos e Lógica de Programação Para Iniciantes - Nilo Ney Coutinho Menezes](https://python.nilo.pro.br/)\n",
        "\n",
        "\n"
      ]
    }
  ]
}